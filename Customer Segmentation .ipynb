{
 "cells": [
  {
   "cell_type": "markdown",
   "id": "modern-factory",
   "metadata": {},
   "source": [
    "## Customer Segmentation"
   ]
  },
  {
   "cell_type": "markdown",
   "id": "wound-elimination",
   "metadata": {},
   "source": [
    "The project has the following parts:\n",
    "\n",
    "1. Overview\n",
    "\n",
    "2. EDA\n",
    "\n",
    "3. Key Performance Index (KPI)\n",
    "\n",
    "4. Modelling\n",
    "\n",
    "5. Summary and Conclusions"
   ]
  },
  {
   "cell_type": "markdown",
   "id": "stuffed-professor",
   "metadata": {},
   "source": [
    "## 1. Overview"
   ]
  },
  {
   "cell_type": "markdown",
   "id": "three-mailman",
   "metadata": {},
   "source": [
    "**1.1 Business Problem**"
   ]
  },
  {
   "cell_type": "markdown",
   "id": "shaped-massachusetts",
   "metadata": {},
   "source": [
    "Customer behavior is crucial for businesses as it ensures that organizations can make decisions and develop business strategies based on the findings.\n",
    "\n",
    "There are major business metrics that businesses base their strategic decisions: revenue and frequency among others."
   ]
  },
  {
   "cell_type": "markdown",
   "id": "incredible-witness",
   "metadata": {},
   "source": [
    "**1.2 Project Goal**"
   ]
  },
  {
   "cell_type": "markdown",
   "id": "front-sellers",
   "metadata": {},
   "source": [
    "The project's objectives are as follows:\n",
    "\n",
    "* Identifying customer segments using the RFM approach\n",
    "\n",
    "* Identifying KPIs"
   ]
  },
  {
   "cell_type": "markdown",
   "id": "liberal-terror",
   "metadata": {},
   "source": [
    "**1.3 Key Attributes Information**"
   ]
  },
  {
   "cell_type": "markdown",
   "id": "saved-craft",
   "metadata": {},
   "source": [
    "| Attribute Name | Summary | Description |\n",
    "|:---|:---|:---|\n",
    "| **InvoiceNo** | Invoice number| Nominal, a 6-digit integral number uniquely assigned to each transaction. If this code starts with letter 'c', it indicates a cancellation | \n",
    "| **StockCode** | Product (item) code | Nominal, a 5-digit integral number uniquely assigned to each distinct product |\n",
    "| **Description** | Product (item) name| Nominal |\n",
    "| **Quantity** | The quantities of each product (item) per transaction | Numeric |\n",
    "| **InvoiceDate** | Invice Date and time | Numeric, the day and time when each transaction was generated |\n",
    "| **UnitPrice** | Unit price | Numeric, Product price per unit in sterling |\n",
    "| **CustomerID** | Customer number | Nominal, a 5-digit integral number uniquely assigned to each customer |\n",
    "| **Country** | Country name | Nominal, the name of the country where each customer resides |"
   ]
  },
  {
   "cell_type": "markdown",
   "id": "cardiovascular-karaoke",
   "metadata": {},
   "source": [
    "**1.4 Key Metrics and KPIs**"
   ]
  },
  {
   "cell_type": "markdown",
   "id": "bulgarian-wheel",
   "metadata": {},
   "source": [
    "1. Monthly Revenue & Revenue Rate\n",
    "2. Monthly Active Customer\n",
    "3. Monthly Order Count\n",
    "4. Average Revenue Per order\n",
    "5. Monthly Order average\n",
    "6. Revenue per month for New and Existing customers\n",
    "7. New Customer Ratio\n"
   ]
  },
  {
   "cell_type": "markdown",
   "id": "saving-walnut",
   "metadata": {},
   "source": [
    "## 2. Exploratory Data Analysis"
   ]
  },
  {
   "cell_type": "markdown",
   "id": "equipped-roommate",
   "metadata": {},
   "source": [
    "## 2.1 Loading Data"
   ]
  },
  {
   "cell_type": "code",
   "execution_count": 1,
   "id": "grateful-details",
   "metadata": {},
   "outputs": [],
   "source": [
    "# Importing key libraries\n",
    "import pandas as pd\n",
    "import numpy as np\n",
    "import seaborn as sns\n",
    "import matplotlib.pyplot as plt\n",
    "from datetime import datetime"
   ]
  },
  {
   "cell_type": "code",
   "execution_count": 2,
   "id": "average-arctic",
   "metadata": {},
   "outputs": [],
   "source": [
    "#Loading data \n",
    "df = pd.read_excel('/home/oldkent/Desktop/Project /My-Project/retail.xlsx')"
   ]
  },
  {
   "cell_type": "code",
   "execution_count": 3,
   "id": "christian-reality",
   "metadata": {},
   "outputs": [],
   "source": [
    "# Creating a copy to avoid re-loading the data due to the size of the file\n",
    "# Work with \"retail\" dataframe and re-load from df as required if needed\n",
    "retail = df"
   ]
  },
  {
   "cell_type": "markdown",
   "id": "naval-radio",
   "metadata": {},
   "source": [
    "## 2.2 Data Review"
   ]
  },
  {
   "cell_type": "code",
   "execution_count": 4,
   "id": "secret-intervention",
   "metadata": {},
   "outputs": [
    {
     "data": {
      "text/plain": [
       "(541909, 8)"
      ]
     },
     "execution_count": 4,
     "metadata": {},
     "output_type": "execute_result"
    }
   ],
   "source": [
    "# Review the shape of the data\n",
    "retail.shape"
   ]
  },
  {
   "cell_type": "code",
   "execution_count": 5,
   "id": "instructional-windows",
   "metadata": {},
   "outputs": [
    {
     "data": {
      "text/html": [
       "<div>\n",
       "<style scoped>\n",
       "    .dataframe tbody tr th:only-of-type {\n",
       "        vertical-align: middle;\n",
       "    }\n",
       "\n",
       "    .dataframe tbody tr th {\n",
       "        vertical-align: top;\n",
       "    }\n",
       "\n",
       "    .dataframe thead th {\n",
       "        text-align: right;\n",
       "    }\n",
       "</style>\n",
       "<table border=\"1\" class=\"dataframe\">\n",
       "  <thead>\n",
       "    <tr style=\"text-align: right;\">\n",
       "      <th></th>\n",
       "      <th>InvoiceNo</th>\n",
       "      <th>StockCode</th>\n",
       "      <th>Description</th>\n",
       "      <th>Quantity</th>\n",
       "      <th>InvoiceDate</th>\n",
       "      <th>UnitPrice</th>\n",
       "      <th>CustomerID</th>\n",
       "      <th>Country</th>\n",
       "    </tr>\n",
       "  </thead>\n",
       "  <tbody>\n",
       "    <tr>\n",
       "      <th>0</th>\n",
       "      <td>536365</td>\n",
       "      <td>85123A</td>\n",
       "      <td>WHITE HANGING HEART T-LIGHT HOLDER</td>\n",
       "      <td>6</td>\n",
       "      <td>2010-12-01 08:26:00</td>\n",
       "      <td>2.55</td>\n",
       "      <td>17850.0</td>\n",
       "      <td>United Kingdom</td>\n",
       "    </tr>\n",
       "    <tr>\n",
       "      <th>1</th>\n",
       "      <td>536365</td>\n",
       "      <td>71053</td>\n",
       "      <td>WHITE METAL LANTERN</td>\n",
       "      <td>6</td>\n",
       "      <td>2010-12-01 08:26:00</td>\n",
       "      <td>3.39</td>\n",
       "      <td>17850.0</td>\n",
       "      <td>United Kingdom</td>\n",
       "    </tr>\n",
       "    <tr>\n",
       "      <th>2</th>\n",
       "      <td>536365</td>\n",
       "      <td>84406B</td>\n",
       "      <td>CREAM CUPID HEARTS COAT HANGER</td>\n",
       "      <td>8</td>\n",
       "      <td>2010-12-01 08:26:00</td>\n",
       "      <td>2.75</td>\n",
       "      <td>17850.0</td>\n",
       "      <td>United Kingdom</td>\n",
       "    </tr>\n",
       "    <tr>\n",
       "      <th>3</th>\n",
       "      <td>536365</td>\n",
       "      <td>84029G</td>\n",
       "      <td>KNITTED UNION FLAG HOT WATER BOTTLE</td>\n",
       "      <td>6</td>\n",
       "      <td>2010-12-01 08:26:00</td>\n",
       "      <td>3.39</td>\n",
       "      <td>17850.0</td>\n",
       "      <td>United Kingdom</td>\n",
       "    </tr>\n",
       "    <tr>\n",
       "      <th>4</th>\n",
       "      <td>536365</td>\n",
       "      <td>84029E</td>\n",
       "      <td>RED WOOLLY HOTTIE WHITE HEART.</td>\n",
       "      <td>6</td>\n",
       "      <td>2010-12-01 08:26:00</td>\n",
       "      <td>3.39</td>\n",
       "      <td>17850.0</td>\n",
       "      <td>United Kingdom</td>\n",
       "    </tr>\n",
       "  </tbody>\n",
       "</table>\n",
       "</div>"
      ],
      "text/plain": [
       "  InvoiceNo StockCode                          Description  Quantity  \\\n",
       "0    536365    85123A   WHITE HANGING HEART T-LIGHT HOLDER         6   \n",
       "1    536365     71053                  WHITE METAL LANTERN         6   \n",
       "2    536365    84406B       CREAM CUPID HEARTS COAT HANGER         8   \n",
       "3    536365    84029G  KNITTED UNION FLAG HOT WATER BOTTLE         6   \n",
       "4    536365    84029E       RED WOOLLY HOTTIE WHITE HEART.         6   \n",
       "\n",
       "          InvoiceDate  UnitPrice  CustomerID         Country  \n",
       "0 2010-12-01 08:26:00       2.55     17850.0  United Kingdom  \n",
       "1 2010-12-01 08:26:00       3.39     17850.0  United Kingdom  \n",
       "2 2010-12-01 08:26:00       2.75     17850.0  United Kingdom  \n",
       "3 2010-12-01 08:26:00       3.39     17850.0  United Kingdom  \n",
       "4 2010-12-01 08:26:00       3.39     17850.0  United Kingdom  "
      ]
     },
     "execution_count": 5,
     "metadata": {},
     "output_type": "execute_result"
    }
   ],
   "source": [
    "retail.head()"
   ]
  },
  {
   "cell_type": "code",
   "execution_count": 6,
   "id": "official-migration",
   "metadata": {},
   "outputs": [
    {
     "name": "stdout",
     "output_type": "stream",
     "text": [
      "<class 'pandas.core.frame.DataFrame'>\n",
      "RangeIndex: 541909 entries, 0 to 541908\n",
      "Data columns (total 8 columns):\n",
      " #   Column       Non-Null Count   Dtype         \n",
      "---  ------       --------------   -----         \n",
      " 0   InvoiceNo    541909 non-null  object        \n",
      " 1   StockCode    541909 non-null  object        \n",
      " 2   Description  540455 non-null  object        \n",
      " 3   Quantity     541909 non-null  int64         \n",
      " 4   InvoiceDate  541909 non-null  datetime64[ns]\n",
      " 5   UnitPrice    541909 non-null  float64       \n",
      " 6   CustomerID   406829 non-null  float64       \n",
      " 7   Country      541909 non-null  object        \n",
      "dtypes: datetime64[ns](1), float64(2), int64(1), object(4)\n",
      "memory usage: 33.1+ MB\n"
     ]
    }
   ],
   "source": [
    "# Inspect the dataset for missing values, datatypes & memory size\n",
    "retail.info()"
   ]
  },
  {
   "cell_type": "code",
   "execution_count": 7,
   "id": "contained-sunglasses",
   "metadata": {},
   "outputs": [
    {
     "data": {
      "text/plain": [
       "InvoiceNo           0\n",
       "StockCode           0\n",
       "Description      1454\n",
       "Quantity            0\n",
       "InvoiceDate         0\n",
       "UnitPrice           0\n",
       "CustomerID     135080\n",
       "Country             0\n",
       "dtype: int64"
      ]
     },
     "execution_count": 7,
     "metadata": {},
     "output_type": "execute_result"
    }
   ],
   "source": [
    "# View of NA rows across different features\n",
    "retail.isna().sum()"
   ]
  },
  {
   "cell_type": "code",
   "execution_count": 8,
   "id": "composed-eclipse",
   "metadata": {},
   "outputs": [
    {
     "data": {
      "text/plain": [
       "(406829, 8)"
      ]
     },
     "execution_count": 8,
     "metadata": {},
     "output_type": "execute_result"
    }
   ],
   "source": [
    "# If we dropped any rows with NA, how many rows would we have left?\n",
    "retail.dropna().shape"
   ]
  },
  {
   "cell_type": "code",
   "execution_count": 9,
   "id": "fossil-maximum",
   "metadata": {},
   "outputs": [
    {
     "data": {
      "text/html": [
       "<div>\n",
       "<style scoped>\n",
       "    .dataframe tbody tr th:only-of-type {\n",
       "        vertical-align: middle;\n",
       "    }\n",
       "\n",
       "    .dataframe tbody tr th {\n",
       "        vertical-align: top;\n",
       "    }\n",
       "\n",
       "    .dataframe thead th {\n",
       "        text-align: right;\n",
       "    }\n",
       "</style>\n",
       "<table border=\"1\" class=\"dataframe\">\n",
       "  <thead>\n",
       "    <tr style=\"text-align: right;\">\n",
       "      <th></th>\n",
       "      <th>InvoiceNo</th>\n",
       "      <th>StockCode</th>\n",
       "      <th>Description</th>\n",
       "      <th>Country</th>\n",
       "    </tr>\n",
       "  </thead>\n",
       "  <tbody>\n",
       "    <tr>\n",
       "      <th>count</th>\n",
       "      <td>541909</td>\n",
       "      <td>541909</td>\n",
       "      <td>540455</td>\n",
       "      <td>541909</td>\n",
       "    </tr>\n",
       "    <tr>\n",
       "      <th>unique</th>\n",
       "      <td>25900</td>\n",
       "      <td>4070</td>\n",
       "      <td>4223</td>\n",
       "      <td>38</td>\n",
       "    </tr>\n",
       "    <tr>\n",
       "      <th>top</th>\n",
       "      <td>573585</td>\n",
       "      <td>85123A</td>\n",
       "      <td>WHITE HANGING HEART T-LIGHT HOLDER</td>\n",
       "      <td>United Kingdom</td>\n",
       "    </tr>\n",
       "    <tr>\n",
       "      <th>freq</th>\n",
       "      <td>1114</td>\n",
       "      <td>2313</td>\n",
       "      <td>2369</td>\n",
       "      <td>495478</td>\n",
       "    </tr>\n",
       "  </tbody>\n",
       "</table>\n",
       "</div>"
      ],
      "text/plain": [
       "        InvoiceNo StockCode                         Description  \\\n",
       "count      541909    541909                              540455   \n",
       "unique      25900      4070                                4223   \n",
       "top        573585    85123A  WHITE HANGING HEART T-LIGHT HOLDER   \n",
       "freq         1114      2313                                2369   \n",
       "\n",
       "               Country  \n",
       "count           541909  \n",
       "unique              38  \n",
       "top     United Kingdom  \n",
       "freq            495478  "
      ]
     },
     "execution_count": 9,
     "metadata": {},
     "output_type": "execute_result"
    }
   ],
   "source": [
    "# Display object key information including Count, Unique values, Top value and frequency\n",
    "retail.describe(include=['object'])"
   ]
  },
  {
   "cell_type": "code",
   "execution_count": 10,
   "id": "portuguese-mailing",
   "metadata": {},
   "outputs": [
    {
     "data": {
      "text/html": [
       "<div>\n",
       "<style scoped>\n",
       "    .dataframe tbody tr th:only-of-type {\n",
       "        vertical-align: middle;\n",
       "    }\n",
       "\n",
       "    .dataframe tbody tr th {\n",
       "        vertical-align: top;\n",
       "    }\n",
       "\n",
       "    .dataframe thead th {\n",
       "        text-align: right;\n",
       "    }\n",
       "</style>\n",
       "<table border=\"1\" class=\"dataframe\">\n",
       "  <thead>\n",
       "    <tr style=\"text-align: right;\">\n",
       "      <th></th>\n",
       "      <th>Quantity</th>\n",
       "      <th>UnitPrice</th>\n",
       "      <th>CustomerID</th>\n",
       "    </tr>\n",
       "  </thead>\n",
       "  <tbody>\n",
       "    <tr>\n",
       "      <th>count</th>\n",
       "      <td>541909.000000</td>\n",
       "      <td>541909.000000</td>\n",
       "      <td>406829.000000</td>\n",
       "    </tr>\n",
       "    <tr>\n",
       "      <th>mean</th>\n",
       "      <td>9.552250</td>\n",
       "      <td>4.611114</td>\n",
       "      <td>15287.690570</td>\n",
       "    </tr>\n",
       "    <tr>\n",
       "      <th>std</th>\n",
       "      <td>218.081158</td>\n",
       "      <td>96.759853</td>\n",
       "      <td>1713.600303</td>\n",
       "    </tr>\n",
       "    <tr>\n",
       "      <th>min</th>\n",
       "      <td>-80995.000000</td>\n",
       "      <td>-11062.060000</td>\n",
       "      <td>12346.000000</td>\n",
       "    </tr>\n",
       "    <tr>\n",
       "      <th>25%</th>\n",
       "      <td>1.000000</td>\n",
       "      <td>1.250000</td>\n",
       "      <td>13953.000000</td>\n",
       "    </tr>\n",
       "    <tr>\n",
       "      <th>50%</th>\n",
       "      <td>3.000000</td>\n",
       "      <td>2.080000</td>\n",
       "      <td>15152.000000</td>\n",
       "    </tr>\n",
       "    <tr>\n",
       "      <th>75%</th>\n",
       "      <td>10.000000</td>\n",
       "      <td>4.130000</td>\n",
       "      <td>16791.000000</td>\n",
       "    </tr>\n",
       "    <tr>\n",
       "      <th>max</th>\n",
       "      <td>80995.000000</td>\n",
       "      <td>38970.000000</td>\n",
       "      <td>18287.000000</td>\n",
       "    </tr>\n",
       "  </tbody>\n",
       "</table>\n",
       "</div>"
      ],
      "text/plain": [
       "            Quantity      UnitPrice     CustomerID\n",
       "count  541909.000000  541909.000000  406829.000000\n",
       "mean        9.552250       4.611114   15287.690570\n",
       "std       218.081158      96.759853    1713.600303\n",
       "min    -80995.000000  -11062.060000   12346.000000\n",
       "25%         1.000000       1.250000   13953.000000\n",
       "50%         3.000000       2.080000   15152.000000\n",
       "75%        10.000000       4.130000   16791.000000\n",
       "max     80995.000000   38970.000000   18287.000000"
      ]
     },
     "execution_count": 10,
     "metadata": {},
     "output_type": "execute_result"
    }
   ],
   "source": [
    "# Display statistics for numeric features including Count, Mean, Standard Deviation, Min, Max, etc...\n",
    "retail.describe()"
   ]
  },
  {
   "cell_type": "code",
   "execution_count": 11,
   "id": "pharmaceutical-gregory",
   "metadata": {},
   "outputs": [
    {
     "data": {
      "text/plain": [
       "10624"
      ]
     },
     "execution_count": 11,
     "metadata": {},
     "output_type": "execute_result"
    }
   ],
   "source": [
    "# Number of records with negative quantity\n",
    "retail.Quantity[retail.Quantity < 0 ].count()"
   ]
  },
  {
   "cell_type": "code",
   "execution_count": 12,
   "id": "improving-forge",
   "metadata": {},
   "outputs": [
    {
     "data": {
      "text/html": [
       "<div>\n",
       "<style scoped>\n",
       "    .dataframe tbody tr th:only-of-type {\n",
       "        vertical-align: middle;\n",
       "    }\n",
       "\n",
       "    .dataframe tbody tr th {\n",
       "        vertical-align: top;\n",
       "    }\n",
       "\n",
       "    .dataframe thead th {\n",
       "        text-align: right;\n",
       "    }\n",
       "</style>\n",
       "<table border=\"1\" class=\"dataframe\">\n",
       "  <thead>\n",
       "    <tr style=\"text-align: right;\">\n",
       "      <th></th>\n",
       "      <th>InvoiceNo</th>\n",
       "      <th>StockCode</th>\n",
       "      <th>Description</th>\n",
       "      <th>Quantity</th>\n",
       "      <th>InvoiceDate</th>\n",
       "      <th>UnitPrice</th>\n",
       "      <th>CustomerID</th>\n",
       "      <th>Country</th>\n",
       "    </tr>\n",
       "  </thead>\n",
       "  <tbody>\n",
       "    <tr>\n",
       "      <th>141</th>\n",
       "      <td>C536379</td>\n",
       "      <td>D</td>\n",
       "      <td>Discount</td>\n",
       "      <td>-1</td>\n",
       "      <td>2010-12-01 09:41:00</td>\n",
       "      <td>27.50</td>\n",
       "      <td>14527.0</td>\n",
       "      <td>United Kingdom</td>\n",
       "    </tr>\n",
       "    <tr>\n",
       "      <th>154</th>\n",
       "      <td>C536383</td>\n",
       "      <td>35004C</td>\n",
       "      <td>SET OF 3 COLOURED  FLYING DUCKS</td>\n",
       "      <td>-1</td>\n",
       "      <td>2010-12-01 09:49:00</td>\n",
       "      <td>4.65</td>\n",
       "      <td>15311.0</td>\n",
       "      <td>United Kingdom</td>\n",
       "    </tr>\n",
       "    <tr>\n",
       "      <th>235</th>\n",
       "      <td>C536391</td>\n",
       "      <td>22556</td>\n",
       "      <td>PLASTERS IN TIN CIRCUS PARADE</td>\n",
       "      <td>-12</td>\n",
       "      <td>2010-12-01 10:24:00</td>\n",
       "      <td>1.65</td>\n",
       "      <td>17548.0</td>\n",
       "      <td>United Kingdom</td>\n",
       "    </tr>\n",
       "    <tr>\n",
       "      <th>236</th>\n",
       "      <td>C536391</td>\n",
       "      <td>21984</td>\n",
       "      <td>PACK OF 12 PINK PAISLEY TISSUES</td>\n",
       "      <td>-24</td>\n",
       "      <td>2010-12-01 10:24:00</td>\n",
       "      <td>0.29</td>\n",
       "      <td>17548.0</td>\n",
       "      <td>United Kingdom</td>\n",
       "    </tr>\n",
       "    <tr>\n",
       "      <th>237</th>\n",
       "      <td>C536391</td>\n",
       "      <td>21983</td>\n",
       "      <td>PACK OF 12 BLUE PAISLEY TISSUES</td>\n",
       "      <td>-24</td>\n",
       "      <td>2010-12-01 10:24:00</td>\n",
       "      <td>0.29</td>\n",
       "      <td>17548.0</td>\n",
       "      <td>United Kingdom</td>\n",
       "    </tr>\n",
       "    <tr>\n",
       "      <th>238</th>\n",
       "      <td>C536391</td>\n",
       "      <td>21980</td>\n",
       "      <td>PACK OF 12 RED RETROSPOT TISSUES</td>\n",
       "      <td>-24</td>\n",
       "      <td>2010-12-01 10:24:00</td>\n",
       "      <td>0.29</td>\n",
       "      <td>17548.0</td>\n",
       "      <td>United Kingdom</td>\n",
       "    </tr>\n",
       "    <tr>\n",
       "      <th>239</th>\n",
       "      <td>C536391</td>\n",
       "      <td>21484</td>\n",
       "      <td>CHICK GREY HOT WATER BOTTLE</td>\n",
       "      <td>-12</td>\n",
       "      <td>2010-12-01 10:24:00</td>\n",
       "      <td>3.45</td>\n",
       "      <td>17548.0</td>\n",
       "      <td>United Kingdom</td>\n",
       "    </tr>\n",
       "    <tr>\n",
       "      <th>240</th>\n",
       "      <td>C536391</td>\n",
       "      <td>22557</td>\n",
       "      <td>PLASTERS IN TIN VINTAGE PAISLEY</td>\n",
       "      <td>-12</td>\n",
       "      <td>2010-12-01 10:24:00</td>\n",
       "      <td>1.65</td>\n",
       "      <td>17548.0</td>\n",
       "      <td>United Kingdom</td>\n",
       "    </tr>\n",
       "    <tr>\n",
       "      <th>241</th>\n",
       "      <td>C536391</td>\n",
       "      <td>22553</td>\n",
       "      <td>PLASTERS IN TIN SKULLS</td>\n",
       "      <td>-24</td>\n",
       "      <td>2010-12-01 10:24:00</td>\n",
       "      <td>1.65</td>\n",
       "      <td>17548.0</td>\n",
       "      <td>United Kingdom</td>\n",
       "    </tr>\n",
       "    <tr>\n",
       "      <th>939</th>\n",
       "      <td>C536506</td>\n",
       "      <td>22960</td>\n",
       "      <td>JAM MAKING SET WITH JARS</td>\n",
       "      <td>-6</td>\n",
       "      <td>2010-12-01 12:38:00</td>\n",
       "      <td>4.25</td>\n",
       "      <td>17897.0</td>\n",
       "      <td>United Kingdom</td>\n",
       "    </tr>\n",
       "  </tbody>\n",
       "</table>\n",
       "</div>"
      ],
      "text/plain": [
       "    InvoiceNo StockCode                        Description  Quantity  \\\n",
       "141   C536379         D                           Discount        -1   \n",
       "154   C536383    35004C    SET OF 3 COLOURED  FLYING DUCKS        -1   \n",
       "235   C536391     22556     PLASTERS IN TIN CIRCUS PARADE        -12   \n",
       "236   C536391     21984   PACK OF 12 PINK PAISLEY TISSUES        -24   \n",
       "237   C536391     21983   PACK OF 12 BLUE PAISLEY TISSUES        -24   \n",
       "238   C536391     21980  PACK OF 12 RED RETROSPOT TISSUES        -24   \n",
       "239   C536391     21484        CHICK GREY HOT WATER BOTTLE       -12   \n",
       "240   C536391     22557   PLASTERS IN TIN VINTAGE PAISLEY        -12   \n",
       "241   C536391     22553             PLASTERS IN TIN SKULLS       -24   \n",
       "939   C536506     22960           JAM MAKING SET WITH JARS        -6   \n",
       "\n",
       "            InvoiceDate  UnitPrice  CustomerID         Country  \n",
       "141 2010-12-01 09:41:00      27.50     14527.0  United Kingdom  \n",
       "154 2010-12-01 09:49:00       4.65     15311.0  United Kingdom  \n",
       "235 2010-12-01 10:24:00       1.65     17548.0  United Kingdom  \n",
       "236 2010-12-01 10:24:00       0.29     17548.0  United Kingdom  \n",
       "237 2010-12-01 10:24:00       0.29     17548.0  United Kingdom  \n",
       "238 2010-12-01 10:24:00       0.29     17548.0  United Kingdom  \n",
       "239 2010-12-01 10:24:00       3.45     17548.0  United Kingdom  \n",
       "240 2010-12-01 10:24:00       1.65     17548.0  United Kingdom  \n",
       "241 2010-12-01 10:24:00       1.65     17548.0  United Kingdom  \n",
       "939 2010-12-01 12:38:00       4.25     17897.0  United Kingdom  "
      ]
     },
     "execution_count": 12,
     "metadata": {},
     "output_type": "execute_result"
    }
   ],
   "source": [
    "# Quick inspection of top records with Negative Quantity\n",
    "retail.loc[retail.Quantity < 0].head(10)"
   ]
  },
  {
   "cell_type": "code",
   "execution_count": 13,
   "id": "institutional-publicity",
   "metadata": {},
   "outputs": [
    {
     "data": {
      "text/plain": [
       "2"
      ]
     },
     "execution_count": 13,
     "metadata": {},
     "output_type": "execute_result"
    }
   ],
   "source": [
    "# Number of records with negative Unit Price\n",
    "retail.UnitPrice[retail.UnitPrice < 0].count()"
   ]
  },
  {
   "cell_type": "code",
   "execution_count": 14,
   "id": "suburban-webster",
   "metadata": {},
   "outputs": [
    {
     "data": {
      "text/html": [
       "<div>\n",
       "<style scoped>\n",
       "    .dataframe tbody tr th:only-of-type {\n",
       "        vertical-align: middle;\n",
       "    }\n",
       "\n",
       "    .dataframe tbody tr th {\n",
       "        vertical-align: top;\n",
       "    }\n",
       "\n",
       "    .dataframe thead th {\n",
       "        text-align: right;\n",
       "    }\n",
       "</style>\n",
       "<table border=\"1\" class=\"dataframe\">\n",
       "  <thead>\n",
       "    <tr style=\"text-align: right;\">\n",
       "      <th></th>\n",
       "      <th>InvoiceNo</th>\n",
       "      <th>StockCode</th>\n",
       "      <th>Description</th>\n",
       "      <th>Quantity</th>\n",
       "      <th>InvoiceDate</th>\n",
       "      <th>UnitPrice</th>\n",
       "      <th>CustomerID</th>\n",
       "      <th>Country</th>\n",
       "    </tr>\n",
       "  </thead>\n",
       "  <tbody>\n",
       "    <tr>\n",
       "      <th>299983</th>\n",
       "      <td>A563186</td>\n",
       "      <td>B</td>\n",
       "      <td>Adjust bad debt</td>\n",
       "      <td>1</td>\n",
       "      <td>2011-08-12 14:51:00</td>\n",
       "      <td>-11062.06</td>\n",
       "      <td>NaN</td>\n",
       "      <td>United Kingdom</td>\n",
       "    </tr>\n",
       "    <tr>\n",
       "      <th>299984</th>\n",
       "      <td>A563187</td>\n",
       "      <td>B</td>\n",
       "      <td>Adjust bad debt</td>\n",
       "      <td>1</td>\n",
       "      <td>2011-08-12 14:52:00</td>\n",
       "      <td>-11062.06</td>\n",
       "      <td>NaN</td>\n",
       "      <td>United Kingdom</td>\n",
       "    </tr>\n",
       "  </tbody>\n",
       "</table>\n",
       "</div>"
      ],
      "text/plain": [
       "       InvoiceNo StockCode      Description  Quantity         InvoiceDate  \\\n",
       "299983   A563186         B  Adjust bad debt         1 2011-08-12 14:51:00   \n",
       "299984   A563187         B  Adjust bad debt         1 2011-08-12 14:52:00   \n",
       "\n",
       "        UnitPrice  CustomerID         Country  \n",
       "299983  -11062.06         NaN  United Kingdom  \n",
       "299984  -11062.06         NaN  United Kingdom  "
      ]
     },
     "execution_count": 14,
     "metadata": {},
     "output_type": "execute_result"
    }
   ],
   "source": [
    "# Quick inspection of top records with Negative Unit Price\n",
    "retail.loc[retail.UnitPrice < 0].head()"
   ]
  },
  {
   "cell_type": "markdown",
   "id": "starting-cache",
   "metadata": {},
   "source": [
    "**Summary of the Data Review**\n",
    "1. InvoiceNo\n",
    "* Most invoices are normal transcations with positive quantity and prices. However, some with prefix \"C\" and \"A\" have negative Quantity and Unit Prices, respectively.\n",
    "* It is important to breakdown the InvoiceNo code\n",
    "\n",
    "2. CustomerID\n",
    "* It contains NaN in about 135k entries\n",
    "* Empty records will be dropped\n",
    "\n",
    "3. Description\n",
    "* Empty entries are about over 1000 entries\n",
    "* Empty records will be dropped\n",
    "\n",
    "4. Quantity\n",
    "* There are about 10k negative entries\n",
    "* Drop records based on specific rules\n",
    "\n",
    "5. UnitPrice\n",
    "* There are 2 negative entries\n",
    "* Drop the records based on specific rules\n",
    "\n",
    "6. Dates\n",
    "* Must be separated from the InvoiceDate to develop new features in the name of Month and Year"
   ]
  },
  {
   "cell_type": "markdown",
   "id": "positive-notebook",
   "metadata": {},
   "source": [
    "## 2.3 Data Analysis, Pre-processing and Feature Engineering"
   ]
  },
  {
   "cell_type": "markdown",
   "id": "convenient-earthquake",
   "metadata": {},
   "source": [
    "Generation of features:\n",
    "\n",
    "1. Break down InvoiceNo to\n",
    "   * InvoiceNumber - new feature\n",
    "   * InvoiceCode - new feature\n",
    "\n",
    "2. Break down InvoiceDate to\n",
    "   * InvoiceYearMonth - new feature\n",
    "   * InvoiceYear - new feature\n",
    "   * InvoiceMonth - new feature\n",
    "\n",
    "3. The rest of the Data Analysis and pre-processing will involve:\n",
    "   * Definining Active population based on feature rules\n",
    "   * Creating Masks for filtering out bad data (empty or Null Values, negative prices, etc...) that don't contribute towards the active population\n",
    "   * Visualising some of our data to get a better idea of the population\n"
   ]
  },
  {
   "cell_type": "markdown",
   "id": "olive-automation",
   "metadata": {},
   "source": [
    "## 2.3.1 Construct New Features"
   ]
  },
  {
   "cell_type": "markdown",
   "id": "stuffed-wheel",
   "metadata": {},
   "source": [
    "**2.3.1.1 Invoice**"
   ]
  },
  {
   "cell_type": "code",
   "execution_count": 15,
   "id": "otherwise-strengthening",
   "metadata": {},
   "outputs": [],
   "source": [
    "# Breaking down Invoice Number into Code and Number\n",
    "retail['InvoiceNumber'] = retail.InvoiceNo.astype(str).str[-6:]\n",
    "retail['InvoiceCode'] = retail.InvoiceNo.astype(str).str[-7:-6]"
   ]
  },
  {
   "cell_type": "markdown",
   "id": "emerging-trailer",
   "metadata": {},
   "source": [
    "**2.3.1.2**"
   ]
  },
  {
   "cell_type": "code",
   "execution_count": 16,
   "id": "exact-farming",
   "metadata": {},
   "outputs": [],
   "source": [
    "# Transforming InvoiceDate column to datetime type and mapping to a new columne as InvoiceDateTime\n",
    "retail['InvoiceDate'] = pd.to_datetime(retail['InvoiceDate'])"
   ]
  },
  {
   "cell_type": "code",
   "execution_count": 17,
   "id": "earlier-overview",
   "metadata": {},
   "outputs": [],
   "source": [
    "# Construct Year, Month and YearMonth from Invoice Date field\n",
    "retail['Year'], retail['Month'] = retail['InvoiceDate'].dt.year, retail['InvoiceDate'].dt.month\n",
    "retail['YearMonth'] = retail['InvoiceDate'].map(lambda x: 100*x.year + x.month)"
   ]
  },
  {
   "cell_type": "code",
   "execution_count": 18,
   "id": "limited-consensus",
   "metadata": {},
   "outputs": [],
   "source": [
    "# Create \"Date\" column in datetime format to use for index\n",
    "retail['Date'] = pd.to_datetime(retail.InvoiceDate.dt.date)\n",
    "retail.set_index('Date', inplace=True)"
   ]
  },
  {
   "cell_type": "code",
   "execution_count": 19,
   "id": "modified-burst",
   "metadata": {},
   "outputs": [
    {
     "name": "stdout",
     "output_type": "stream",
     "text": [
      "<class 'pandas.core.frame.DataFrame'>\n",
      "DatetimeIndex: 541909 entries, 2010-12-01 to 2011-12-09\n",
      "Data columns (total 13 columns):\n",
      " #   Column         Non-Null Count   Dtype         \n",
      "---  ------         --------------   -----         \n",
      " 0   InvoiceNo      541909 non-null  object        \n",
      " 1   StockCode      541909 non-null  object        \n",
      " 2   Description    540455 non-null  object        \n",
      " 3   Quantity       541909 non-null  int64         \n",
      " 4   InvoiceDate    541909 non-null  datetime64[ns]\n",
      " 5   UnitPrice      541909 non-null  float64       \n",
      " 6   CustomerID     406829 non-null  float64       \n",
      " 7   Country        541909 non-null  object        \n",
      " 8   InvoiceNumber  541909 non-null  object        \n",
      " 9   InvoiceCode    541909 non-null  object        \n",
      " 10  Year           541909 non-null  int64         \n",
      " 11  Month          541909 non-null  int64         \n",
      " 12  YearMonth      541909 non-null  int64         \n",
      "dtypes: datetime64[ns](1), float64(2), int64(4), object(6)\n",
      "memory usage: 57.9+ MB\n"
     ]
    }
   ],
   "source": [
    "retail.info()"
   ]
  },
  {
   "cell_type": "code",
   "execution_count": 20,
   "id": "collectible-growth",
   "metadata": {},
   "outputs": [
    {
     "data": {
      "text/html": [
       "<div>\n",
       "<style scoped>\n",
       "    .dataframe tbody tr th:only-of-type {\n",
       "        vertical-align: middle;\n",
       "    }\n",
       "\n",
       "    .dataframe tbody tr th {\n",
       "        vertical-align: top;\n",
       "    }\n",
       "\n",
       "    .dataframe thead th {\n",
       "        text-align: right;\n",
       "    }\n",
       "</style>\n",
       "<table border=\"1\" class=\"dataframe\">\n",
       "  <thead>\n",
       "    <tr style=\"text-align: right;\">\n",
       "      <th></th>\n",
       "      <th>InvoiceNo</th>\n",
       "      <th>StockCode</th>\n",
       "      <th>Description</th>\n",
       "      <th>Quantity</th>\n",
       "      <th>InvoiceDate</th>\n",
       "      <th>UnitPrice</th>\n",
       "      <th>CustomerID</th>\n",
       "      <th>Country</th>\n",
       "      <th>InvoiceNumber</th>\n",
       "      <th>InvoiceCode</th>\n",
       "      <th>Year</th>\n",
       "      <th>Month</th>\n",
       "      <th>YearMonth</th>\n",
       "    </tr>\n",
       "    <tr>\n",
       "      <th>Date</th>\n",
       "      <th></th>\n",
       "      <th></th>\n",
       "      <th></th>\n",
       "      <th></th>\n",
       "      <th></th>\n",
       "      <th></th>\n",
       "      <th></th>\n",
       "      <th></th>\n",
       "      <th></th>\n",
       "      <th></th>\n",
       "      <th></th>\n",
       "      <th></th>\n",
       "      <th></th>\n",
       "    </tr>\n",
       "  </thead>\n",
       "  <tbody>\n",
       "    <tr>\n",
       "      <th>2010-12-01</th>\n",
       "      <td>536365</td>\n",
       "      <td>85123A</td>\n",
       "      <td>WHITE HANGING HEART T-LIGHT HOLDER</td>\n",
       "      <td>6</td>\n",
       "      <td>2010-12-01 08:26:00</td>\n",
       "      <td>2.55</td>\n",
       "      <td>17850.0</td>\n",
       "      <td>United Kingdom</td>\n",
       "      <td>536365</td>\n",
       "      <td></td>\n",
       "      <td>2010</td>\n",
       "      <td>12</td>\n",
       "      <td>201012</td>\n",
       "    </tr>\n",
       "    <tr>\n",
       "      <th>2010-12-01</th>\n",
       "      <td>536365</td>\n",
       "      <td>71053</td>\n",
       "      <td>WHITE METAL LANTERN</td>\n",
       "      <td>6</td>\n",
       "      <td>2010-12-01 08:26:00</td>\n",
       "      <td>3.39</td>\n",
       "      <td>17850.0</td>\n",
       "      <td>United Kingdom</td>\n",
       "      <td>536365</td>\n",
       "      <td></td>\n",
       "      <td>2010</td>\n",
       "      <td>12</td>\n",
       "      <td>201012</td>\n",
       "    </tr>\n",
       "    <tr>\n",
       "      <th>2010-12-01</th>\n",
       "      <td>536365</td>\n",
       "      <td>84406B</td>\n",
       "      <td>CREAM CUPID HEARTS COAT HANGER</td>\n",
       "      <td>8</td>\n",
       "      <td>2010-12-01 08:26:00</td>\n",
       "      <td>2.75</td>\n",
       "      <td>17850.0</td>\n",
       "      <td>United Kingdom</td>\n",
       "      <td>536365</td>\n",
       "      <td></td>\n",
       "      <td>2010</td>\n",
       "      <td>12</td>\n",
       "      <td>201012</td>\n",
       "    </tr>\n",
       "    <tr>\n",
       "      <th>2010-12-01</th>\n",
       "      <td>536365</td>\n",
       "      <td>84029G</td>\n",
       "      <td>KNITTED UNION FLAG HOT WATER BOTTLE</td>\n",
       "      <td>6</td>\n",
       "      <td>2010-12-01 08:26:00</td>\n",
       "      <td>3.39</td>\n",
       "      <td>17850.0</td>\n",
       "      <td>United Kingdom</td>\n",
       "      <td>536365</td>\n",
       "      <td></td>\n",
       "      <td>2010</td>\n",
       "      <td>12</td>\n",
       "      <td>201012</td>\n",
       "    </tr>\n",
       "    <tr>\n",
       "      <th>2010-12-01</th>\n",
       "      <td>536365</td>\n",
       "      <td>84029E</td>\n",
       "      <td>RED WOOLLY HOTTIE WHITE HEART.</td>\n",
       "      <td>6</td>\n",
       "      <td>2010-12-01 08:26:00</td>\n",
       "      <td>3.39</td>\n",
       "      <td>17850.0</td>\n",
       "      <td>United Kingdom</td>\n",
       "      <td>536365</td>\n",
       "      <td></td>\n",
       "      <td>2010</td>\n",
       "      <td>12</td>\n",
       "      <td>201012</td>\n",
       "    </tr>\n",
       "  </tbody>\n",
       "</table>\n",
       "</div>"
      ],
      "text/plain": [
       "           InvoiceNo StockCode                          Description  Quantity  \\\n",
       "Date                                                                            \n",
       "2010-12-01    536365    85123A   WHITE HANGING HEART T-LIGHT HOLDER         6   \n",
       "2010-12-01    536365     71053                  WHITE METAL LANTERN         6   \n",
       "2010-12-01    536365    84406B       CREAM CUPID HEARTS COAT HANGER         8   \n",
       "2010-12-01    536365    84029G  KNITTED UNION FLAG HOT WATER BOTTLE         6   \n",
       "2010-12-01    536365    84029E       RED WOOLLY HOTTIE WHITE HEART.         6   \n",
       "\n",
       "                   InvoiceDate  UnitPrice  CustomerID         Country  \\\n",
       "Date                                                                    \n",
       "2010-12-01 2010-12-01 08:26:00       2.55     17850.0  United Kingdom   \n",
       "2010-12-01 2010-12-01 08:26:00       3.39     17850.0  United Kingdom   \n",
       "2010-12-01 2010-12-01 08:26:00       2.75     17850.0  United Kingdom   \n",
       "2010-12-01 2010-12-01 08:26:00       3.39     17850.0  United Kingdom   \n",
       "2010-12-01 2010-12-01 08:26:00       3.39     17850.0  United Kingdom   \n",
       "\n",
       "           InvoiceNumber InvoiceCode  Year  Month  YearMonth  \n",
       "Date                                                          \n",
       "2010-12-01        536365              2010     12     201012  \n",
       "2010-12-01        536365              2010     12     201012  \n",
       "2010-12-01        536365              2010     12     201012  \n",
       "2010-12-01        536365              2010     12     201012  \n",
       "2010-12-01        536365              2010     12     201012  "
      ]
     },
     "execution_count": 20,
     "metadata": {},
     "output_type": "execute_result"
    }
   ],
   "source": [
    "retail.head()"
   ]
  },
  {
   "cell_type": "markdown",
   "id": "current-sterling",
   "metadata": {},
   "source": [
    "## 2.3.2 Processing New Features"
   ]
  },
  {
   "cell_type": "markdown",
   "id": "infectious-commission",
   "metadata": {},
   "source": [
    "**2.3.2.1 InvoiceNo Processing**"
   ]
  },
  {
   "cell_type": "code",
   "execution_count": 21,
   "id": "experimental-advertiser",
   "metadata": {},
   "outputs": [
    {
     "data": {
      "text/html": [
       "<div>\n",
       "<style scoped>\n",
       "    .dataframe tbody tr th:only-of-type {\n",
       "        vertical-align: middle;\n",
       "    }\n",
       "\n",
       "    .dataframe tbody tr th {\n",
       "        vertical-align: top;\n",
       "    }\n",
       "\n",
       "    .dataframe thead th {\n",
       "        text-align: right;\n",
       "    }\n",
       "</style>\n",
       "<table border=\"1\" class=\"dataframe\">\n",
       "  <thead>\n",
       "    <tr style=\"text-align: right;\">\n",
       "      <th></th>\n",
       "      <th>InvoiceNo</th>\n",
       "      <th>StockCode</th>\n",
       "      <th>Description</th>\n",
       "      <th>Country</th>\n",
       "      <th>InvoiceNumber</th>\n",
       "      <th>InvoiceCode</th>\n",
       "    </tr>\n",
       "  </thead>\n",
       "  <tbody>\n",
       "    <tr>\n",
       "      <th>count</th>\n",
       "      <td>541909</td>\n",
       "      <td>541909</td>\n",
       "      <td>540455</td>\n",
       "      <td>541909</td>\n",
       "      <td>541909</td>\n",
       "      <td>541909</td>\n",
       "    </tr>\n",
       "    <tr>\n",
       "      <th>unique</th>\n",
       "      <td>25900</td>\n",
       "      <td>4070</td>\n",
       "      <td>4223</td>\n",
       "      <td>38</td>\n",
       "      <td>25900</td>\n",
       "      <td>3</td>\n",
       "    </tr>\n",
       "    <tr>\n",
       "      <th>top</th>\n",
       "      <td>573585</td>\n",
       "      <td>85123A</td>\n",
       "      <td>WHITE HANGING HEART T-LIGHT HOLDER</td>\n",
       "      <td>United Kingdom</td>\n",
       "      <td>573585</td>\n",
       "      <td></td>\n",
       "    </tr>\n",
       "    <tr>\n",
       "      <th>freq</th>\n",
       "      <td>1114</td>\n",
       "      <td>2313</td>\n",
       "      <td>2369</td>\n",
       "      <td>495478</td>\n",
       "      <td>1114</td>\n",
       "      <td>532618</td>\n",
       "    </tr>\n",
       "  </tbody>\n",
       "</table>\n",
       "</div>"
      ],
      "text/plain": [
       "        InvoiceNo StockCode                         Description  \\\n",
       "count      541909    541909                              540455   \n",
       "unique      25900      4070                                4223   \n",
       "top        573585    85123A  WHITE HANGING HEART T-LIGHT HOLDER   \n",
       "freq         1114      2313                                2369   \n",
       "\n",
       "               Country InvoiceNumber InvoiceCode  \n",
       "count           541909        541909      541909  \n",
       "unique              38         25900           3  \n",
       "top     United Kingdom        573585              \n",
       "freq            495478          1114      532618  "
      ]
     },
     "execution_count": 21,
     "metadata": {},
     "output_type": "execute_result"
    }
   ],
   "source": [
    "# Inspecting new features\n",
    "retail.describe(include='object')"
   ]
  },
  {
   "cell_type": "code",
   "execution_count": 22,
   "id": "color-shadow",
   "metadata": {},
   "outputs": [
    {
     "data": {
      "text/plain": [
       "     532618\n",
       "C      9288\n",
       "A         3\n",
       "Name: InvoiceCode, dtype: int64"
      ]
     },
     "execution_count": 22,
     "metadata": {},
     "output_type": "execute_result"
    }
   ],
   "source": [
    "# Counting types of Invoices\n",
    "retail.InvoiceCode.value_counts()"
   ]
  },
  {
   "cell_type": "code",
   "execution_count": 23,
   "id": "hourly-married",
   "metadata": {},
   "outputs": [
    {
     "data": {
      "text/plain": [
       "array(['', 'C', 'A'], dtype=object)"
      ]
     },
     "execution_count": 23,
     "metadata": {},
     "output_type": "execute_result"
    }
   ],
   "source": [
    "# Unique values\n",
    "retail.InvoiceCode.unique()"
   ]
  },
  {
   "cell_type": "code",
   "execution_count": 24,
   "id": "scientific-enemy",
   "metadata": {},
   "outputs": [
    {
     "data": {
      "text/plain": [
       "array(['N', 'C', 'A'], dtype=object)"
      ]
     },
     "execution_count": 24,
     "metadata": {},
     "output_type": "execute_result"
    }
   ],
   "source": [
    "# Replacing '' with 'N', to reflect Normal transactions\n",
    "retail.InvoiceCode.replace({'': 'N'}, inplace = True)\n",
    "retail.InvoiceCode.unique()"
   ]
  },
  {
   "cell_type": "code",
   "execution_count": 25,
   "id": "eleven-attachment",
   "metadata": {},
   "outputs": [
    {
     "data": {
      "text/html": [
       "<div>\n",
       "<style scoped>\n",
       "    .dataframe tbody tr th:only-of-type {\n",
       "        vertical-align: middle;\n",
       "    }\n",
       "\n",
       "    .dataframe tbody tr th {\n",
       "        vertical-align: top;\n",
       "    }\n",
       "\n",
       "    .dataframe thead th {\n",
       "        text-align: right;\n",
       "    }\n",
       "</style>\n",
       "<table border=\"1\" class=\"dataframe\">\n",
       "  <thead>\n",
       "    <tr style=\"text-align: right;\">\n",
       "      <th></th>\n",
       "      <th>InvoiceNo</th>\n",
       "      <th>StockCode</th>\n",
       "      <th>Description</th>\n",
       "      <th>Quantity</th>\n",
       "      <th>InvoiceDate</th>\n",
       "      <th>UnitPrice</th>\n",
       "      <th>CustomerID</th>\n",
       "      <th>Country</th>\n",
       "      <th>InvoiceNumber</th>\n",
       "      <th>InvoiceCode</th>\n",
       "      <th>Year</th>\n",
       "      <th>Month</th>\n",
       "      <th>YearMonth</th>\n",
       "    </tr>\n",
       "    <tr>\n",
       "      <th>Date</th>\n",
       "      <th></th>\n",
       "      <th></th>\n",
       "      <th></th>\n",
       "      <th></th>\n",
       "      <th></th>\n",
       "      <th></th>\n",
       "      <th></th>\n",
       "      <th></th>\n",
       "      <th></th>\n",
       "      <th></th>\n",
       "      <th></th>\n",
       "      <th></th>\n",
       "      <th></th>\n",
       "    </tr>\n",
       "  </thead>\n",
       "  <tbody>\n",
       "    <tr>\n",
       "      <th>2011-08-12</th>\n",
       "      <td>A563185</td>\n",
       "      <td>B</td>\n",
       "      <td>Adjust bad debt</td>\n",
       "      <td>1</td>\n",
       "      <td>2011-08-12 14:50:00</td>\n",
       "      <td>11062.06</td>\n",
       "      <td>NaN</td>\n",
       "      <td>United Kingdom</td>\n",
       "      <td>563185</td>\n",
       "      <td>A</td>\n",
       "      <td>2011</td>\n",
       "      <td>8</td>\n",
       "      <td>201108</td>\n",
       "    </tr>\n",
       "    <tr>\n",
       "      <th>2011-08-12</th>\n",
       "      <td>A563186</td>\n",
       "      <td>B</td>\n",
       "      <td>Adjust bad debt</td>\n",
       "      <td>1</td>\n",
       "      <td>2011-08-12 14:51:00</td>\n",
       "      <td>-11062.06</td>\n",
       "      <td>NaN</td>\n",
       "      <td>United Kingdom</td>\n",
       "      <td>563186</td>\n",
       "      <td>A</td>\n",
       "      <td>2011</td>\n",
       "      <td>8</td>\n",
       "      <td>201108</td>\n",
       "    </tr>\n",
       "    <tr>\n",
       "      <th>2011-08-12</th>\n",
       "      <td>A563187</td>\n",
       "      <td>B</td>\n",
       "      <td>Adjust bad debt</td>\n",
       "      <td>1</td>\n",
       "      <td>2011-08-12 14:52:00</td>\n",
       "      <td>-11062.06</td>\n",
       "      <td>NaN</td>\n",
       "      <td>United Kingdom</td>\n",
       "      <td>563187</td>\n",
       "      <td>A</td>\n",
       "      <td>2011</td>\n",
       "      <td>8</td>\n",
       "      <td>201108</td>\n",
       "    </tr>\n",
       "  </tbody>\n",
       "</table>\n",
       "</div>"
      ],
      "text/plain": [
       "           InvoiceNo StockCode      Description  Quantity         InvoiceDate  \\\n",
       "Date                                                                            \n",
       "2011-08-12   A563185         B  Adjust bad debt         1 2011-08-12 14:50:00   \n",
       "2011-08-12   A563186         B  Adjust bad debt         1 2011-08-12 14:51:00   \n",
       "2011-08-12   A563187         B  Adjust bad debt         1 2011-08-12 14:52:00   \n",
       "\n",
       "            UnitPrice  CustomerID         Country InvoiceNumber InvoiceCode  \\\n",
       "Date                                                                          \n",
       "2011-08-12   11062.06         NaN  United Kingdom        563185           A   \n",
       "2011-08-12  -11062.06         NaN  United Kingdom        563186           A   \n",
       "2011-08-12  -11062.06         NaN  United Kingdom        563187           A   \n",
       "\n",
       "            Year  Month  YearMonth  \n",
       "Date                                \n",
       "2011-08-12  2011      8     201108  \n",
       "2011-08-12  2011      8     201108  \n",
       "2011-08-12  2011      8     201108  "
      ]
     },
     "execution_count": 25,
     "metadata": {},
     "output_type": "execute_result"
    }
   ],
   "source": [
    "# Inspecting type A and C invoices\n",
    "retail[retail.InvoiceCode == 'A'].head()"
   ]
  },
  {
   "cell_type": "code",
   "execution_count": 26,
   "id": "headed-saver",
   "metadata": {},
   "outputs": [
    {
     "data": {
      "text/html": [
       "<div>\n",
       "<style scoped>\n",
       "    .dataframe tbody tr th:only-of-type {\n",
       "        vertical-align: middle;\n",
       "    }\n",
       "\n",
       "    .dataframe tbody tr th {\n",
       "        vertical-align: top;\n",
       "    }\n",
       "\n",
       "    .dataframe thead th {\n",
       "        text-align: right;\n",
       "    }\n",
       "</style>\n",
       "<table border=\"1\" class=\"dataframe\">\n",
       "  <thead>\n",
       "    <tr style=\"text-align: right;\">\n",
       "      <th></th>\n",
       "      <th>InvoiceNo</th>\n",
       "      <th>StockCode</th>\n",
       "      <th>Description</th>\n",
       "      <th>Quantity</th>\n",
       "      <th>InvoiceDate</th>\n",
       "      <th>UnitPrice</th>\n",
       "      <th>CustomerID</th>\n",
       "      <th>Country</th>\n",
       "      <th>InvoiceNumber</th>\n",
       "      <th>InvoiceCode</th>\n",
       "      <th>Year</th>\n",
       "      <th>Month</th>\n",
       "      <th>YearMonth</th>\n",
       "    </tr>\n",
       "    <tr>\n",
       "      <th>Date</th>\n",
       "      <th></th>\n",
       "      <th></th>\n",
       "      <th></th>\n",
       "      <th></th>\n",
       "      <th></th>\n",
       "      <th></th>\n",
       "      <th></th>\n",
       "      <th></th>\n",
       "      <th></th>\n",
       "      <th></th>\n",
       "      <th></th>\n",
       "      <th></th>\n",
       "      <th></th>\n",
       "    </tr>\n",
       "  </thead>\n",
       "  <tbody>\n",
       "    <tr>\n",
       "      <th>2010-12-01</th>\n",
       "      <td>C536379</td>\n",
       "      <td>D</td>\n",
       "      <td>Discount</td>\n",
       "      <td>-1</td>\n",
       "      <td>2010-12-01 09:41:00</td>\n",
       "      <td>27.50</td>\n",
       "      <td>14527.0</td>\n",
       "      <td>United Kingdom</td>\n",
       "      <td>536379</td>\n",
       "      <td>C</td>\n",
       "      <td>2010</td>\n",
       "      <td>12</td>\n",
       "      <td>201012</td>\n",
       "    </tr>\n",
       "    <tr>\n",
       "      <th>2010-12-01</th>\n",
       "      <td>C536383</td>\n",
       "      <td>35004C</td>\n",
       "      <td>SET OF 3 COLOURED  FLYING DUCKS</td>\n",
       "      <td>-1</td>\n",
       "      <td>2010-12-01 09:49:00</td>\n",
       "      <td>4.65</td>\n",
       "      <td>15311.0</td>\n",
       "      <td>United Kingdom</td>\n",
       "      <td>536383</td>\n",
       "      <td>C</td>\n",
       "      <td>2010</td>\n",
       "      <td>12</td>\n",
       "      <td>201012</td>\n",
       "    </tr>\n",
       "    <tr>\n",
       "      <th>2010-12-01</th>\n",
       "      <td>C536391</td>\n",
       "      <td>22556</td>\n",
       "      <td>PLASTERS IN TIN CIRCUS PARADE</td>\n",
       "      <td>-12</td>\n",
       "      <td>2010-12-01 10:24:00</td>\n",
       "      <td>1.65</td>\n",
       "      <td>17548.0</td>\n",
       "      <td>United Kingdom</td>\n",
       "      <td>536391</td>\n",
       "      <td>C</td>\n",
       "      <td>2010</td>\n",
       "      <td>12</td>\n",
       "      <td>201012</td>\n",
       "    </tr>\n",
       "    <tr>\n",
       "      <th>2010-12-01</th>\n",
       "      <td>C536391</td>\n",
       "      <td>21984</td>\n",
       "      <td>PACK OF 12 PINK PAISLEY TISSUES</td>\n",
       "      <td>-24</td>\n",
       "      <td>2010-12-01 10:24:00</td>\n",
       "      <td>0.29</td>\n",
       "      <td>17548.0</td>\n",
       "      <td>United Kingdom</td>\n",
       "      <td>536391</td>\n",
       "      <td>C</td>\n",
       "      <td>2010</td>\n",
       "      <td>12</td>\n",
       "      <td>201012</td>\n",
       "    </tr>\n",
       "    <tr>\n",
       "      <th>2010-12-01</th>\n",
       "      <td>C536391</td>\n",
       "      <td>21983</td>\n",
       "      <td>PACK OF 12 BLUE PAISLEY TISSUES</td>\n",
       "      <td>-24</td>\n",
       "      <td>2010-12-01 10:24:00</td>\n",
       "      <td>0.29</td>\n",
       "      <td>17548.0</td>\n",
       "      <td>United Kingdom</td>\n",
       "      <td>536391</td>\n",
       "      <td>C</td>\n",
       "      <td>2010</td>\n",
       "      <td>12</td>\n",
       "      <td>201012</td>\n",
       "    </tr>\n",
       "  </tbody>\n",
       "</table>\n",
       "</div>"
      ],
      "text/plain": [
       "           InvoiceNo StockCode                       Description  Quantity  \\\n",
       "Date                                                                         \n",
       "2010-12-01   C536379         D                          Discount        -1   \n",
       "2010-12-01   C536383    35004C   SET OF 3 COLOURED  FLYING DUCKS        -1   \n",
       "2010-12-01   C536391     22556    PLASTERS IN TIN CIRCUS PARADE        -12   \n",
       "2010-12-01   C536391     21984  PACK OF 12 PINK PAISLEY TISSUES        -24   \n",
       "2010-12-01   C536391     21983  PACK OF 12 BLUE PAISLEY TISSUES        -24   \n",
       "\n",
       "                   InvoiceDate  UnitPrice  CustomerID         Country  \\\n",
       "Date                                                                    \n",
       "2010-12-01 2010-12-01 09:41:00      27.50     14527.0  United Kingdom   \n",
       "2010-12-01 2010-12-01 09:49:00       4.65     15311.0  United Kingdom   \n",
       "2010-12-01 2010-12-01 10:24:00       1.65     17548.0  United Kingdom   \n",
       "2010-12-01 2010-12-01 10:24:00       0.29     17548.0  United Kingdom   \n",
       "2010-12-01 2010-12-01 10:24:00       0.29     17548.0  United Kingdom   \n",
       "\n",
       "           InvoiceNumber InvoiceCode  Year  Month  YearMonth  \n",
       "Date                                                          \n",
       "2010-12-01        536379           C  2010     12     201012  \n",
       "2010-12-01        536383           C  2010     12     201012  \n",
       "2010-12-01        536391           C  2010     12     201012  \n",
       "2010-12-01        536391           C  2010     12     201012  \n",
       "2010-12-01        536391           C  2010     12     201012  "
      ]
     },
     "execution_count": 26,
     "metadata": {},
     "output_type": "execute_result"
    }
   ],
   "source": [
    "retail[retail.InvoiceCode == \"C\"].head()"
   ]
  },
  {
   "cell_type": "markdown",
   "id": "accepting-elements",
   "metadata": {},
   "source": [
    "**2.3.2.2 InvoiceNo. Validations**\n",
    "\n",
    "From initial review of the invoice numbers and code, it seems that for a specific Invoice Number, there's only a certail type available in the dataset. e.g. For Invoice type-C transactions verify if there is the corresponding N-type transaction. i.e same Invoice Number, different type. "
   ]
  },
  {
   "cell_type": "code",
   "execution_count": 27,
   "id": "annoying-pacific",
   "metadata": {},
   "outputs": [
    {
     "data": {
      "text/html": [
       "<div>\n",
       "<style scoped>\n",
       "    .dataframe tbody tr th:only-of-type {\n",
       "        vertical-align: middle;\n",
       "    }\n",
       "\n",
       "    .dataframe tbody tr th {\n",
       "        vertical-align: top;\n",
       "    }\n",
       "\n",
       "    .dataframe thead th {\n",
       "        text-align: right;\n",
       "    }\n",
       "</style>\n",
       "<table border=\"1\" class=\"dataframe\">\n",
       "  <thead>\n",
       "    <tr style=\"text-align: right;\">\n",
       "      <th></th>\n",
       "      <th>InvoiceNo</th>\n",
       "      <th>StockCode</th>\n",
       "      <th>Description</th>\n",
       "      <th>Quantity</th>\n",
       "      <th>InvoiceDate</th>\n",
       "      <th>UnitPrice</th>\n",
       "      <th>CustomerID</th>\n",
       "      <th>Country</th>\n",
       "      <th>InvoiceNumber</th>\n",
       "      <th>InvoiceCode</th>\n",
       "      <th>Year</th>\n",
       "      <th>Month</th>\n",
       "      <th>YearMonth</th>\n",
       "    </tr>\n",
       "    <tr>\n",
       "      <th>Date</th>\n",
       "      <th></th>\n",
       "      <th></th>\n",
       "      <th></th>\n",
       "      <th></th>\n",
       "      <th></th>\n",
       "      <th></th>\n",
       "      <th></th>\n",
       "      <th></th>\n",
       "      <th></th>\n",
       "      <th></th>\n",
       "      <th></th>\n",
       "      <th></th>\n",
       "      <th></th>\n",
       "    </tr>\n",
       "  </thead>\n",
       "  <tbody>\n",
       "    <tr>\n",
       "      <th>2010-12-01</th>\n",
       "      <td>C536548</td>\n",
       "      <td>22244</td>\n",
       "      <td>3 HOOK HANGER MAGIC GARDEN</td>\n",
       "      <td>-4</td>\n",
       "      <td>2010-12-01 14:33:00</td>\n",
       "      <td>1.95</td>\n",
       "      <td>12472.0</td>\n",
       "      <td>Germany</td>\n",
       "      <td>536548</td>\n",
       "      <td>C</td>\n",
       "      <td>2010</td>\n",
       "      <td>12</td>\n",
       "      <td>201012</td>\n",
       "    </tr>\n",
       "    <tr>\n",
       "      <th>2010-12-01</th>\n",
       "      <td>C536548</td>\n",
       "      <td>22242</td>\n",
       "      <td>5 HOOK HANGER MAGIC TOADSTOOL</td>\n",
       "      <td>-5</td>\n",
       "      <td>2010-12-01 14:33:00</td>\n",
       "      <td>1.65</td>\n",
       "      <td>12472.0</td>\n",
       "      <td>Germany</td>\n",
       "      <td>536548</td>\n",
       "      <td>C</td>\n",
       "      <td>2010</td>\n",
       "      <td>12</td>\n",
       "      <td>201012</td>\n",
       "    </tr>\n",
       "    <tr>\n",
       "      <th>2010-12-01</th>\n",
       "      <td>C536548</td>\n",
       "      <td>20914</td>\n",
       "      <td>SET/5 RED RETROSPOT LID GLASS BOWLS</td>\n",
       "      <td>-1</td>\n",
       "      <td>2010-12-01 14:33:00</td>\n",
       "      <td>2.95</td>\n",
       "      <td>12472.0</td>\n",
       "      <td>Germany</td>\n",
       "      <td>536548</td>\n",
       "      <td>C</td>\n",
       "      <td>2010</td>\n",
       "      <td>12</td>\n",
       "      <td>201012</td>\n",
       "    </tr>\n",
       "    <tr>\n",
       "      <th>2010-12-01</th>\n",
       "      <td>C536548</td>\n",
       "      <td>22892</td>\n",
       "      <td>SET OF SALT AND PEPPER TOADSTOOLS</td>\n",
       "      <td>-7</td>\n",
       "      <td>2010-12-01 14:33:00</td>\n",
       "      <td>1.25</td>\n",
       "      <td>12472.0</td>\n",
       "      <td>Germany</td>\n",
       "      <td>536548</td>\n",
       "      <td>C</td>\n",
       "      <td>2010</td>\n",
       "      <td>12</td>\n",
       "      <td>201012</td>\n",
       "    </tr>\n",
       "    <tr>\n",
       "      <th>2010-12-01</th>\n",
       "      <td>C536548</td>\n",
       "      <td>22654</td>\n",
       "      <td>DELUXE SEWING KIT</td>\n",
       "      <td>-1</td>\n",
       "      <td>2010-12-01 14:33:00</td>\n",
       "      <td>5.95</td>\n",
       "      <td>12472.0</td>\n",
       "      <td>Germany</td>\n",
       "      <td>536548</td>\n",
       "      <td>C</td>\n",
       "      <td>2010</td>\n",
       "      <td>12</td>\n",
       "      <td>201012</td>\n",
       "    </tr>\n",
       "    <tr>\n",
       "      <th>2010-12-01</th>\n",
       "      <td>C536548</td>\n",
       "      <td>22767</td>\n",
       "      <td>TRIPLE PHOTO FRAME CORNICE</td>\n",
       "      <td>-2</td>\n",
       "      <td>2010-12-01 14:33:00</td>\n",
       "      <td>9.95</td>\n",
       "      <td>12472.0</td>\n",
       "      <td>Germany</td>\n",
       "      <td>536548</td>\n",
       "      <td>C</td>\n",
       "      <td>2010</td>\n",
       "      <td>12</td>\n",
       "      <td>201012</td>\n",
       "    </tr>\n",
       "    <tr>\n",
       "      <th>2010-12-01</th>\n",
       "      <td>C536548</td>\n",
       "      <td>22333</td>\n",
       "      <td>RETROSPOT PARTY BAG + STICKER SET</td>\n",
       "      <td>-1</td>\n",
       "      <td>2010-12-01 14:33:00</td>\n",
       "      <td>1.65</td>\n",
       "      <td>12472.0</td>\n",
       "      <td>Germany</td>\n",
       "      <td>536548</td>\n",
       "      <td>C</td>\n",
       "      <td>2010</td>\n",
       "      <td>12</td>\n",
       "      <td>201012</td>\n",
       "    </tr>\n",
       "    <tr>\n",
       "      <th>2010-12-01</th>\n",
       "      <td>C536548</td>\n",
       "      <td>22245</td>\n",
       "      <td>HOOK, 1 HANGER ,MAGIC GARDEN</td>\n",
       "      <td>-2</td>\n",
       "      <td>2010-12-01 14:33:00</td>\n",
       "      <td>0.85</td>\n",
       "      <td>12472.0</td>\n",
       "      <td>Germany</td>\n",
       "      <td>536548</td>\n",
       "      <td>C</td>\n",
       "      <td>2010</td>\n",
       "      <td>12</td>\n",
       "      <td>201012</td>\n",
       "    </tr>\n",
       "    <tr>\n",
       "      <th>2010-12-01</th>\n",
       "      <td>C536548</td>\n",
       "      <td>22077</td>\n",
       "      <td>6 RIBBONS RUSTIC CHARM</td>\n",
       "      <td>-6</td>\n",
       "      <td>2010-12-01 14:33:00</td>\n",
       "      <td>1.65</td>\n",
       "      <td>12472.0</td>\n",
       "      <td>Germany</td>\n",
       "      <td>536548</td>\n",
       "      <td>C</td>\n",
       "      <td>2010</td>\n",
       "      <td>12</td>\n",
       "      <td>201012</td>\n",
       "    </tr>\n",
       "    <tr>\n",
       "      <th>2010-12-01</th>\n",
       "      <td>C536548</td>\n",
       "      <td>22631</td>\n",
       "      <td>CIRCUS PARADE LUNCH BOX</td>\n",
       "      <td>-1</td>\n",
       "      <td>2010-12-01 14:33:00</td>\n",
       "      <td>1.95</td>\n",
       "      <td>12472.0</td>\n",
       "      <td>Germany</td>\n",
       "      <td>536548</td>\n",
       "      <td>C</td>\n",
       "      <td>2010</td>\n",
       "      <td>12</td>\n",
       "      <td>201012</td>\n",
       "    </tr>\n",
       "    <tr>\n",
       "      <th>2010-12-01</th>\n",
       "      <td>C536548</td>\n",
       "      <td>22168</td>\n",
       "      <td>ORGANISER WOOD ANTIQUE WHITE</td>\n",
       "      <td>-2</td>\n",
       "      <td>2010-12-01 14:33:00</td>\n",
       "      <td>8.50</td>\n",
       "      <td>12472.0</td>\n",
       "      <td>Germany</td>\n",
       "      <td>536548</td>\n",
       "      <td>C</td>\n",
       "      <td>2010</td>\n",
       "      <td>12</td>\n",
       "      <td>201012</td>\n",
       "    </tr>\n",
       "    <tr>\n",
       "      <th>2010-12-01</th>\n",
       "      <td>C536548</td>\n",
       "      <td>21218</td>\n",
       "      <td>RED SPOTTY BISCUIT TIN</td>\n",
       "      <td>-3</td>\n",
       "      <td>2010-12-01 14:33:00</td>\n",
       "      <td>3.75</td>\n",
       "      <td>12472.0</td>\n",
       "      <td>Germany</td>\n",
       "      <td>536548</td>\n",
       "      <td>C</td>\n",
       "      <td>2010</td>\n",
       "      <td>12</td>\n",
       "      <td>201012</td>\n",
       "    </tr>\n",
       "    <tr>\n",
       "      <th>2010-12-01</th>\n",
       "      <td>C536548</td>\n",
       "      <td>20957</td>\n",
       "      <td>PORCELAIN HANGING BELL SMALL</td>\n",
       "      <td>-1</td>\n",
       "      <td>2010-12-01 14:33:00</td>\n",
       "      <td>1.45</td>\n",
       "      <td>12472.0</td>\n",
       "      <td>Germany</td>\n",
       "      <td>536548</td>\n",
       "      <td>C</td>\n",
       "      <td>2010</td>\n",
       "      <td>12</td>\n",
       "      <td>201012</td>\n",
       "    </tr>\n",
       "    <tr>\n",
       "      <th>2010-12-01</th>\n",
       "      <td>C536548</td>\n",
       "      <td>22580</td>\n",
       "      <td>ADVENT CALENDAR GINGHAM SACK</td>\n",
       "      <td>-4</td>\n",
       "      <td>2010-12-01 14:33:00</td>\n",
       "      <td>5.95</td>\n",
       "      <td>12472.0</td>\n",
       "      <td>Germany</td>\n",
       "      <td>536548</td>\n",
       "      <td>C</td>\n",
       "      <td>2010</td>\n",
       "      <td>12</td>\n",
       "      <td>201012</td>\n",
       "    </tr>\n",
       "  </tbody>\n",
       "</table>\n",
       "</div>"
      ],
      "text/plain": [
       "           InvoiceNo StockCode                          Description  Quantity  \\\n",
       "Date                                                                            \n",
       "2010-12-01   C536548     22244           3 HOOK HANGER MAGIC GARDEN        -4   \n",
       "2010-12-01   C536548     22242        5 HOOK HANGER MAGIC TOADSTOOL        -5   \n",
       "2010-12-01   C536548     20914  SET/5 RED RETROSPOT LID GLASS BOWLS        -1   \n",
       "2010-12-01   C536548     22892    SET OF SALT AND PEPPER TOADSTOOLS        -7   \n",
       "2010-12-01   C536548     22654                   DELUXE SEWING KIT         -1   \n",
       "2010-12-01   C536548     22767          TRIPLE PHOTO FRAME CORNICE         -2   \n",
       "2010-12-01   C536548     22333    RETROSPOT PARTY BAG + STICKER SET        -1   \n",
       "2010-12-01   C536548     22245         HOOK, 1 HANGER ,MAGIC GARDEN        -2   \n",
       "2010-12-01   C536548     22077               6 RIBBONS RUSTIC CHARM        -6   \n",
       "2010-12-01   C536548     22631             CIRCUS PARADE LUNCH BOX         -1   \n",
       "2010-12-01   C536548     22168        ORGANISER WOOD ANTIQUE WHITE         -2   \n",
       "2010-12-01   C536548     21218               RED SPOTTY BISCUIT TIN        -3   \n",
       "2010-12-01   C536548     20957         PORCELAIN HANGING BELL SMALL        -1   \n",
       "2010-12-01   C536548     22580         ADVENT CALENDAR GINGHAM SACK        -4   \n",
       "\n",
       "                   InvoiceDate  UnitPrice  CustomerID  Country InvoiceNumber  \\\n",
       "Date                                                                           \n",
       "2010-12-01 2010-12-01 14:33:00       1.95     12472.0  Germany        536548   \n",
       "2010-12-01 2010-12-01 14:33:00       1.65     12472.0  Germany        536548   \n",
       "2010-12-01 2010-12-01 14:33:00       2.95     12472.0  Germany        536548   \n",
       "2010-12-01 2010-12-01 14:33:00       1.25     12472.0  Germany        536548   \n",
       "2010-12-01 2010-12-01 14:33:00       5.95     12472.0  Germany        536548   \n",
       "2010-12-01 2010-12-01 14:33:00       9.95     12472.0  Germany        536548   \n",
       "2010-12-01 2010-12-01 14:33:00       1.65     12472.0  Germany        536548   \n",
       "2010-12-01 2010-12-01 14:33:00       0.85     12472.0  Germany        536548   \n",
       "2010-12-01 2010-12-01 14:33:00       1.65     12472.0  Germany        536548   \n",
       "2010-12-01 2010-12-01 14:33:00       1.95     12472.0  Germany        536548   \n",
       "2010-12-01 2010-12-01 14:33:00       8.50     12472.0  Germany        536548   \n",
       "2010-12-01 2010-12-01 14:33:00       3.75     12472.0  Germany        536548   \n",
       "2010-12-01 2010-12-01 14:33:00       1.45     12472.0  Germany        536548   \n",
       "2010-12-01 2010-12-01 14:33:00       5.95     12472.0  Germany        536548   \n",
       "\n",
       "           InvoiceCode  Year  Month  YearMonth  \n",
       "Date                                            \n",
       "2010-12-01           C  2010     12     201012  \n",
       "2010-12-01           C  2010     12     201012  \n",
       "2010-12-01           C  2010     12     201012  \n",
       "2010-12-01           C  2010     12     201012  \n",
       "2010-12-01           C  2010     12     201012  \n",
       "2010-12-01           C  2010     12     201012  \n",
       "2010-12-01           C  2010     12     201012  \n",
       "2010-12-01           C  2010     12     201012  \n",
       "2010-12-01           C  2010     12     201012  \n",
       "2010-12-01           C  2010     12     201012  \n",
       "2010-12-01           C  2010     12     201012  \n",
       "2010-12-01           C  2010     12     201012  \n",
       "2010-12-01           C  2010     12     201012  \n",
       "2010-12-01           C  2010     12     201012  "
      ]
     },
     "execution_count": 27,
     "metadata": {},
     "output_type": "execute_result"
    }
   ],
   "source": [
    "retail[retail.InvoiceNumber == '536548']"
   ]
  },
  {
   "cell_type": "code",
   "execution_count": 28,
   "id": "external-cosmetic",
   "metadata": {},
   "outputs": [],
   "source": [
    "# Get list of Invoice Numbers with C\n",
    "invoice_numbers = list(retail[retail.InvoiceCode == \"C\"].InvoiceNumber)"
   ]
  },
  {
   "cell_type": "code",
   "execution_count": 29,
   "id": "amended-hampton",
   "metadata": {},
   "outputs": [],
   "source": [
    "# Create group list to iterate through\n",
    "groups = retail.groupby('InvoiceNumber')"
   ]
  },
  {
   "cell_type": "code",
   "execution_count": 30,
   "id": "altered-divorce",
   "metadata": {},
   "outputs": [],
   "source": [
    "contained_n_and_c = []"
   ]
  },
  {
   "cell_type": "code",
   "execution_count": 31,
   "id": "otherwise-formula",
   "metadata": {},
   "outputs": [],
   "source": [
    "# For each group iterate through Invoice numbers:\n",
    "# IF there's any invoice type N, then append and continue\n",
    "for group in groups:\n",
    "    \n",
    "    group_id = group[0]\n",
    "    data = group[1]\n",
    "    \n",
    "    if group_id in invoice_numbers:\n",
    "        row_data = [row[-1] for row in data.values]\n",
    "        if 'N' in row_data:\n",
    "            contained_n_and_c.append(group_id)\n",
    "        else:\n",
    "            pass\n",
    "    else:\n",
    "        pass"
   ]
  },
  {
   "cell_type": "code",
   "execution_count": 32,
   "id": "fantastic-deposit",
   "metadata": {},
   "outputs": [
    {
     "data": {
      "text/plain": [
       "[]"
      ]
     },
     "execution_count": 32,
     "metadata": {},
     "output_type": "execute_result"
    }
   ],
   "source": [
    "# Test there's no overlap between type-C and type-N transactions in a single invoice\n",
    "contained_n_and_c"
   ]
  },
  {
   "cell_type": "markdown",
   "id": "functional-russian",
   "metadata": {},
   "source": [
    "## 2.3.3 Active Population"
   ]
  },
  {
   "cell_type": "markdown",
   "id": "furnished-metallic",
   "metadata": {},
   "source": [
    "For modelling, there is need to derive and develop an active population.\n",
    "In determining the active population, the following conditions must be met:\n",
    "1. From the data, price, description and the Customer ID must be valid.\n",
    "2. For the invoice type, the quantity should be N-Normal & Positive, C-Cancel & Negative and A-Adjust & Negative."
   ]
  },
  {
   "cell_type": "markdown",
   "id": "tender-sarah",
   "metadata": {},
   "source": [
    "## 2.3.4 Masks for Data Processing"
   ]
  },
  {
   "cell_type": "code",
   "execution_count": 33,
   "id": "alike-methodology",
   "metadata": {},
   "outputs": [],
   "source": [
    "# Valid Price\n",
    "valid_price = retail.UnitPrice >= 0\n",
    "\n",
    "# Valid Description\n",
    "valid_desc = retail.Description.notnull()\n",
    "\n",
    "# Valid Customer ID\n",
    "valid_CID = retail.CustomerID.notnull()\n",
    "\n",
    "# Invoice type-N (Normal)\n",
    "inv_N = retail.InvoiceCode == \"N\"\n",
    "\n",
    "# Invoice type-C (Cancellation)\n",
    "inv_C = retail.InvoiceCode == \"C\"\n",
    "\n",
    "# Invoice type-N (Amendment)\n",
    "inv_A = retail.InvoiceCode == \"A\"\n",
    "\n",
    "# Quantity Negative\n",
    "q_neg = retail.Quantity < 0 \n",
    "\n",
    "# Quantity Positive\n",
    "q_pos = retail.Quantity >= 0 "
   ]
  },
  {
   "cell_type": "code",
   "execution_count": 34,
   "id": "inside-coast",
   "metadata": {},
   "outputs": [
    {
     "data": {
      "text/html": [
       "<div>\n",
       "<style scoped>\n",
       "    .dataframe tbody tr th:only-of-type {\n",
       "        vertical-align: middle;\n",
       "    }\n",
       "\n",
       "    .dataframe tbody tr th {\n",
       "        vertical-align: top;\n",
       "    }\n",
       "\n",
       "    .dataframe thead th {\n",
       "        text-align: right;\n",
       "    }\n",
       "</style>\n",
       "<table border=\"1\" class=\"dataframe\">\n",
       "  <thead>\n",
       "    <tr style=\"text-align: right;\">\n",
       "      <th></th>\n",
       "      <th>Features</th>\n",
       "      <th>Valid Prices</th>\n",
       "      <th>Valid Description</th>\n",
       "      <th>Valid Customer IDs</th>\n",
       "      <th>Invoice Normal</th>\n",
       "      <th>Invoice Cancellation</th>\n",
       "      <th>Invoice Adjustment</th>\n",
       "      <th>Negative Quantities</th>\n",
       "      <th>Positive Quantities</th>\n",
       "    </tr>\n",
       "  </thead>\n",
       "  <tbody>\n",
       "    <tr>\n",
       "      <th>0</th>\n",
       "      <td>InvoiceNo</td>\n",
       "      <td>541907</td>\n",
       "      <td>540455</td>\n",
       "      <td>406829</td>\n",
       "      <td>532618</td>\n",
       "      <td>9288</td>\n",
       "      <td>3</td>\n",
       "      <td>10624</td>\n",
       "      <td>531285</td>\n",
       "    </tr>\n",
       "    <tr>\n",
       "      <th>1</th>\n",
       "      <td>StockCode</td>\n",
       "      <td>541907</td>\n",
       "      <td>540455</td>\n",
       "      <td>406829</td>\n",
       "      <td>532618</td>\n",
       "      <td>9288</td>\n",
       "      <td>3</td>\n",
       "      <td>10624</td>\n",
       "      <td>531285</td>\n",
       "    </tr>\n",
       "    <tr>\n",
       "      <th>2</th>\n",
       "      <td>Description</td>\n",
       "      <td>540453</td>\n",
       "      <td>540455</td>\n",
       "      <td>406829</td>\n",
       "      <td>531164</td>\n",
       "      <td>9288</td>\n",
       "      <td>3</td>\n",
       "      <td>9762</td>\n",
       "      <td>530693</td>\n",
       "    </tr>\n",
       "    <tr>\n",
       "      <th>3</th>\n",
       "      <td>Quantity</td>\n",
       "      <td>541907</td>\n",
       "      <td>540455</td>\n",
       "      <td>406829</td>\n",
       "      <td>532618</td>\n",
       "      <td>9288</td>\n",
       "      <td>3</td>\n",
       "      <td>10624</td>\n",
       "      <td>531285</td>\n",
       "    </tr>\n",
       "    <tr>\n",
       "      <th>4</th>\n",
       "      <td>InvoiceDate</td>\n",
       "      <td>541907</td>\n",
       "      <td>540455</td>\n",
       "      <td>406829</td>\n",
       "      <td>532618</td>\n",
       "      <td>9288</td>\n",
       "      <td>3</td>\n",
       "      <td>10624</td>\n",
       "      <td>531285</td>\n",
       "    </tr>\n",
       "    <tr>\n",
       "      <th>5</th>\n",
       "      <td>UnitPrice</td>\n",
       "      <td>541907</td>\n",
       "      <td>540455</td>\n",
       "      <td>406829</td>\n",
       "      <td>532618</td>\n",
       "      <td>9288</td>\n",
       "      <td>3</td>\n",
       "      <td>10624</td>\n",
       "      <td>531285</td>\n",
       "    </tr>\n",
       "    <tr>\n",
       "      <th>6</th>\n",
       "      <td>CustomerID</td>\n",
       "      <td>406829</td>\n",
       "      <td>406829</td>\n",
       "      <td>406829</td>\n",
       "      <td>397924</td>\n",
       "      <td>8905</td>\n",
       "      <td>0</td>\n",
       "      <td>8905</td>\n",
       "      <td>397924</td>\n",
       "    </tr>\n",
       "    <tr>\n",
       "      <th>7</th>\n",
       "      <td>Country</td>\n",
       "      <td>541907</td>\n",
       "      <td>540455</td>\n",
       "      <td>406829</td>\n",
       "      <td>532618</td>\n",
       "      <td>9288</td>\n",
       "      <td>3</td>\n",
       "      <td>10624</td>\n",
       "      <td>531285</td>\n",
       "    </tr>\n",
       "    <tr>\n",
       "      <th>8</th>\n",
       "      <td>InvoiceNumber</td>\n",
       "      <td>541907</td>\n",
       "      <td>540455</td>\n",
       "      <td>406829</td>\n",
       "      <td>532618</td>\n",
       "      <td>9288</td>\n",
       "      <td>3</td>\n",
       "      <td>10624</td>\n",
       "      <td>531285</td>\n",
       "    </tr>\n",
       "    <tr>\n",
       "      <th>9</th>\n",
       "      <td>InvoiceCode</td>\n",
       "      <td>541907</td>\n",
       "      <td>540455</td>\n",
       "      <td>406829</td>\n",
       "      <td>532618</td>\n",
       "      <td>9288</td>\n",
       "      <td>3</td>\n",
       "      <td>10624</td>\n",
       "      <td>531285</td>\n",
       "    </tr>\n",
       "    <tr>\n",
       "      <th>10</th>\n",
       "      <td>Year</td>\n",
       "      <td>541907</td>\n",
       "      <td>540455</td>\n",
       "      <td>406829</td>\n",
       "      <td>532618</td>\n",
       "      <td>9288</td>\n",
       "      <td>3</td>\n",
       "      <td>10624</td>\n",
       "      <td>531285</td>\n",
       "    </tr>\n",
       "    <tr>\n",
       "      <th>11</th>\n",
       "      <td>Month</td>\n",
       "      <td>541907</td>\n",
       "      <td>540455</td>\n",
       "      <td>406829</td>\n",
       "      <td>532618</td>\n",
       "      <td>9288</td>\n",
       "      <td>3</td>\n",
       "      <td>10624</td>\n",
       "      <td>531285</td>\n",
       "    </tr>\n",
       "    <tr>\n",
       "      <th>12</th>\n",
       "      <td>YearMonth</td>\n",
       "      <td>541907</td>\n",
       "      <td>540455</td>\n",
       "      <td>406829</td>\n",
       "      <td>532618</td>\n",
       "      <td>9288</td>\n",
       "      <td>3</td>\n",
       "      <td>10624</td>\n",
       "      <td>531285</td>\n",
       "    </tr>\n",
       "  </tbody>\n",
       "</table>\n",
       "</div>"
      ],
      "text/plain": [
       "         Features  Valid Prices  Valid Description  Valid Customer IDs  \\\n",
       "0       InvoiceNo        541907             540455              406829   \n",
       "1       StockCode        541907             540455              406829   \n",
       "2     Description        540453             540455              406829   \n",
       "3        Quantity        541907             540455              406829   \n",
       "4     InvoiceDate        541907             540455              406829   \n",
       "5       UnitPrice        541907             540455              406829   \n",
       "6      CustomerID        406829             406829              406829   \n",
       "7         Country        541907             540455              406829   \n",
       "8   InvoiceNumber        541907             540455              406829   \n",
       "9     InvoiceCode        541907             540455              406829   \n",
       "10           Year        541907             540455              406829   \n",
       "11          Month        541907             540455              406829   \n",
       "12      YearMonth        541907             540455              406829   \n",
       "\n",
       "    Invoice Normal  Invoice Cancellation  Invoice Adjustment  \\\n",
       "0           532618                  9288                   3   \n",
       "1           532618                  9288                   3   \n",
       "2           531164                  9288                   3   \n",
       "3           532618                  9288                   3   \n",
       "4           532618                  9288                   3   \n",
       "5           532618                  9288                   3   \n",
       "6           397924                  8905                   0   \n",
       "7           532618                  9288                   3   \n",
       "8           532618                  9288                   3   \n",
       "9           532618                  9288                   3   \n",
       "10          532618                  9288                   3   \n",
       "11          532618                  9288                   3   \n",
       "12          532618                  9288                   3   \n",
       "\n",
       "    Negative Quantities  Positive Quantities  \n",
       "0                 10624               531285  \n",
       "1                 10624               531285  \n",
       "2                  9762               530693  \n",
       "3                 10624               531285  \n",
       "4                 10624               531285  \n",
       "5                 10624               531285  \n",
       "6                  8905               397924  \n",
       "7                 10624               531285  \n",
       "8                 10624               531285  \n",
       "9                 10624               531285  \n",
       "10                10624               531285  \n",
       "11                10624               531285  \n",
       "12                10624               531285  "
      ]
     },
     "execution_count": 34,
     "metadata": {},
     "output_type": "execute_result"
    }
   ],
   "source": [
    "# Create a Masks Summary Dataframe to store and view the different count across masks\n",
    "df_mask = pd.DataFrame(retail.columns)\n",
    "df_mask.columns = ['Features']\n",
    "\n",
    "df_mask['Valid Prices'] = retail[valid_price].count().values\n",
    "df_mask['Valid Description'] = retail[valid_desc].count().values\n",
    "df_mask['Valid Customer IDs'] = retail[valid_CID].count().values\n",
    "df_mask['Invoice Normal'] = retail[inv_N].count().values\n",
    "df_mask['Invoice Cancellation'] = retail[inv_C].count().values\n",
    "df_mask['Invoice Adjustment'] = retail[inv_A].count().values\n",
    "df_mask['Negative Quantities'] = retail[q_neg].count().values\n",
    "df_mask['Positive Quantities'] = retail[q_pos].count().values\n",
    "\n",
    "df_mask"
   ]
  },
  {
   "cell_type": "markdown",
   "id": "missing-fiber",
   "metadata": {},
   "source": [
    "**2.3.4.1 Active Population - Paths to Nodes**"
   ]
  },
  {
   "cell_type": "code",
   "execution_count": 35,
   "id": "completed-reply",
   "metadata": {},
   "outputs": [],
   "source": [
    "# Path1 - Filter population down to include all \n",
    "# valid Customer IDs with Valid Price and Description\n",
    "p1 = valid_price & valid_desc & valid_CID"
   ]
  },
  {
   "cell_type": "code",
   "execution_count": 36,
   "id": "forward-delay",
   "metadata": {},
   "outputs": [
    {
     "data": {
      "text/html": [
       "<div>\n",
       "<style scoped>\n",
       "    .dataframe tbody tr th:only-of-type {\n",
       "        vertical-align: middle;\n",
       "    }\n",
       "\n",
       "    .dataframe tbody tr th {\n",
       "        vertical-align: top;\n",
       "    }\n",
       "\n",
       "    .dataframe thead th {\n",
       "        text-align: right;\n",
       "    }\n",
       "</style>\n",
       "<table border=\"1\" class=\"dataframe\">\n",
       "  <thead>\n",
       "    <tr style=\"text-align: right;\">\n",
       "      <th></th>\n",
       "      <th>InvoiceNo</th>\n",
       "      <th>StockCode</th>\n",
       "      <th>Description</th>\n",
       "      <th>Quantity</th>\n",
       "      <th>InvoiceDate</th>\n",
       "      <th>UnitPrice</th>\n",
       "      <th>CustomerID</th>\n",
       "      <th>Country</th>\n",
       "      <th>InvoiceNumber</th>\n",
       "      <th>InvoiceCode</th>\n",
       "      <th>Year</th>\n",
       "      <th>Month</th>\n",
       "      <th>YearMonth</th>\n",
       "    </tr>\n",
       "    <tr>\n",
       "      <th>Date</th>\n",
       "      <th></th>\n",
       "      <th></th>\n",
       "      <th></th>\n",
       "      <th></th>\n",
       "      <th></th>\n",
       "      <th></th>\n",
       "      <th></th>\n",
       "      <th></th>\n",
       "      <th></th>\n",
       "      <th></th>\n",
       "      <th></th>\n",
       "      <th></th>\n",
       "      <th></th>\n",
       "    </tr>\n",
       "  </thead>\n",
       "  <tbody>\n",
       "    <tr>\n",
       "      <th>2010-12-01</th>\n",
       "      <td>536365</td>\n",
       "      <td>85123A</td>\n",
       "      <td>WHITE HANGING HEART T-LIGHT HOLDER</td>\n",
       "      <td>6</td>\n",
       "      <td>2010-12-01 08:26:00</td>\n",
       "      <td>2.55</td>\n",
       "      <td>17850.0</td>\n",
       "      <td>United Kingdom</td>\n",
       "      <td>536365</td>\n",
       "      <td>N</td>\n",
       "      <td>2010</td>\n",
       "      <td>12</td>\n",
       "      <td>201012</td>\n",
       "    </tr>\n",
       "    <tr>\n",
       "      <th>2010-12-01</th>\n",
       "      <td>536365</td>\n",
       "      <td>71053</td>\n",
       "      <td>WHITE METAL LANTERN</td>\n",
       "      <td>6</td>\n",
       "      <td>2010-12-01 08:26:00</td>\n",
       "      <td>3.39</td>\n",
       "      <td>17850.0</td>\n",
       "      <td>United Kingdom</td>\n",
       "      <td>536365</td>\n",
       "      <td>N</td>\n",
       "      <td>2010</td>\n",
       "      <td>12</td>\n",
       "      <td>201012</td>\n",
       "    </tr>\n",
       "    <tr>\n",
       "      <th>2010-12-01</th>\n",
       "      <td>536365</td>\n",
       "      <td>84406B</td>\n",
       "      <td>CREAM CUPID HEARTS COAT HANGER</td>\n",
       "      <td>8</td>\n",
       "      <td>2010-12-01 08:26:00</td>\n",
       "      <td>2.75</td>\n",
       "      <td>17850.0</td>\n",
       "      <td>United Kingdom</td>\n",
       "      <td>536365</td>\n",
       "      <td>N</td>\n",
       "      <td>2010</td>\n",
       "      <td>12</td>\n",
       "      <td>201012</td>\n",
       "    </tr>\n",
       "    <tr>\n",
       "      <th>2010-12-01</th>\n",
       "      <td>536365</td>\n",
       "      <td>84029G</td>\n",
       "      <td>KNITTED UNION FLAG HOT WATER BOTTLE</td>\n",
       "      <td>6</td>\n",
       "      <td>2010-12-01 08:26:00</td>\n",
       "      <td>3.39</td>\n",
       "      <td>17850.0</td>\n",
       "      <td>United Kingdom</td>\n",
       "      <td>536365</td>\n",
       "      <td>N</td>\n",
       "      <td>2010</td>\n",
       "      <td>12</td>\n",
       "      <td>201012</td>\n",
       "    </tr>\n",
       "    <tr>\n",
       "      <th>2010-12-01</th>\n",
       "      <td>536365</td>\n",
       "      <td>84029E</td>\n",
       "      <td>RED WOOLLY HOTTIE WHITE HEART.</td>\n",
       "      <td>6</td>\n",
       "      <td>2010-12-01 08:26:00</td>\n",
       "      <td>3.39</td>\n",
       "      <td>17850.0</td>\n",
       "      <td>United Kingdom</td>\n",
       "      <td>536365</td>\n",
       "      <td>N</td>\n",
       "      <td>2010</td>\n",
       "      <td>12</td>\n",
       "      <td>201012</td>\n",
       "    </tr>\n",
       "  </tbody>\n",
       "</table>\n",
       "</div>"
      ],
      "text/plain": [
       "           InvoiceNo StockCode                          Description  Quantity  \\\n",
       "Date                                                                            \n",
       "2010-12-01    536365    85123A   WHITE HANGING HEART T-LIGHT HOLDER         6   \n",
       "2010-12-01    536365     71053                  WHITE METAL LANTERN         6   \n",
       "2010-12-01    536365    84406B       CREAM CUPID HEARTS COAT HANGER         8   \n",
       "2010-12-01    536365    84029G  KNITTED UNION FLAG HOT WATER BOTTLE         6   \n",
       "2010-12-01    536365    84029E       RED WOOLLY HOTTIE WHITE HEART.         6   \n",
       "\n",
       "                   InvoiceDate  UnitPrice  CustomerID         Country  \\\n",
       "Date                                                                    \n",
       "2010-12-01 2010-12-01 08:26:00       2.55     17850.0  United Kingdom   \n",
       "2010-12-01 2010-12-01 08:26:00       3.39     17850.0  United Kingdom   \n",
       "2010-12-01 2010-12-01 08:26:00       2.75     17850.0  United Kingdom   \n",
       "2010-12-01 2010-12-01 08:26:00       3.39     17850.0  United Kingdom   \n",
       "2010-12-01 2010-12-01 08:26:00       3.39     17850.0  United Kingdom   \n",
       "\n",
       "           InvoiceNumber InvoiceCode  Year  Month  YearMonth  \n",
       "Date                                                          \n",
       "2010-12-01        536365           N  2010     12     201012  \n",
       "2010-12-01        536365           N  2010     12     201012  \n",
       "2010-12-01        536365           N  2010     12     201012  \n",
       "2010-12-01        536365           N  2010     12     201012  \n",
       "2010-12-01        536365           N  2010     12     201012  "
      ]
     },
     "execution_count": 36,
     "metadata": {},
     "output_type": "execute_result"
    }
   ],
   "source": [
    "# Path1 - Filter population down to include all \n",
    "# valid Customer IDs with Valid Price and Description\n",
    "p1 = valid_price & valid_desc & valid_CID\n",
    "\n",
    "# Path2 - Filter population down to include all \n",
    "# Normal (type-N) transactions with Positive Quantities\n",
    "p2 = inv_N & q_pos\n",
    "\n",
    "# Path3 - Filter population down to include all \n",
    "# Cancel (type-C) or Adjust (type-A) transactions \n",
    "# with Negative Quanitities\n",
    "p3 = (inv_A | inv_C) & q_neg\n",
    "\n",
    "# Path to Leafs: Combine Paths 1, 2 and 3:\n",
    "# *************** CREATE A COPY ************\n",
    "retail_pp = retail.loc[p1 & (p2 | p3)].copy()\n",
    "\n",
    "# Inspect new pre-processed and clean dataset\n",
    "retail_pp.head()"
   ]
  },
  {
   "cell_type": "code",
   "execution_count": 37,
   "id": "present-watershed",
   "metadata": {},
   "outputs": [
    {
     "data": {
      "text/html": [
       "<div>\n",
       "<style scoped>\n",
       "    .dataframe tbody tr th:only-of-type {\n",
       "        vertical-align: middle;\n",
       "    }\n",
       "\n",
       "    .dataframe tbody tr th {\n",
       "        vertical-align: top;\n",
       "    }\n",
       "\n",
       "    .dataframe thead th {\n",
       "        text-align: right;\n",
       "    }\n",
       "</style>\n",
       "<table border=\"1\" class=\"dataframe\">\n",
       "  <thead>\n",
       "    <tr style=\"text-align: right;\">\n",
       "      <th></th>\n",
       "      <th>Quantity</th>\n",
       "      <th>UnitPrice</th>\n",
       "      <th>CustomerID</th>\n",
       "      <th>Year</th>\n",
       "      <th>Month</th>\n",
       "      <th>YearMonth</th>\n",
       "    </tr>\n",
       "  </thead>\n",
       "  <tbody>\n",
       "    <tr>\n",
       "      <th>count</th>\n",
       "      <td>406829.000000</td>\n",
       "      <td>406829.000000</td>\n",
       "      <td>406829.000000</td>\n",
       "      <td>406829.000000</td>\n",
       "      <td>406829.000000</td>\n",
       "      <td>406829.000000</td>\n",
       "    </tr>\n",
       "    <tr>\n",
       "      <th>mean</th>\n",
       "      <td>12.061303</td>\n",
       "      <td>3.460471</td>\n",
       "      <td>15287.690570</td>\n",
       "      <td>2010.934002</td>\n",
       "      <td>7.605947</td>\n",
       "      <td>201101.006123</td>\n",
       "    </tr>\n",
       "    <tr>\n",
       "      <th>std</th>\n",
       "      <td>248.693370</td>\n",
       "      <td>69.315162</td>\n",
       "      <td>1713.600303</td>\n",
       "      <td>0.248279</td>\n",
       "      <td>3.418942</td>\n",
       "      <td>23.877089</td>\n",
       "    </tr>\n",
       "    <tr>\n",
       "      <th>min</th>\n",
       "      <td>-80995.000000</td>\n",
       "      <td>0.000000</td>\n",
       "      <td>12346.000000</td>\n",
       "      <td>2010.000000</td>\n",
       "      <td>1.000000</td>\n",
       "      <td>201012.000000</td>\n",
       "    </tr>\n",
       "    <tr>\n",
       "      <th>25%</th>\n",
       "      <td>2.000000</td>\n",
       "      <td>1.250000</td>\n",
       "      <td>13953.000000</td>\n",
       "      <td>2011.000000</td>\n",
       "      <td>5.000000</td>\n",
       "      <td>201104.000000</td>\n",
       "    </tr>\n",
       "    <tr>\n",
       "      <th>50%</th>\n",
       "      <td>5.000000</td>\n",
       "      <td>1.950000</td>\n",
       "      <td>15152.000000</td>\n",
       "      <td>2011.000000</td>\n",
       "      <td>8.000000</td>\n",
       "      <td>201107.000000</td>\n",
       "    </tr>\n",
       "    <tr>\n",
       "      <th>75%</th>\n",
       "      <td>12.000000</td>\n",
       "      <td>3.750000</td>\n",
       "      <td>16791.000000</td>\n",
       "      <td>2011.000000</td>\n",
       "      <td>11.000000</td>\n",
       "      <td>201110.000000</td>\n",
       "    </tr>\n",
       "    <tr>\n",
       "      <th>max</th>\n",
       "      <td>80995.000000</td>\n",
       "      <td>38970.000000</td>\n",
       "      <td>18287.000000</td>\n",
       "      <td>2011.000000</td>\n",
       "      <td>12.000000</td>\n",
       "      <td>201112.000000</td>\n",
       "    </tr>\n",
       "  </tbody>\n",
       "</table>\n",
       "</div>"
      ],
      "text/plain": [
       "            Quantity      UnitPrice     CustomerID           Year  \\\n",
       "count  406829.000000  406829.000000  406829.000000  406829.000000   \n",
       "mean       12.061303       3.460471   15287.690570    2010.934002   \n",
       "std       248.693370      69.315162    1713.600303       0.248279   \n",
       "min    -80995.000000       0.000000   12346.000000    2010.000000   \n",
       "25%         2.000000       1.250000   13953.000000    2011.000000   \n",
       "50%         5.000000       1.950000   15152.000000    2011.000000   \n",
       "75%        12.000000       3.750000   16791.000000    2011.000000   \n",
       "max     80995.000000   38970.000000   18287.000000    2011.000000   \n",
       "\n",
       "               Month      YearMonth  \n",
       "count  406829.000000  406829.000000  \n",
       "mean        7.605947  201101.006123  \n",
       "std         3.418942      23.877089  \n",
       "min         1.000000  201012.000000  \n",
       "25%         5.000000  201104.000000  \n",
       "50%         8.000000  201107.000000  \n",
       "75%        11.000000  201110.000000  \n",
       "max        12.000000  201112.000000  "
      ]
     },
     "execution_count": 37,
     "metadata": {},
     "output_type": "execute_result"
    }
   ],
   "source": [
    "retail_pp.describe()"
   ]
  },
  {
   "cell_type": "code",
   "execution_count": 38,
   "id": "vertical-maryland",
   "metadata": {},
   "outputs": [
    {
     "name": "stdout",
     "output_type": "stream",
     "text": [
      "<class 'pandas.core.frame.DataFrame'>\n",
      "DatetimeIndex: 406829 entries, 2010-12-01 to 2011-12-09\n",
      "Data columns (total 13 columns):\n",
      " #   Column         Non-Null Count   Dtype         \n",
      "---  ------         --------------   -----         \n",
      " 0   InvoiceNo      406829 non-null  object        \n",
      " 1   StockCode      406829 non-null  object        \n",
      " 2   Description    406829 non-null  object        \n",
      " 3   Quantity       406829 non-null  int64         \n",
      " 4   InvoiceDate    406829 non-null  datetime64[ns]\n",
      " 5   UnitPrice      406829 non-null  float64       \n",
      " 6   CustomerID     406829 non-null  float64       \n",
      " 7   Country        406829 non-null  object        \n",
      " 8   InvoiceNumber  406829 non-null  object        \n",
      " 9   InvoiceCode    406829 non-null  object        \n",
      " 10  Year           406829 non-null  int64         \n",
      " 11  Month          406829 non-null  int64         \n",
      " 12  YearMonth      406829 non-null  int64         \n",
      "dtypes: datetime64[ns](1), float64(2), int64(4), object(6)\n",
      "memory usage: 43.5+ MB\n"
     ]
    }
   ],
   "source": [
    "retail_pp.info()"
   ]
  },
  {
   "cell_type": "markdown",
   "id": "dedicated-plant",
   "metadata": {},
   "source": [
    "**2.3.4.2 Customer ID Venn's Diagrams**"
   ]
  },
  {
   "cell_type": "code",
   "execution_count": 39,
   "id": "sixth-viking",
   "metadata": {},
   "outputs": [
    {
     "data": {
      "image/png": "[encoded data removed]",
      "text/plain": [
       "<Figure size 432x288 with 1 Axes>"
      ]
     },
     "metadata": {},
     "output_type": "display_data"
    }
   ],
   "source": [
    "from matplotlib_venn import venn2, venn3\n",
    "venn2(subsets = (406829,135080,0), set_labels = ('Valid CIDs', 'Empty CIDs', 'Total'));\n",
    "venn3(subsets=(1, 1, 0, 3, 0, 0, 0), set_labels = ('A', 'B', 'C'));"
   ]
  },
  {
   "cell_type": "markdown",
   "id": "intense-indicator",
   "metadata": {},
   "source": [
    "## 2.3.5 Data Inspection and Visualizations"
   ]
  },
  {
   "cell_type": "code",
   "execution_count": 40,
   "id": "center-thanks",
   "metadata": {},
   "outputs": [],
   "source": [
    "# Increase default figure and font sizes for easier viewing.\n",
    "plt.style.use('seaborn-colorblind')\n",
    "sns.set_style('darkgrid')\n",
    "%matplotlib inline\n",
    "\n",
    "plt.rcParams['figure.figsize'] = (12, 6)\n",
    "plt.rcParams['font.size'] = 12"
   ]
  },
  {
   "cell_type": "code",
   "execution_count": 41,
   "id": "endangered-dating",
   "metadata": {},
   "outputs": [
    {
     "data": {
      "image/png": "[encoded data removed]",
      "text/plain": [
       "<Figure size 864x432 with 1 Axes>"
      ]
     },
     "metadata": {
      "needs_background": "light"
     },
     "output_type": "display_data"
    }
   ],
   "source": [
    "# Review which countries do the orders come from\n",
    "retail_pp.Country.value_counts()[0:10].plot(kind='barh');\n",
    "plt.title('Number of orders per Country')\n",
    "plt.xlabel('Order Quantity');\n",
    "plt.ylabel('Count');"
   ]
  },
  {
   "cell_type": "code",
   "execution_count": 42,
   "id": "tested-cornell",
   "metadata": {},
   "outputs": [
    {
     "data": {
      "image/png": "[encoded data removed]",
      "text/plain": [
       "<Figure size 864x432 with 2 Axes>"
      ]
     },
     "metadata": {
      "needs_background": "light"
     },
     "output_type": "display_data"
    }
   ],
   "source": [
    "fig = plt.figure()\n",
    "\n",
    "# Plotting the number of Quantities per invoice (Top end)\n",
    "ax1 = fig.add_subplot(211)\n",
    "retail_pp.groupby('InvoiceNo').Quantity.count().sort_values(ascending = False )[:200].plot(kind = 'hist',ax=ax1)\n",
    "ax1.xaxis.set_label_text('Number of products per Invoice (Top end - Largest 100 orders in Quantity)');\n",
    "ax1.yaxis.set_label_text('Number of Invoices ');\n",
    "\n",
    "# Plotting the number of Quantities per invoice (All)\n",
    "ax2 = fig.add_subplot(212)\n",
    "retail_pp.groupby('InvoiceNo').Quantity.count().sort_values(ascending = False).plot(kind='hist', ax=ax2);\n",
    "ax2.xaxis.set_label_text('Number of products per invoice (All)');\n",
    "ax2.yaxis.set_label_text('Number of invoices');\n",
    "fig.subplots_adjust(hspace=0.5)"
   ]
  },
  {
   "cell_type": "markdown",
   "id": "protective-revelation",
   "metadata": {},
   "source": [
    "There is a small amount of Invoices (up to 200) that contain a large amount of products ordered in a single invoice. e.g.\n",
    "\n",
    "1. A single invoice has 1100 products\n",
    "2. Another single invoice has 800 products\n",
    "3. Four invoices have 700 products\n",
    "4. In total, up to 200 number of invoices have more than 200 products each\n",
    "5. Most of the invoices (25,000 in population) normally have up to 200 products each, with most (24000+) having up to 100 each\n",
    "\n"
   ]
  },
  {
   "cell_type": "markdown",
   "id": "hybrid-librarian",
   "metadata": {},
   "source": [
    "## 3. Key Primary Indicators"
   ]
  },
  {
   "cell_type": "markdown",
   "id": "composite-hopkins",
   "metadata": {},
   "source": [
    "The major KPIs are:\n",
    "* Products KPIs - includes Top Selling Products\n",
    "* Transaction KPIs - includes Revenue, Order count, Active Customers\n",
    "* Customer KPIs - includes Retention, Old vs New Customers"
   ]
  },
  {
   "cell_type": "markdown",
   "id": "native-amateur",
   "metadata": {},
   "source": [
    "## 3.1 Transaction KPIs"
   ]
  },
  {
   "cell_type": "markdown",
   "id": "canadian-public",
   "metadata": {},
   "source": [
    "**1. Monthly Revenue**\n",
    "\n",
    "**Revenue** = ∑$_{Month}$ 𝑈𝑛𝑖𝑡𝑃𝑟𝑖𝑐𝑒 𝑥 𝑄𝑢𝑎𝑛𝑡𝑖𝑡𝑦\n",
    "* Group by YearMonth\n",
    "* Calculate Order Value for each row using Price x Quantity formula\n",
    "* Sum Order Values grouped by YearMonth\n",
    "\n",
    "**2. Monthly Revenue Growth**\n",
    "* Month by month %age comparison of Revenue change\n",
    "\n",
    "**3. Active Customers**\n",
    "* Group by YearMonth\n",
    "* Unique count of Customer IDs per grouping\n",
    "\n",
    "**4. Monthly Order Count**\n",
    "* Group by YearMonth\n",
    "* Count Invoices per grouping\n",
    "\n",
    "**Average revenue per order**\n",
    "* Average monthly revenue\n",
    "\n",
    "In order to capture the key Monthly KPIs, the main retail_pp DataFrame has been used in order to generate a new Multi-Index DataFrame by:\n",
    "\n",
    "1. Grouping retail_pp based on Month and Year and creating an index based on these\n",
    "2. Renaming the index levels to Year and Month\n",
    "3. Generating and appending each new KPI on the new dataframe\n",
    "4. Plotting the KPIs using Line or Graph bars as required\n"
   ]
  },
  {
   "cell_type": "markdown",
   "id": "athletic-sequence",
   "metadata": {},
   "source": [
    "**3.1.1 Revenue per Transaction**"
   ]
  },
  {
   "cell_type": "code",
   "execution_count": 43,
   "id": "joint-flight",
   "metadata": {},
   "outputs": [
    {
     "data": {
      "text/html": [
       "<div>\n",
       "<style scoped>\n",
       "    .dataframe tbody tr th:only-of-type {\n",
       "        vertical-align: middle;\n",
       "    }\n",
       "\n",
       "    .dataframe tbody tr th {\n",
       "        vertical-align: top;\n",
       "    }\n",
       "\n",
       "    .dataframe thead th {\n",
       "        text-align: right;\n",
       "    }\n",
       "</style>\n",
       "<table border=\"1\" class=\"dataframe\">\n",
       "  <thead>\n",
       "    <tr style=\"text-align: right;\">\n",
       "      <th></th>\n",
       "      <th>InvoiceNo</th>\n",
       "      <th>StockCode</th>\n",
       "      <th>Description</th>\n",
       "      <th>Quantity</th>\n",
       "      <th>InvoiceDate</th>\n",
       "      <th>UnitPrice</th>\n",
       "      <th>CustomerID</th>\n",
       "      <th>Country</th>\n",
       "      <th>InvoiceNumber</th>\n",
       "      <th>InvoiceCode</th>\n",
       "      <th>Year</th>\n",
       "      <th>Month</th>\n",
       "      <th>YearMonth</th>\n",
       "      <th>Revenue</th>\n",
       "    </tr>\n",
       "    <tr>\n",
       "      <th>Date</th>\n",
       "      <th></th>\n",
       "      <th></th>\n",
       "      <th></th>\n",
       "      <th></th>\n",
       "      <th></th>\n",
       "      <th></th>\n",
       "      <th></th>\n",
       "      <th></th>\n",
       "      <th></th>\n",
       "      <th></th>\n",
       "      <th></th>\n",
       "      <th></th>\n",
       "      <th></th>\n",
       "      <th></th>\n",
       "    </tr>\n",
       "  </thead>\n",
       "  <tbody>\n",
       "    <tr>\n",
       "      <th>2010-12-01</th>\n",
       "      <td>536365</td>\n",
       "      <td>85123A</td>\n",
       "      <td>WHITE HANGING HEART T-LIGHT HOLDER</td>\n",
       "      <td>6</td>\n",
       "      <td>2010-12-01 08:26:00</td>\n",
       "      <td>2.55</td>\n",
       "      <td>17850.0</td>\n",
       "      <td>United Kingdom</td>\n",
       "      <td>536365</td>\n",
       "      <td>N</td>\n",
       "      <td>2010</td>\n",
       "      <td>12</td>\n",
       "      <td>201012</td>\n",
       "      <td>15.30</td>\n",
       "    </tr>\n",
       "    <tr>\n",
       "      <th>2010-12-01</th>\n",
       "      <td>536365</td>\n",
       "      <td>71053</td>\n",
       "      <td>WHITE METAL LANTERN</td>\n",
       "      <td>6</td>\n",
       "      <td>2010-12-01 08:26:00</td>\n",
       "      <td>3.39</td>\n",
       "      <td>17850.0</td>\n",
       "      <td>United Kingdom</td>\n",
       "      <td>536365</td>\n",
       "      <td>N</td>\n",
       "      <td>2010</td>\n",
       "      <td>12</td>\n",
       "      <td>201012</td>\n",
       "      <td>20.34</td>\n",
       "    </tr>\n",
       "    <tr>\n",
       "      <th>2010-12-01</th>\n",
       "      <td>536365</td>\n",
       "      <td>84406B</td>\n",
       "      <td>CREAM CUPID HEARTS COAT HANGER</td>\n",
       "      <td>8</td>\n",
       "      <td>2010-12-01 08:26:00</td>\n",
       "      <td>2.75</td>\n",
       "      <td>17850.0</td>\n",
       "      <td>United Kingdom</td>\n",
       "      <td>536365</td>\n",
       "      <td>N</td>\n",
       "      <td>2010</td>\n",
       "      <td>12</td>\n",
       "      <td>201012</td>\n",
       "      <td>22.00</td>\n",
       "    </tr>\n",
       "    <tr>\n",
       "      <th>2010-12-01</th>\n",
       "      <td>536365</td>\n",
       "      <td>84029G</td>\n",
       "      <td>KNITTED UNION FLAG HOT WATER BOTTLE</td>\n",
       "      <td>6</td>\n",
       "      <td>2010-12-01 08:26:00</td>\n",
       "      <td>3.39</td>\n",
       "      <td>17850.0</td>\n",
       "      <td>United Kingdom</td>\n",
       "      <td>536365</td>\n",
       "      <td>N</td>\n",
       "      <td>2010</td>\n",
       "      <td>12</td>\n",
       "      <td>201012</td>\n",
       "      <td>20.34</td>\n",
       "    </tr>\n",
       "    <tr>\n",
       "      <th>2010-12-01</th>\n",
       "      <td>536365</td>\n",
       "      <td>84029E</td>\n",
       "      <td>RED WOOLLY HOTTIE WHITE HEART.</td>\n",
       "      <td>6</td>\n",
       "      <td>2010-12-01 08:26:00</td>\n",
       "      <td>3.39</td>\n",
       "      <td>17850.0</td>\n",
       "      <td>United Kingdom</td>\n",
       "      <td>536365</td>\n",
       "      <td>N</td>\n",
       "      <td>2010</td>\n",
       "      <td>12</td>\n",
       "      <td>201012</td>\n",
       "      <td>20.34</td>\n",
       "    </tr>\n",
       "  </tbody>\n",
       "</table>\n",
       "</div>"
      ],
      "text/plain": [
       "           InvoiceNo StockCode                          Description  Quantity  \\\n",
       "Date                                                                            \n",
       "2010-12-01    536365    85123A   WHITE HANGING HEART T-LIGHT HOLDER         6   \n",
       "2010-12-01    536365     71053                  WHITE METAL LANTERN         6   \n",
       "2010-12-01    536365    84406B       CREAM CUPID HEARTS COAT HANGER         8   \n",
       "2010-12-01    536365    84029G  KNITTED UNION FLAG HOT WATER BOTTLE         6   \n",
       "2010-12-01    536365    84029E       RED WOOLLY HOTTIE WHITE HEART.         6   \n",
       "\n",
       "                   InvoiceDate  UnitPrice  CustomerID         Country  \\\n",
       "Date                                                                    \n",
       "2010-12-01 2010-12-01 08:26:00       2.55     17850.0  United Kingdom   \n",
       "2010-12-01 2010-12-01 08:26:00       3.39     17850.0  United Kingdom   \n",
       "2010-12-01 2010-12-01 08:26:00       2.75     17850.0  United Kingdom   \n",
       "2010-12-01 2010-12-01 08:26:00       3.39     17850.0  United Kingdom   \n",
       "2010-12-01 2010-12-01 08:26:00       3.39     17850.0  United Kingdom   \n",
       "\n",
       "           InvoiceNumber InvoiceCode  Year  Month  YearMonth  Revenue  \n",
       "Date                                                                   \n",
       "2010-12-01        536365           N  2010     12     201012    15.30  \n",
       "2010-12-01        536365           N  2010     12     201012    20.34  \n",
       "2010-12-01        536365           N  2010     12     201012    22.00  \n",
       "2010-12-01        536365           N  2010     12     201012    20.34  \n",
       "2010-12-01        536365           N  2010     12     201012    20.34  "
      ]
     },
     "execution_count": 43,
     "metadata": {},
     "output_type": "execute_result"
    }
   ],
   "source": [
    "retail_pp['Revenue'] = retail_pp.UnitPrice * retail_pp.Quantity\n",
    "retail_pp.head()"
   ]
  },
  {
   "cell_type": "markdown",
   "id": "fuzzy-check",
   "metadata": {},
   "source": [
    "**3.1.2 Monthly KPIs Dataframes**"
   ]
  },
  {
   "cell_type": "code",
   "execution_count": 44,
   "id": "otherwise-listening",
   "metadata": {},
   "outputs": [
    {
     "data": {
      "text/html": [
       "<div>\n",
       "<style scoped>\n",
       "    .dataframe tbody tr th:only-of-type {\n",
       "        vertical-align: middle;\n",
       "    }\n",
       "\n",
       "    .dataframe tbody tr th {\n",
       "        vertical-align: top;\n",
       "    }\n",
       "\n",
       "    .dataframe thead th {\n",
       "        text-align: right;\n",
       "    }\n",
       "</style>\n",
       "<table border=\"1\" class=\"dataframe\">\n",
       "  <thead>\n",
       "    <tr style=\"text-align: right;\">\n",
       "      <th></th>\n",
       "      <th></th>\n",
       "      <th>Revenue</th>\n",
       "      <th>MonthlyGrowth</th>\n",
       "      <th>ActiveCustomers</th>\n",
       "      <th>MonthlyOrderCount</th>\n",
       "      <th>MonthlyOrderAverage</th>\n",
       "    </tr>\n",
       "    <tr>\n",
       "      <th>Year</th>\n",
       "      <th>Month</th>\n",
       "      <th></th>\n",
       "      <th></th>\n",
       "      <th></th>\n",
       "      <th></th>\n",
       "      <th></th>\n",
       "    </tr>\n",
       "  </thead>\n",
       "  <tbody>\n",
       "    <tr>\n",
       "      <th>2010</th>\n",
       "      <th>12</th>\n",
       "      <td>554604.020</td>\n",
       "      <td>NaN</td>\n",
       "      <td>948</td>\n",
       "      <td>296362</td>\n",
       "      <td>20.655643</td>\n",
       "    </tr>\n",
       "    <tr>\n",
       "      <th rowspan=\"12\" valign=\"top\">2011</th>\n",
       "      <th>1</th>\n",
       "      <td>475074.380</td>\n",
       "      <td>-0.143399</td>\n",
       "      <td>783</td>\n",
       "      <td>269379</td>\n",
       "      <td>21.681014</td>\n",
       "    </tr>\n",
       "    <tr>\n",
       "      <th>2</th>\n",
       "      <td>436546.150</td>\n",
       "      <td>-0.081099</td>\n",
       "      <td>798</td>\n",
       "      <td>262833</td>\n",
       "      <td>21.438204</td>\n",
       "    </tr>\n",
       "    <tr>\n",
       "      <th>3</th>\n",
       "      <td>579964.610</td>\n",
       "      <td>0.328530</td>\n",
       "      <td>1020</td>\n",
       "      <td>344012</td>\n",
       "      <td>20.845540</td>\n",
       "    </tr>\n",
       "    <tr>\n",
       "      <th>4</th>\n",
       "      <td>426047.851</td>\n",
       "      <td>-0.265390</td>\n",
       "      <td>899</td>\n",
       "      <td>278585</td>\n",
       "      <td>18.365715</td>\n",
       "    </tr>\n",
       "    <tr>\n",
       "      <th>5</th>\n",
       "      <td>648251.080</td>\n",
       "      <td>0.521545</td>\n",
       "      <td>1079</td>\n",
       "      <td>367852</td>\n",
       "      <td>22.424626</td>\n",
       "    </tr>\n",
       "    <tr>\n",
       "      <th>6</th>\n",
       "      <td>608013.160</td>\n",
       "      <td>-0.062072</td>\n",
       "      <td>1051</td>\n",
       "      <td>356922</td>\n",
       "      <td>21.842691</td>\n",
       "    </tr>\n",
       "    <tr>\n",
       "      <th>7</th>\n",
       "      <td>574238.481</td>\n",
       "      <td>-0.055549</td>\n",
       "      <td>993</td>\n",
       "      <td>363418</td>\n",
       "      <td>20.879881</td>\n",
       "    </tr>\n",
       "    <tr>\n",
       "      <th>8</th>\n",
       "      <td>616368.000</td>\n",
       "      <td>0.073366</td>\n",
       "      <td>980</td>\n",
       "      <td>386612</td>\n",
       "      <td>22.282120</td>\n",
       "    </tr>\n",
       "    <tr>\n",
       "      <th>9</th>\n",
       "      <td>931440.372</td>\n",
       "      <td>0.511176</td>\n",
       "      <td>1302</td>\n",
       "      <td>537496</td>\n",
       "      <td>22.817118</td>\n",
       "    </tr>\n",
       "    <tr>\n",
       "      <th>10</th>\n",
       "      <td>974603.590</td>\n",
       "      <td>0.046340</td>\n",
       "      <td>1425</td>\n",
       "      <td>569666</td>\n",
       "      <td>19.224846</td>\n",
       "    </tr>\n",
       "    <tr>\n",
       "      <th>11</th>\n",
       "      <td>1132407.740</td>\n",
       "      <td>0.161916</td>\n",
       "      <td>1711</td>\n",
       "      <td>669915</td>\n",
       "      <td>17.262839</td>\n",
       "    </tr>\n",
       "    <tr>\n",
       "      <th>12</th>\n",
       "      <td>342506.380</td>\n",
       "      <td>-0.697541</td>\n",
       "      <td>686</td>\n",
       "      <td>203836</td>\n",
       "      <td>19.393374</td>\n",
       "    </tr>\n",
       "  </tbody>\n",
       "</table>\n",
       "</div>"
      ],
      "text/plain": [
       "                Revenue  MonthlyGrowth  ActiveCustomers  MonthlyOrderCount  \\\n",
       "Year Month                                                                   \n",
       "2010 12      554604.020            NaN              948             296362   \n",
       "2011 1       475074.380      -0.143399              783             269379   \n",
       "     2       436546.150      -0.081099              798             262833   \n",
       "     3       579964.610       0.328530             1020             344012   \n",
       "     4       426047.851      -0.265390              899             278585   \n",
       "     5       648251.080       0.521545             1079             367852   \n",
       "     6       608013.160      -0.062072             1051             356922   \n",
       "     7       574238.481      -0.055549              993             363418   \n",
       "     8       616368.000       0.073366              980             386612   \n",
       "     9       931440.372       0.511176             1302             537496   \n",
       "     10      974603.590       0.046340             1425             569666   \n",
       "     11     1132407.740       0.161916             1711             669915   \n",
       "     12      342506.380      -0.697541              686             203836   \n",
       "\n",
       "            MonthlyOrderAverage  \n",
       "Year Month                       \n",
       "2010 12               20.655643  \n",
       "2011 1                21.681014  \n",
       "     2                21.438204  \n",
       "     3                20.845540  \n",
       "     4                18.365715  \n",
       "     5                22.424626  \n",
       "     6                21.842691  \n",
       "     7                20.879881  \n",
       "     8                22.282120  \n",
       "     9                22.817118  \n",
       "     10               19.224846  \n",
       "     11               17.262839  \n",
       "     12               19.393374  "
      ]
     },
     "execution_count": 44,
     "metadata": {},
     "output_type": "execute_result"
    }
   ],
   "source": [
    "# 1. Revenue - Generate Monthly KPIs DataFrame by aggregating Revenue\n",
    "m_kpis = pd.DataFrame(retail_pp.groupby([retail_pp.index.year,retail_pp.index.month])['Revenue'].sum())\n",
    "\n",
    "# 2. Generate Monthly Growth rate based on previous months revenue\n",
    "m_kpis['MonthlyGrowth'] = m_kpis['Revenue'].pct_change()\n",
    "\n",
    "# 3. Generate Active Customers\n",
    "m_kpis['ActiveCustomers'] = pd.DataFrame(retail_pp.groupby([retail_pp.index.year,retail_pp.index.month])['CustomerID'].nunique())\n",
    "\n",
    "# 4. Generate Monthly Order Count (Quantity)\n",
    "m_kpis['MonthlyOrderCount'] = pd.DataFrame(retail_pp.groupby([retail_pp.index.year,retail_pp.index.month])['Quantity'].sum())\n",
    "\n",
    "# 5. Gengerate Monthly Order Average\n",
    "m_kpis['MonthlyOrderAverage'] =  pd.DataFrame(retail_pp.groupby([retail_pp.index.year,retail_pp.index.month])['Revenue'].mean())\n",
    "\n",
    "# Rename index to capture Year and Month\n",
    "m_kpis.index.set_names(['Year', 'Month'], inplace = True)\n",
    "m_kpis"
   ]
  },
  {
   "cell_type": "code",
   "execution_count": 45,
   "id": "handy-ground",
   "metadata": {},
   "outputs": [
    {
     "data": {
      "text/plain": [
       "MultiIndex([(2010, 12),\n",
       "            (2011,  1),\n",
       "            (2011,  2),\n",
       "            (2011,  3),\n",
       "            (2011,  4),\n",
       "            (2011,  5),\n",
       "            (2011,  6),\n",
       "            (2011,  7),\n",
       "            (2011,  8),\n",
       "            (2011,  9),\n",
       "            (2011, 10),\n",
       "            (2011, 11),\n",
       "            (2011, 12)],\n",
       "           names=['Year', 'Month'])"
      ]
     },
     "execution_count": 45,
     "metadata": {},
     "output_type": "execute_result"
    }
   ],
   "source": [
    "m_kpis.index"
   ]
  },
  {
   "cell_type": "markdown",
   "id": "piano-carry",
   "metadata": {},
   "source": [
    "**3.1.3 Plotting Key Monthly KPIs**"
   ]
  },
  {
   "cell_type": "code",
   "execution_count": 46,
   "id": "rental-edmonton",
   "metadata": {},
   "outputs": [
    {
     "data": {
      "image/png": "[encoded data removed]",
      "text/plain": [
       "<Figure size 864x432 with 1 Axes>"
      ]
     },
     "metadata": {
      "needs_background": "light"
     },
     "output_type": "display_data"
    }
   ],
   "source": [
    "# LIne graph to capture the monthly revenue\n",
    "m_kpis.plot.line(y = 'Revenue', title = 'Revenue per month', color = 'g',\n",
    "                marker = 'h',\n",
    "                markersize = 10, linewidth = 2,\n",
    "                markerfacecolor = 'white');"
   ]
  },
  {
   "cell_type": "code",
   "execution_count": 47,
   "id": "moved-addition",
   "metadata": {},
   "outputs": [
    {
     "data": {
      "image/png": "[encoded data removed]",
      "text/plain": [
       "<Figure size 864x432 with 1 Axes>"
      ]
     },
     "metadata": {
      "needs_background": "light"
     },
     "output_type": "display_data"
    }
   ],
   "source": [
    "# Horizontal Bar Graph to capture monthly revenue growth\n",
    "m_kpis.plot.barh(y='MonthlyGrowth',title='Monthly Growth', rot=0);"
   ]
  },
  {
   "cell_type": "code",
   "execution_count": 48,
   "id": "superior-surrey",
   "metadata": {},
   "outputs": [
    {
     "data": {
      "image/png": "[encoded data removed]",
      "text/plain": [
       "<Figure size 864x432 with 1 Axes>"
      ]
     },
     "metadata": {
      "needs_background": "light"
     },
     "output_type": "display_data"
    }
   ],
   "source": [
    "# Line graph to capture the active customers per month\n",
    "m_kpis.plot.line(y='ActiveCustomers', title='Active customers per month',color = 'b',\n",
    "         marker='h', \n",
    "         markersize=10, linewidth=2,\n",
    "         markerfacecolor='white');"
   ]
  },
  {
   "cell_type": "code",
   "execution_count": 49,
   "id": "suburban-grave",
   "metadata": {},
   "outputs": [
    {
     "data": {
      "image/png": "[encoded data removed]",
      "text/plain": [
       "<Figure size 864x432 with 1 Axes>"
      ]
     },
     "metadata": {
      "needs_background": "light"
     },
     "output_type": "display_data"
    }
   ],
   "source": [
    "# Horizontal Bar graph to capture number of quantities ordered per month\n",
    "m_kpis.plot.line(y='MonthlyOrderCount',title='Quantities ordered per Month',color = 'r',\n",
    "         marker='h', \n",
    "         markersize=10, linewidth=2,\n",
    "         markerfacecolor='white');"
   ]
  },
  {
   "cell_type": "code",
   "execution_count": 50,
   "id": "spatial-exhibit",
   "metadata": {},
   "outputs": [
    {
     "data": {
      "image/png": "[encoded data removed]",
      "text/plain": [
       "<Figure size 864x432 with 1 Axes>"
      ]
     },
     "metadata": {
      "needs_background": "light"
     },
     "output_type": "display_data"
    }
   ],
   "source": [
    "# Horizontal Bar graph to capture number of quantities ordered per month\n",
    "m_kpis.plot.barh(y='MonthlyOrderAverage',title='Monthly Order Average value');"
   ]
  },
  {
   "cell_type": "code",
   "execution_count": 51,
   "id": "assured-harbor",
   "metadata": {},
   "outputs": [
    {
     "data": {
      "image/png": "[encoded data removed]",
      "text/plain": [
       "<Figure size 864x432 with 1 Axes>"
      ]
     },
     "metadata": {
      "needs_background": "light"
     },
     "output_type": "display_data"
    }
   ],
   "source": [
    "x2 = [a for a in range(len(m_kpis.index))]\n",
    "plt.xlabel(\"YearMonth\")\n",
    "plt.ylabel(\"ActiveCustomers\")\n",
    "plt.title(\"Active Customers per Month\")\n",
    "plt.bar(x2, m_kpis.ActiveCustomers)\n",
    "plt.xticks(x2, m_kpis.index);"
   ]
  },
  {
   "cell_type": "code",
   "execution_count": 52,
   "id": "cosmetic-conflict",
   "metadata": {},
   "outputs": [
    {
     "data": {
      "image/png": "[encoded data removed]",
      "text/plain": [
       "<Figure size 864x432 with 1 Axes>"
      ]
     },
     "metadata": {
      "needs_background": "light"
     },
     "output_type": "display_data"
    }
   ],
   "source": [
    "x3 = [a for a in range(len(m_kpis.index))]\n",
    "plt.xlabel(\"YearMonth\")\n",
    "plt.ylabel(\"Monthly Quantity\")\n",
    "plt.title(\"Monthly Order count (Quantity)\")\n",
    "plt.bar(x3, m_kpis.MonthlyOrderCount)\n",
    "plt.xticks(x3, m_kpis.index);"
   ]
  },
  {
   "cell_type": "code",
   "execution_count": 53,
   "id": "outstanding-contract",
   "metadata": {},
   "outputs": [
    {
     "data": {
      "image/png": "[encoded data removed]",
      "text/plain": [
       "<Figure size 864x432 with 1 Axes>"
      ]
     },
     "metadata": {
      "needs_background": "light"
     },
     "output_type": "display_data"
    }
   ],
   "source": [
    "plt.xlabel(\"YearMonth\")\n",
    "plt.ylabel(\"Monthly Order Average\")\n",
    "plt.title(\"Average Revenue per Month\")\n",
    "plt.bar(x3, m_kpis.MonthlyOrderAverage)\n",
    "plt.xticks(x3, m_kpis.index);"
   ]
  },
  {
   "cell_type": "markdown",
   "id": "still-greensboro",
   "metadata": {},
   "source": [
    "## 3.2 Customer KPIs\n",
    "\n",
    "**1. New vs Old Customer**\n",
    "* Distinguishing the new from the existing customers\n",
    "\n",
    "**2. Monthly Retention Rate**\n",
    "* Calculating monthly revenue per customer\n",
    "* Construct a retention table per customer to understand the monthly activity\n",
    "* Calculate:\n",
    "    * Retained customers count from the previous month\n",
    "    * Total customer count from this month\n",
    "  "
   ]
  },
  {
   "cell_type": "code",
   "execution_count": 54,
   "id": "structured-scheme",
   "metadata": {},
   "outputs": [],
   "source": [
    "# Generate new dataframe based on CustomerID and its first purchase date\n",
    "customer_fist_purchase = retail_pp.groupby('CustomerID').InvoiceDate.min().reset_index()\n",
    "customer_fist_purchase.columns = ['CustomerID','FirstPurchaseDate']\n",
    "customer_fist_purchase['FirstPurchaseYearMonth'] = customer_fist_purchase['FirstPurchaseDate'].map(lambda date: 100*date.year + date.month)\n",
    "\n",
    "# Add first purchase date column to the new Customer Dataframe by merging with the original retail_pp\n",
    "retail_ppp = pd.merge(retail_pp, customer_fist_purchase, on='CustomerID')\n",
    "retail_ppp['Date'] = pd.to_datetime(retail_ppp.InvoiceDate.dt.date)\n",
    "retail_ppp.set_index('Date', inplace=True)\n",
    "retail_ppp.head()\n",
    "\n",
    "# Create new column \"User Type\" and default it to \"New\" as its values. Assign \"Existing\" value if \n",
    "# User's \"FirstPurchaseYearMonth\" was before the selected \"InvoiceYearMonth\"\n",
    "# Improvement: derive new or existing customers based on index.date :) \n",
    "retail_ppp['UserType'] = 'New'\n",
    "retail_ppp.loc[retail_ppp['YearMonth']>retail_ppp['FirstPurchaseYearMonth'],'UserType'] = 'Existing'"
   ]
  },
  {
   "cell_type": "code",
   "execution_count": 55,
   "id": "nervous-python",
   "metadata": {},
   "outputs": [
    {
     "data": {
      "text/html": [
       "<div>\n",
       "<style scoped>\n",
       "    .dataframe tbody tr th:only-of-type {\n",
       "        vertical-align: middle;\n",
       "    }\n",
       "\n",
       "    .dataframe tbody tr th {\n",
       "        vertical-align: top;\n",
       "    }\n",
       "\n",
       "    .dataframe thead th {\n",
       "        text-align: right;\n",
       "    }\n",
       "</style>\n",
       "<table border=\"1\" class=\"dataframe\">\n",
       "  <thead>\n",
       "    <tr style=\"text-align: right;\">\n",
       "      <th></th>\n",
       "      <th></th>\n",
       "      <th></th>\n",
       "      <th>Revenue</th>\n",
       "    </tr>\n",
       "    <tr>\n",
       "      <th>Year</th>\n",
       "      <th>Month</th>\n",
       "      <th>UserType</th>\n",
       "      <th></th>\n",
       "    </tr>\n",
       "  </thead>\n",
       "  <tbody>\n",
       "    <tr>\n",
       "      <th>2010</th>\n",
       "      <th>12</th>\n",
       "      <th>New</th>\n",
       "      <td>554604.020</td>\n",
       "    </tr>\n",
       "    <tr>\n",
       "      <th rowspan=\"24\" valign=\"top\">2011</th>\n",
       "      <th rowspan=\"2\" valign=\"top\">1</th>\n",
       "      <th>Existing</th>\n",
       "      <td>271616.520</td>\n",
       "    </tr>\n",
       "    <tr>\n",
       "      <th>New</th>\n",
       "      <td>203457.860</td>\n",
       "    </tr>\n",
       "    <tr>\n",
       "      <th rowspan=\"2\" valign=\"top\">2</th>\n",
       "      <th>Existing</th>\n",
       "      <td>287024.770</td>\n",
       "    </tr>\n",
       "    <tr>\n",
       "      <th>New</th>\n",
       "      <td>149521.380</td>\n",
       "    </tr>\n",
       "    <tr>\n",
       "      <th rowspan=\"2\" valign=\"top\">3</th>\n",
       "      <th>Existing</th>\n",
       "      <td>390034.530</td>\n",
       "    </tr>\n",
       "    <tr>\n",
       "      <th>New</th>\n",
       "      <td>189930.080</td>\n",
       "    </tr>\n",
       "    <tr>\n",
       "      <th rowspan=\"2\" valign=\"top\">4</th>\n",
       "      <th>Existing</th>\n",
       "      <td>306283.600</td>\n",
       "    </tr>\n",
       "    <tr>\n",
       "      <th>New</th>\n",
       "      <td>119764.251</td>\n",
       "    </tr>\n",
       "    <tr>\n",
       "      <th rowspan=\"2\" valign=\"top\">5</th>\n",
       "      <th>Existing</th>\n",
       "      <td>532392.340</td>\n",
       "    </tr>\n",
       "    <tr>\n",
       "      <th>New</th>\n",
       "      <td>115858.740</td>\n",
       "    </tr>\n",
       "    <tr>\n",
       "      <th rowspan=\"2\" valign=\"top\">6</th>\n",
       "      <th>Existing</th>\n",
       "      <td>515486.650</td>\n",
       "    </tr>\n",
       "    <tr>\n",
       "      <th>New</th>\n",
       "      <td>92526.510</td>\n",
       "    </tr>\n",
       "    <tr>\n",
       "      <th rowspan=\"2\" valign=\"top\">7</th>\n",
       "      <th>Existing</th>\n",
       "      <td>508355.610</td>\n",
       "    </tr>\n",
       "    <tr>\n",
       "      <th>New</th>\n",
       "      <td>65882.871</td>\n",
       "    </tr>\n",
       "    <tr>\n",
       "      <th rowspan=\"2\" valign=\"top\">8</th>\n",
       "      <th>Existing</th>\n",
       "      <td>538709.770</td>\n",
       "    </tr>\n",
       "    <tr>\n",
       "      <th>New</th>\n",
       "      <td>77658.230</td>\n",
       "    </tr>\n",
       "    <tr>\n",
       "      <th rowspan=\"2\" valign=\"top\">9</th>\n",
       "      <th>Existing</th>\n",
       "      <td>778161.781</td>\n",
       "    </tr>\n",
       "    <tr>\n",
       "      <th>New</th>\n",
       "      <td>153278.591</td>\n",
       "    </tr>\n",
       "    <tr>\n",
       "      <th rowspan=\"2\" valign=\"top\">10</th>\n",
       "      <th>Existing</th>\n",
       "      <td>819672.900</td>\n",
       "    </tr>\n",
       "    <tr>\n",
       "      <th>New</th>\n",
       "      <td>154930.690</td>\n",
       "    </tr>\n",
       "    <tr>\n",
       "      <th rowspan=\"2\" valign=\"top\">11</th>\n",
       "      <th>Existing</th>\n",
       "      <td>998176.360</td>\n",
       "    </tr>\n",
       "    <tr>\n",
       "      <th>New</th>\n",
       "      <td>134231.380</td>\n",
       "    </tr>\n",
       "    <tr>\n",
       "      <th rowspan=\"2\" valign=\"top\">12</th>\n",
       "      <th>Existing</th>\n",
       "      <td>315729.630</td>\n",
       "    </tr>\n",
       "    <tr>\n",
       "      <th>New</th>\n",
       "      <td>26776.750</td>\n",
       "    </tr>\n",
       "  </tbody>\n",
       "</table>\n",
       "</div>"
      ],
      "text/plain": [
       "                        Revenue\n",
       "Year Month UserType            \n",
       "2010 12    New       554604.020\n",
       "2011 1     Existing  271616.520\n",
       "           New       203457.860\n",
       "     2     Existing  287024.770\n",
       "           New       149521.380\n",
       "     3     Existing  390034.530\n",
       "           New       189930.080\n",
       "     4     Existing  306283.600\n",
       "           New       119764.251\n",
       "     5     Existing  532392.340\n",
       "           New       115858.740\n",
       "     6     Existing  515486.650\n",
       "           New        92526.510\n",
       "     7     Existing  508355.610\n",
       "           New        65882.871\n",
       "     8     Existing  538709.770\n",
       "           New        77658.230\n",
       "     9     Existing  778161.781\n",
       "           New       153278.591\n",
       "     10    Existing  819672.900\n",
       "           New       154930.690\n",
       "     11    Existing  998176.360\n",
       "           New       134231.380\n",
       "     12    Existing  315729.630\n",
       "           New        26776.750"
      ]
     },
     "execution_count": 55,
     "metadata": {},
     "output_type": "execute_result"
    }
   ],
   "source": [
    "# Calculate the Revenue per month for each user type\n",
    "# customer.groupby(['YearMonth','UserType'])['Revenue'].sum().reset_index()\n",
    "\n",
    "customer_kpis = pd.DataFrame(retail_ppp.groupby([retail_ppp.index.year,retail_ppp.index.month, retail_ppp.UserType])['Revenue'].sum())\n",
    "customer_kpis.index.set_names(['Year', 'Month', 'UserType'], inplace = True)\n",
    "customer_kpis"
   ]
  },
  {
   "cell_type": "code",
   "execution_count": 56,
   "id": "clinical-florida",
   "metadata": {},
   "outputs": [
    {
     "data": {
      "image/png": "[encoded data removed]",
      "text/plain": [
       "<Figure size 864x432 with 1 Axes>"
      ]
     },
     "metadata": {
      "needs_background": "light"
     },
     "output_type": "display_data"
    }
   ],
   "source": [
    "# Plot new vs existing customers\n",
    "customer_kpis.unstack().plot.bar(y='Revenue', title='New vs Existing CUstomer Monthly Revenue', rot=0);"
   ]
  },
  {
   "cell_type": "code",
   "execution_count": 57,
   "id": "stunning-finland",
   "metadata": {},
   "outputs": [
    {
     "data": {
      "text/html": [
       "<div>\n",
       "<style scoped>\n",
       "    .dataframe tbody tr th:only-of-type {\n",
       "        vertical-align: middle;\n",
       "    }\n",
       "\n",
       "    .dataframe tbody tr th {\n",
       "        vertical-align: top;\n",
       "    }\n",
       "\n",
       "    .dataframe thead th {\n",
       "        text-align: right;\n",
       "    }\n",
       "</style>\n",
       "<table border=\"1\" class=\"dataframe\">\n",
       "  <thead>\n",
       "    <tr style=\"text-align: right;\">\n",
       "      <th></th>\n",
       "      <th>InvoiceNo</th>\n",
       "      <th>StockCode</th>\n",
       "      <th>Description</th>\n",
       "      <th>Quantity</th>\n",
       "      <th>InvoiceDate</th>\n",
       "      <th>UnitPrice</th>\n",
       "      <th>CustomerID</th>\n",
       "      <th>Country</th>\n",
       "      <th>InvoiceNumber</th>\n",
       "      <th>InvoiceCode</th>\n",
       "      <th>Year</th>\n",
       "      <th>Month</th>\n",
       "      <th>YearMonth</th>\n",
       "      <th>Revenue</th>\n",
       "      <th>FirstPurchaseDate</th>\n",
       "      <th>FirstPurchaseYearMonth</th>\n",
       "      <th>UserType</th>\n",
       "    </tr>\n",
       "    <tr>\n",
       "      <th>Date</th>\n",
       "      <th></th>\n",
       "      <th></th>\n",
       "      <th></th>\n",
       "      <th></th>\n",
       "      <th></th>\n",
       "      <th></th>\n",
       "      <th></th>\n",
       "      <th></th>\n",
       "      <th></th>\n",
       "      <th></th>\n",
       "      <th></th>\n",
       "      <th></th>\n",
       "      <th></th>\n",
       "      <th></th>\n",
       "      <th></th>\n",
       "      <th></th>\n",
       "      <th></th>\n",
       "    </tr>\n",
       "  </thead>\n",
       "  <tbody>\n",
       "    <tr>\n",
       "      <th>2010-12-01</th>\n",
       "      <td>536365</td>\n",
       "      <td>85123A</td>\n",
       "      <td>WHITE HANGING HEART T-LIGHT HOLDER</td>\n",
       "      <td>6</td>\n",
       "      <td>2010-12-01 08:26:00</td>\n",
       "      <td>2.55</td>\n",
       "      <td>17850.0</td>\n",
       "      <td>United Kingdom</td>\n",
       "      <td>536365</td>\n",
       "      <td>N</td>\n",
       "      <td>2010</td>\n",
       "      <td>12</td>\n",
       "      <td>201012</td>\n",
       "      <td>15.30</td>\n",
       "      <td>2010-12-01 08:26:00</td>\n",
       "      <td>201012</td>\n",
       "      <td>New</td>\n",
       "    </tr>\n",
       "    <tr>\n",
       "      <th>2010-12-01</th>\n",
       "      <td>536365</td>\n",
       "      <td>71053</td>\n",
       "      <td>WHITE METAL LANTERN</td>\n",
       "      <td>6</td>\n",
       "      <td>2010-12-01 08:26:00</td>\n",
       "      <td>3.39</td>\n",
       "      <td>17850.0</td>\n",
       "      <td>United Kingdom</td>\n",
       "      <td>536365</td>\n",
       "      <td>N</td>\n",
       "      <td>2010</td>\n",
       "      <td>12</td>\n",
       "      <td>201012</td>\n",
       "      <td>20.34</td>\n",
       "      <td>2010-12-01 08:26:00</td>\n",
       "      <td>201012</td>\n",
       "      <td>New</td>\n",
       "    </tr>\n",
       "    <tr>\n",
       "      <th>2010-12-01</th>\n",
       "      <td>536365</td>\n",
       "      <td>84406B</td>\n",
       "      <td>CREAM CUPID HEARTS COAT HANGER</td>\n",
       "      <td>8</td>\n",
       "      <td>2010-12-01 08:26:00</td>\n",
       "      <td>2.75</td>\n",
       "      <td>17850.0</td>\n",
       "      <td>United Kingdom</td>\n",
       "      <td>536365</td>\n",
       "      <td>N</td>\n",
       "      <td>2010</td>\n",
       "      <td>12</td>\n",
       "      <td>201012</td>\n",
       "      <td>22.00</td>\n",
       "      <td>2010-12-01 08:26:00</td>\n",
       "      <td>201012</td>\n",
       "      <td>New</td>\n",
       "    </tr>\n",
       "    <tr>\n",
       "      <th>2010-12-01</th>\n",
       "      <td>536365</td>\n",
       "      <td>84029G</td>\n",
       "      <td>KNITTED UNION FLAG HOT WATER BOTTLE</td>\n",
       "      <td>6</td>\n",
       "      <td>2010-12-01 08:26:00</td>\n",
       "      <td>3.39</td>\n",
       "      <td>17850.0</td>\n",
       "      <td>United Kingdom</td>\n",
       "      <td>536365</td>\n",
       "      <td>N</td>\n",
       "      <td>2010</td>\n",
       "      <td>12</td>\n",
       "      <td>201012</td>\n",
       "      <td>20.34</td>\n",
       "      <td>2010-12-01 08:26:00</td>\n",
       "      <td>201012</td>\n",
       "      <td>New</td>\n",
       "    </tr>\n",
       "    <tr>\n",
       "      <th>2010-12-01</th>\n",
       "      <td>536365</td>\n",
       "      <td>84029E</td>\n",
       "      <td>RED WOOLLY HOTTIE WHITE HEART.</td>\n",
       "      <td>6</td>\n",
       "      <td>2010-12-01 08:26:00</td>\n",
       "      <td>3.39</td>\n",
       "      <td>17850.0</td>\n",
       "      <td>United Kingdom</td>\n",
       "      <td>536365</td>\n",
       "      <td>N</td>\n",
       "      <td>2010</td>\n",
       "      <td>12</td>\n",
       "      <td>201012</td>\n",
       "      <td>20.34</td>\n",
       "      <td>2010-12-01 08:26:00</td>\n",
       "      <td>201012</td>\n",
       "      <td>New</td>\n",
       "    </tr>\n",
       "  </tbody>\n",
       "</table>\n",
       "</div>"
      ],
      "text/plain": [
       "           InvoiceNo StockCode                          Description  Quantity  \\\n",
       "Date                                                                            \n",
       "2010-12-01    536365    85123A   WHITE HANGING HEART T-LIGHT HOLDER         6   \n",
       "2010-12-01    536365     71053                  WHITE METAL LANTERN         6   \n",
       "2010-12-01    536365    84406B       CREAM CUPID HEARTS COAT HANGER         8   \n",
       "2010-12-01    536365    84029G  KNITTED UNION FLAG HOT WATER BOTTLE         6   \n",
       "2010-12-01    536365    84029E       RED WOOLLY HOTTIE WHITE HEART.         6   \n",
       "\n",
       "                   InvoiceDate  UnitPrice  CustomerID         Country  \\\n",
       "Date                                                                    \n",
       "2010-12-01 2010-12-01 08:26:00       2.55     17850.0  United Kingdom   \n",
       "2010-12-01 2010-12-01 08:26:00       3.39     17850.0  United Kingdom   \n",
       "2010-12-01 2010-12-01 08:26:00       2.75     17850.0  United Kingdom   \n",
       "2010-12-01 2010-12-01 08:26:00       3.39     17850.0  United Kingdom   \n",
       "2010-12-01 2010-12-01 08:26:00       3.39     17850.0  United Kingdom   \n",
       "\n",
       "           InvoiceNumber InvoiceCode  Year  Month  YearMonth  Revenue  \\\n",
       "Date                                                                    \n",
       "2010-12-01        536365           N  2010     12     201012    15.30   \n",
       "2010-12-01        536365           N  2010     12     201012    20.34   \n",
       "2010-12-01        536365           N  2010     12     201012    22.00   \n",
       "2010-12-01        536365           N  2010     12     201012    20.34   \n",
       "2010-12-01        536365           N  2010     12     201012    20.34   \n",
       "\n",
       "             FirstPurchaseDate  FirstPurchaseYearMonth UserType  \n",
       "Date                                                             \n",
       "2010-12-01 2010-12-01 08:26:00                  201012      New  \n",
       "2010-12-01 2010-12-01 08:26:00                  201012      New  \n",
       "2010-12-01 2010-12-01 08:26:00                  201012      New  \n",
       "2010-12-01 2010-12-01 08:26:00                  201012      New  \n",
       "2010-12-01 2010-12-01 08:26:00                  201012      New  "
      ]
     },
     "execution_count": 57,
     "metadata": {},
     "output_type": "execute_result"
    }
   ],
   "source": [
    "retail_ppp.head()"
   ]
  },
  {
   "cell_type": "code",
   "execution_count": 58,
   "id": "dying-romance",
   "metadata": {},
   "outputs": [],
   "source": [
    "retail_ppp.to_csv(r'/home/oldkent/Desktop/Project /My-Project/My-Project\\\\retail_ppp.csv', index = True)"
   ]
  },
  {
   "cell_type": "markdown",
   "id": "upper-monitor",
   "metadata": {},
   "source": [
    "## 3.3 Product KPIs"
   ]
  },
  {
   "cell_type": "markdown",
   "id": "outside-corrections",
   "metadata": {},
   "source": [
    "Key product metric:\n",
    "1. Top selling products"
   ]
  },
  {
   "cell_type": "markdown",
   "id": "passing-generator",
   "metadata": {},
   "source": [
    "**3.3.1 Unique Product DataFrame**"
   ]
  },
  {
   "cell_type": "code",
   "execution_count": 59,
   "id": "burning-chorus",
   "metadata": {},
   "outputs": [
    {
     "data": {
      "text/html": [
       "<div>\n",
       "<style scoped>\n",
       "    .dataframe tbody tr th:only-of-type {\n",
       "        vertical-align: middle;\n",
       "    }\n",
       "\n",
       "    .dataframe tbody tr th {\n",
       "        vertical-align: top;\n",
       "    }\n",
       "\n",
       "    .dataframe thead th {\n",
       "        text-align: right;\n",
       "    }\n",
       "</style>\n",
       "<table border=\"1\" class=\"dataframe\">\n",
       "  <thead>\n",
       "    <tr style=\"text-align: right;\">\n",
       "      <th></th>\n",
       "      <th>StockCode</th>\n",
       "      <th>Revenue</th>\n",
       "    </tr>\n",
       "  </thead>\n",
       "  <tbody>\n",
       "    <tr>\n",
       "      <th>0</th>\n",
       "      <td>M</td>\n",
       "      <td>-58385.46</td>\n",
       "    </tr>\n",
       "    <tr>\n",
       "      <th>1</th>\n",
       "      <td>CRUK</td>\n",
       "      <td>-7933.43</td>\n",
       "    </tr>\n",
       "    <tr>\n",
       "      <th>2</th>\n",
       "      <td>D</td>\n",
       "      <td>-5696.22</td>\n",
       "    </tr>\n",
       "    <tr>\n",
       "      <th>3</th>\n",
       "      <td>22769</td>\n",
       "      <td>-87.80</td>\n",
       "    </tr>\n",
       "    <tr>\n",
       "      <th>4</th>\n",
       "      <td>79323W</td>\n",
       "      <td>-54.00</td>\n",
       "    </tr>\n",
       "  </tbody>\n",
       "</table>\n",
       "</div>"
      ],
      "text/plain": [
       "  StockCode   Revenue\n",
       "0         M -58385.46\n",
       "1      CRUK  -7933.43\n",
       "2         D  -5696.22\n",
       "3     22769    -87.80\n",
       "4    79323W    -54.00"
      ]
     },
     "execution_count": 59,
     "metadata": {},
     "output_type": "execute_result"
    }
   ],
   "source": [
    "# Create initial Product Dataframe based on each Product's revenue and sort products based on increasing revenue\n",
    "productKPIs = pd.DataFrame(retail_pp.groupby('StockCode').Revenue.sum().sort_values().reset_index())\n",
    "productKPIs.head()"
   ]
  },
  {
   "cell_type": "code",
   "execution_count": 60,
   "id": "ideal-thailand",
   "metadata": {},
   "outputs": [
    {
     "data": {
      "text/plain": [
       "(3684, 2)"
      ]
     },
     "execution_count": 60,
     "metadata": {},
     "output_type": "execute_result"
    }
   ],
   "source": [
    "productKPIs.shape"
   ]
  },
  {
   "cell_type": "code",
   "execution_count": 61,
   "id": "mental-telling",
   "metadata": {},
   "outputs": [
    {
     "data": {
      "text/html": [
       "<div>\n",
       "<style scoped>\n",
       "    .dataframe tbody tr th:only-of-type {\n",
       "        vertical-align: middle;\n",
       "    }\n",
       "\n",
       "    .dataframe tbody tr th {\n",
       "        vertical-align: top;\n",
       "    }\n",
       "\n",
       "    .dataframe thead th {\n",
       "        text-align: right;\n",
       "    }\n",
       "</style>\n",
       "<table border=\"1\" class=\"dataframe\">\n",
       "  <thead>\n",
       "    <tr style=\"text-align: right;\">\n",
       "      <th></th>\n",
       "      <th>StockCode</th>\n",
       "      <th>Description</th>\n",
       "    </tr>\n",
       "  </thead>\n",
       "  <tbody>\n",
       "    <tr>\n",
       "      <th>0</th>\n",
       "      <td>10002</td>\n",
       "      <td>INFLATABLE POLITICAL GLOBE</td>\n",
       "    </tr>\n",
       "    <tr>\n",
       "      <th>1</th>\n",
       "      <td>10080</td>\n",
       "      <td>GROOVY CACTUS INFLATABLE</td>\n",
       "    </tr>\n",
       "    <tr>\n",
       "      <th>2</th>\n",
       "      <td>10120</td>\n",
       "      <td>DOGGY RUBBER</td>\n",
       "    </tr>\n",
       "    <tr>\n",
       "      <th>3</th>\n",
       "      <td>10125</td>\n",
       "      <td>MINI FUNKY DESIGN TAPES</td>\n",
       "    </tr>\n",
       "    <tr>\n",
       "      <th>4</th>\n",
       "      <td>10133</td>\n",
       "      <td>COLOURING PENCILS BROWN TUBE</td>\n",
       "    </tr>\n",
       "  </tbody>\n",
       "</table>\n",
       "</div>"
      ],
      "text/plain": [
       "  StockCode                   Description\n",
       "0     10002   INFLATABLE POLITICAL GLOBE \n",
       "1     10080      GROOVY CACTUS INFLATABLE\n",
       "2     10120                  DOGGY RUBBER\n",
       "3     10125       MINI FUNKY DESIGN TAPES\n",
       "4     10133  COLOURING PENCILS BROWN TUBE"
      ]
     },
     "execution_count": 61,
     "metadata": {},
     "output_type": "execute_result"
    }
   ],
   "source": [
    "# Get descriptions of Stock Codes to new DataFrame\n",
    "group_by_objects = retail_pp.groupby('StockCode')\n",
    "codes = []\n",
    "descriptions = []\n",
    "\n",
    "for index, data in group_by_objects:\n",
    "    stock_code = data.values[0][1]\n",
    "    stock_description = data.values[0][2]\n",
    "    \n",
    "    codes.append(stock_code)\n",
    "    descriptions.append(stock_description)\n",
    "    \n",
    "lookup = pd.DataFrame(list(zip(codes, descriptions)), columns=['StockCode', 'Description'] )\n",
    "lookup.head()"
   ]
  },
  {
   "cell_type": "code",
   "execution_count": 62,
   "id": "numerous-atmosphere",
   "metadata": {},
   "outputs": [
    {
     "data": {
      "text/plain": [
       "(3684, 2)"
      ]
     },
     "execution_count": 62,
     "metadata": {},
     "output_type": "execute_result"
    }
   ],
   "source": [
    "lookup.shape"
   ]
  },
  {
   "cell_type": "code",
   "execution_count": 63,
   "id": "comparative-coordination",
   "metadata": {},
   "outputs": [
    {
     "data": {
      "text/html": [
       "<div>\n",
       "<style scoped>\n",
       "    .dataframe tbody tr th:only-of-type {\n",
       "        vertical-align: middle;\n",
       "    }\n",
       "\n",
       "    .dataframe tbody tr th {\n",
       "        vertical-align: top;\n",
       "    }\n",
       "\n",
       "    .dataframe thead th {\n",
       "        text-align: right;\n",
       "    }\n",
       "</style>\n",
       "<table border=\"1\" class=\"dataframe\">\n",
       "  <thead>\n",
       "    <tr style=\"text-align: right;\">\n",
       "      <th></th>\n",
       "      <th>StockCode</th>\n",
       "      <th>Revenue</th>\n",
       "      <th>Description</th>\n",
       "    </tr>\n",
       "  </thead>\n",
       "  <tbody>\n",
       "    <tr>\n",
       "      <th>0</th>\n",
       "      <td>M</td>\n",
       "      <td>-58385.46</td>\n",
       "      <td>Manual</td>\n",
       "    </tr>\n",
       "    <tr>\n",
       "      <th>1</th>\n",
       "      <td>CRUK</td>\n",
       "      <td>-7933.43</td>\n",
       "      <td>CRUK Commission</td>\n",
       "    </tr>\n",
       "    <tr>\n",
       "      <th>2</th>\n",
       "      <td>D</td>\n",
       "      <td>-5696.22</td>\n",
       "      <td>Discount</td>\n",
       "    </tr>\n",
       "    <tr>\n",
       "      <th>3</th>\n",
       "      <td>22769</td>\n",
       "      <td>-87.80</td>\n",
       "      <td>CHALKBOARD KITCHEN ORGANISER</td>\n",
       "    </tr>\n",
       "    <tr>\n",
       "      <th>4</th>\n",
       "      <td>79323W</td>\n",
       "      <td>-54.00</td>\n",
       "      <td>WHITE CHERRY LIGHTS</td>\n",
       "    </tr>\n",
       "  </tbody>\n",
       "</table>\n",
       "</div>"
      ],
      "text/plain": [
       "  StockCode   Revenue                   Description\n",
       "0         M -58385.46                        Manual\n",
       "1      CRUK  -7933.43               CRUK Commission\n",
       "2         D  -5696.22                      Discount\n",
       "3     22769    -87.80  CHALKBOARD KITCHEN ORGANISER\n",
       "4    79323W    -54.00           WHITE CHERRY LIGHTS"
      ]
     },
     "execution_count": 63,
     "metadata": {},
     "output_type": "execute_result"
    }
   ],
   "source": [
    "# Merge into new product dataframe\n",
    "p_kpis = pd.merge(productKPIs, lookup, on='StockCode')\n",
    "p_kpis.head()"
   ]
  },
  {
   "cell_type": "code",
   "execution_count": 64,
   "id": "rocky-trauma",
   "metadata": {},
   "outputs": [
    {
     "data": {
      "text/plain": [
       "(3684, 3)"
      ]
     },
     "execution_count": 64,
     "metadata": {},
     "output_type": "execute_result"
    }
   ],
   "source": [
    "p_kpis.shape"
   ]
  },
  {
   "cell_type": "markdown",
   "id": "manual-hybrid",
   "metadata": {},
   "source": [
    "**3.3.2 Product Metric Visualizations**"
   ]
  },
  {
   "cell_type": "code",
   "execution_count": 65,
   "id": "revolutionary-measure",
   "metadata": {},
   "outputs": [
    {
     "data": {
      "image/png": "[encoded data removed]",
      "text/plain": [
       "<Figure size 1440x1080 with 1 Axes>"
      ]
     },
     "metadata": {
      "needs_background": "light"
     },
     "output_type": "display_data"
    }
   ],
   "source": [
    "# Top 25 selling products\n",
    "p_kpis.tail(10).plot.barh(x='Description', y='Revenue',figsize=(20,15), title = 'Top Selling Products');"
   ]
  },
  {
   "cell_type": "code",
   "execution_count": 66,
   "id": "choice-corpus",
   "metadata": {},
   "outputs": [
    {
     "data": {
      "text/html": [
       "<div>\n",
       "<style scoped>\n",
       "    .dataframe tbody tr th:only-of-type {\n",
       "        vertical-align: middle;\n",
       "    }\n",
       "\n",
       "    .dataframe tbody tr th {\n",
       "        vertical-align: top;\n",
       "    }\n",
       "\n",
       "    .dataframe thead th {\n",
       "        text-align: right;\n",
       "    }\n",
       "</style>\n",
       "<table border=\"1\" class=\"dataframe\">\n",
       "  <thead>\n",
       "    <tr style=\"text-align: right;\">\n",
       "      <th></th>\n",
       "      <th>StockCode</th>\n",
       "      <th>Revenue</th>\n",
       "      <th>Description</th>\n",
       "    </tr>\n",
       "  </thead>\n",
       "  <tbody>\n",
       "    <tr>\n",
       "      <th>3664</th>\n",
       "      <td>85099F</td>\n",
       "      <td>30195.71</td>\n",
       "      <td>JUMBO BAG STRAWBERRY</td>\n",
       "    </tr>\n",
       "    <tr>\n",
       "      <th>3665</th>\n",
       "      <td>22960</td>\n",
       "      <td>31658.47</td>\n",
       "      <td>JAM MAKING SET WITH JARS</td>\n",
       "    </tr>\n",
       "    <tr>\n",
       "      <th>3666</th>\n",
       "      <td>22720</td>\n",
       "      <td>32607.80</td>\n",
       "      <td>SET OF 3 CAKE TINS PANTRY DESIGN</td>\n",
       "    </tr>\n",
       "    <tr>\n",
       "      <th>3667</th>\n",
       "      <td>82484</td>\n",
       "      <td>34307.06</td>\n",
       "      <td>WOOD BLACK BOARD ANT WHITE FINISH</td>\n",
       "    </tr>\n",
       "    <tr>\n",
       "      <th>3668</th>\n",
       "      <td>23284</td>\n",
       "      <td>34312.60</td>\n",
       "      <td>DOORMAT KEEP CALM AND COME IN</td>\n",
       "    </tr>\n",
       "    <tr>\n",
       "      <th>3669</th>\n",
       "      <td>23298</td>\n",
       "      <td>35691.14</td>\n",
       "      <td>SPOTTY BUNTING</td>\n",
       "    </tr>\n",
       "    <tr>\n",
       "      <th>3670</th>\n",
       "      <td>22386</td>\n",
       "      <td>36473.01</td>\n",
       "      <td>JUMBO BAG PINK POLKADOT</td>\n",
       "    </tr>\n",
       "    <tr>\n",
       "      <th>3671</th>\n",
       "      <td>23203</td>\n",
       "      <td>36607.98</td>\n",
       "      <td>JUMBO BAG DOILEY PATTERNS</td>\n",
       "    </tr>\n",
       "    <tr>\n",
       "      <th>3672</th>\n",
       "      <td>22197</td>\n",
       "      <td>36859.88</td>\n",
       "      <td>SMALL POPCORN HOLDER</td>\n",
       "    </tr>\n",
       "    <tr>\n",
       "      <th>3673</th>\n",
       "      <td>21137</td>\n",
       "      <td>39009.38</td>\n",
       "      <td>BLACK RECORD COVER FRAME</td>\n",
       "    </tr>\n",
       "    <tr>\n",
       "      <th>3674</th>\n",
       "      <td>22086</td>\n",
       "      <td>41500.48</td>\n",
       "      <td>PAPER CHAIN KIT 50'S CHRISTMAS</td>\n",
       "    </tr>\n",
       "    <tr>\n",
       "      <th>3675</th>\n",
       "      <td>79321</td>\n",
       "      <td>45936.81</td>\n",
       "      <td>CHILLI LIGHTS</td>\n",
       "    </tr>\n",
       "    <tr>\n",
       "      <th>3676</th>\n",
       "      <td>22502</td>\n",
       "      <td>46980.95</td>\n",
       "      <td>PICNIC BASKET WICKER SMALL</td>\n",
       "    </tr>\n",
       "    <tr>\n",
       "      <th>3677</th>\n",
       "      <td>23084</td>\n",
       "      <td>51137.80</td>\n",
       "      <td>RABBIT NIGHT LIGHT</td>\n",
       "    </tr>\n",
       "    <tr>\n",
       "      <th>3678</th>\n",
       "      <td>84879</td>\n",
       "      <td>56499.22</td>\n",
       "      <td>ASSORTED COLOUR BIRD ORNAMENT</td>\n",
       "    </tr>\n",
       "    <tr>\n",
       "      <th>3679</th>\n",
       "      <td>POST</td>\n",
       "      <td>66710.24</td>\n",
       "      <td>POSTAGE</td>\n",
       "    </tr>\n",
       "    <tr>\n",
       "      <th>3680</th>\n",
       "      <td>47566</td>\n",
       "      <td>67687.53</td>\n",
       "      <td>PARTY BUNTING</td>\n",
       "    </tr>\n",
       "    <tr>\n",
       "      <th>3681</th>\n",
       "      <td>85099B</td>\n",
       "      <td>83236.76</td>\n",
       "      <td>JUMBO BAG RED RETROSPOT</td>\n",
       "    </tr>\n",
       "    <tr>\n",
       "      <th>3682</th>\n",
       "      <td>85123A</td>\n",
       "      <td>93979.20</td>\n",
       "      <td>WHITE HANGING HEART T-LIGHT HOLDER</td>\n",
       "    </tr>\n",
       "    <tr>\n",
       "      <th>3683</th>\n",
       "      <td>22423</td>\n",
       "      <td>132870.40</td>\n",
       "      <td>REGENCY CAKESTAND 3 TIER</td>\n",
       "    </tr>\n",
       "  </tbody>\n",
       "</table>\n",
       "</div>"
      ],
      "text/plain": [
       "     StockCode    Revenue                         Description\n",
       "3664    85099F   30195.71                JUMBO BAG STRAWBERRY\n",
       "3665     22960   31658.47            JAM MAKING SET WITH JARS\n",
       "3666     22720   32607.80   SET OF 3 CAKE TINS PANTRY DESIGN \n",
       "3667     82484   34307.06   WOOD BLACK BOARD ANT WHITE FINISH\n",
       "3668     23284   34312.60       DOORMAT KEEP CALM AND COME IN\n",
       "3669     23298   35691.14                      SPOTTY BUNTING\n",
       "3670     22386   36473.01             JUMBO BAG PINK POLKADOT\n",
       "3671     23203   36607.98           JUMBO BAG DOILEY PATTERNS\n",
       "3672     22197   36859.88                SMALL POPCORN HOLDER\n",
       "3673     21137   39009.38            BLACK RECORD COVER FRAME\n",
       "3674     22086   41500.48     PAPER CHAIN KIT 50'S CHRISTMAS \n",
       "3675     79321   45936.81                       CHILLI LIGHTS\n",
       "3676     22502   46980.95          PICNIC BASKET WICKER SMALL\n",
       "3677     23084   51137.80                  RABBIT NIGHT LIGHT\n",
       "3678     84879   56499.22       ASSORTED COLOUR BIRD ORNAMENT\n",
       "3679      POST   66710.24                             POSTAGE\n",
       "3680     47566   67687.53                       PARTY BUNTING\n",
       "3681    85099B   83236.76             JUMBO BAG RED RETROSPOT\n",
       "3682    85123A   93979.20  WHITE HANGING HEART T-LIGHT HOLDER\n",
       "3683     22423  132870.40            REGENCY CAKESTAND 3 TIER"
      ]
     },
     "execution_count": 66,
     "metadata": {},
     "output_type": "execute_result"
    }
   ],
   "source": [
    "# Top 20 selling products (list)\n",
    "p_kpis.tail(20)"
   ]
  },
  {
   "cell_type": "markdown",
   "id": "supreme-rabbit",
   "metadata": {},
   "source": [
    "**3.3.3 Product Processing - Remove Negative Values**\n",
    "\n",
    "There seems that some of the product codes have valid transactions that refer to commissions, discounts or manual adjustments of the prices.\n",
    "\n",
    "They have to be removed so as to visualize the lowest selling products"
   ]
  },
  {
   "cell_type": "code",
   "execution_count": 67,
   "id": "express-alabama",
   "metadata": {},
   "outputs": [
    {
     "data": {
      "image/png": "[encoded data removed]",
      "text/plain": [
       "<Figure size 864x432 with 1 Axes>"
      ]
     },
     "metadata": {
      "needs_background": "light"
     },
     "output_type": "display_data"
    }
   ],
   "source": [
    "# Capturing the lowest selling products including the ones with negative prices that need to be removed for visualisation purposes\n",
    "p_kpis.head().plot.barh(x='Description', y='Revenue', title = 'Lowest Selling Products' );"
   ]
  },
  {
   "cell_type": "code",
   "execution_count": 68,
   "id": "naked-cuisine",
   "metadata": {},
   "outputs": [
    {
     "data": {
      "text/plain": [
       "(3684, 3)"
      ]
     },
     "execution_count": 68,
     "metadata": {},
     "output_type": "execute_result"
    }
   ],
   "source": [
    "p_kpis.shape"
   ]
  },
  {
   "cell_type": "code",
   "execution_count": 69,
   "id": "violent-boxing",
   "metadata": {},
   "outputs": [
    {
     "data": {
      "text/html": [
       "<div>\n",
       "<style scoped>\n",
       "    .dataframe tbody tr th:only-of-type {\n",
       "        vertical-align: middle;\n",
       "    }\n",
       "\n",
       "    .dataframe tbody tr th {\n",
       "        vertical-align: top;\n",
       "    }\n",
       "\n",
       "    .dataframe thead th {\n",
       "        text-align: right;\n",
       "    }\n",
       "</style>\n",
       "<table border=\"1\" class=\"dataframe\">\n",
       "  <thead>\n",
       "    <tr style=\"text-align: right;\">\n",
       "      <th></th>\n",
       "      <th>StockCode</th>\n",
       "      <th>Revenue</th>\n",
       "      <th>Description</th>\n",
       "    </tr>\n",
       "  </thead>\n",
       "  <tbody>\n",
       "    <tr>\n",
       "      <th>41</th>\n",
       "      <td>PADS</td>\n",
       "      <td>0.003</td>\n",
       "      <td>PADS TO MATCH ALL CUSHIONS</td>\n",
       "    </tr>\n",
       "    <tr>\n",
       "      <th>42</th>\n",
       "      <td>84227</td>\n",
       "      <td>0.420</td>\n",
       "      <td>HEN HOUSE W CHICK IN NEST</td>\n",
       "    </tr>\n",
       "    <tr>\n",
       "      <th>43</th>\n",
       "      <td>85047</td>\n",
       "      <td>0.800</td>\n",
       "      <td>WHITE BEADED GARLAND STRING 20LIGHT</td>\n",
       "    </tr>\n",
       "    <tr>\n",
       "      <th>44</th>\n",
       "      <td>21268</td>\n",
       "      <td>0.840</td>\n",
       "      <td>VINTAGE BLUE TINSEL REEL</td>\n",
       "    </tr>\n",
       "    <tr>\n",
       "      <th>45</th>\n",
       "      <td>90104</td>\n",
       "      <td>0.850</td>\n",
       "      <td>PURPLE FRANGIPANI HAIRCLIP</td>\n",
       "    </tr>\n",
       "  </tbody>\n",
       "</table>\n",
       "</div>"
      ],
      "text/plain": [
       "   StockCode  Revenue                          Description\n",
       "41      PADS    0.003           PADS TO MATCH ALL CUSHIONS\n",
       "42     84227    0.420            HEN HOUSE W CHICK IN NEST\n",
       "43     85047    0.800  WHITE BEADED GARLAND STRING 20LIGHT\n",
       "44     21268    0.840             VINTAGE BLUE TINSEL REEL\n",
       "45     90104    0.850           PURPLE FRANGIPANI HAIRCLIP"
      ]
     },
     "execution_count": 69,
     "metadata": {},
     "output_type": "execute_result"
    }
   ],
   "source": [
    "p_kpis.loc[p_kpis.Revenue>0].head()"
   ]
  },
  {
   "cell_type": "code",
   "execution_count": 70,
   "id": "intended-guitar",
   "metadata": {},
   "outputs": [
    {
     "data": {
      "image/png": "[encoded data removed]",
      "text/plain": [
       "<Figure size 1440x1080 with 1 Axes>"
      ]
     },
     "metadata": {
      "needs_background": "light"
     },
     "output_type": "display_data"
    }
   ],
   "source": [
    "p_kpis.loc[p_kpis.Revenue>0].head(10).plot.barh(x='Description', y='Revenue', figsize=(20,15), title = 'Lowest Selling Products' );"
   ]
  },
  {
   "cell_type": "markdown",
   "id": "cooperative-happening",
   "metadata": {},
   "source": [
    "## 4. RFM Modelling"
   ]
  },
  {
   "cell_type": "markdown",
   "id": "occasional-theory",
   "metadata": {},
   "source": [
    "RFM stands for Recency - Frequency - Monetary Value with the following definitions:\n",
    "\n",
    "1. **Recency** - Given a current or specific date in the past, when was the last time that the customer made a transaction\n",
    "2. **Frequency** - Given a specific time window, how many transactions did the customer do during that window\n",
    "3. **Monetary Value** or **Revenue** - Given a specific window, how much did the customer spend\n",
    "\n",
    "Based on the values above, one could construct various segments that classify the customers to:\n",
    "\n",
    "**Low value Segment**\n",
    "\n",
    "* R - Less active\n",
    "* F - Not very frequent\n",
    "* M - Low spend\n",
    "\n",
    "**Mid value Segment**\n",
    "\n",
    "* R - Medium or inconsistent activity\n",
    "* F - infrequent or frequent at specific times\n",
    "* M - varied spending but overall in the mid of the scale\n",
    "\n",
    "**High value Segment**\n",
    "\n",
    "* R - Very active\n",
    "* F - Very frequent\n",
    "* M - Great spending profile\n",
    "\n",
    "**Approach**\n",
    "\n",
    "Going forward the approach for deriving customer segments would be:\n",
    "\n",
    "* Calculate RFM scores individually and plot them to get an idea about their values and ranges\n",
    "* Use K-Means clustering unsupervised learning algorithm to create these 3 clusters above\n",
    "* Use techniques to optimise the number of clusters based on Silhouette and Inertia scores\n"
   ]
  },
  {
   "cell_type": "markdown",
   "id": "homeless-turkey",
   "metadata": {},
   "source": [
    "## 4.1 Recency Score"
   ]
  },
  {
   "cell_type": "code",
   "execution_count": 71,
   "id": "robust-aberdeen",
   "metadata": {},
   "outputs": [],
   "source": [
    "# Generate new dataframe based on unique CustomerID to keep track of RFM scores\n",
    "customer = pd.DataFrame(retail_pp['CustomerID'].unique())\n",
    "customer.columns = ['CustomerID']"
   ]
  },
  {
   "cell_type": "code",
   "execution_count": 72,
   "id": "gentle-noise",
   "metadata": {},
   "outputs": [],
   "source": [
    "# Generate new data frame based on latest Invoice date from retail_ppp dataframe per Customer (groupby = CustomerID)\n",
    "recency = retail_ppp.groupby('CustomerID').InvoiceDate.max().reset_index()\n",
    "recency.columns = ['CustomerID','LastPurchaseDate']\n",
    "\n",
    "# Set observation point as the last invoice date in the dataset\n",
    "LastInvoiceDate = recency['LastPurchaseDate'].max()\n",
    "\n",
    "# Generate Recency in days by subtracting the Last Purchase date for each customer from the Last Invoice Date\n",
    "recency['Recency'] = (LastInvoiceDate - recency['LastPurchaseDate']).dt.days"
   ]
  },
  {
   "cell_type": "code",
   "execution_count": 73,
   "id": "discrete-covering",
   "metadata": {},
   "outputs": [
    {
     "data": {
      "text/html": [
       "<div>\n",
       "<style scoped>\n",
       "    .dataframe tbody tr th:only-of-type {\n",
       "        vertical-align: middle;\n",
       "    }\n",
       "\n",
       "    .dataframe tbody tr th {\n",
       "        vertical-align: top;\n",
       "    }\n",
       "\n",
       "    .dataframe thead th {\n",
       "        text-align: right;\n",
       "    }\n",
       "</style>\n",
       "<table border=\"1\" class=\"dataframe\">\n",
       "  <thead>\n",
       "    <tr style=\"text-align: right;\">\n",
       "      <th></th>\n",
       "      <th>CustomerID</th>\n",
       "      <th>Recency</th>\n",
       "    </tr>\n",
       "  </thead>\n",
       "  <tbody>\n",
       "    <tr>\n",
       "      <th>0</th>\n",
       "      <td>17850.0</td>\n",
       "      <td>301</td>\n",
       "    </tr>\n",
       "    <tr>\n",
       "      <th>1</th>\n",
       "      <td>13047.0</td>\n",
       "      <td>31</td>\n",
       "    </tr>\n",
       "    <tr>\n",
       "      <th>2</th>\n",
       "      <td>12583.0</td>\n",
       "      <td>2</td>\n",
       "    </tr>\n",
       "    <tr>\n",
       "      <th>3</th>\n",
       "      <td>13748.0</td>\n",
       "      <td>95</td>\n",
       "    </tr>\n",
       "    <tr>\n",
       "      <th>4</th>\n",
       "      <td>15100.0</td>\n",
       "      <td>329</td>\n",
       "    </tr>\n",
       "  </tbody>\n",
       "</table>\n",
       "</div>"
      ],
      "text/plain": [
       "   CustomerID  Recency\n",
       "0     17850.0      301\n",
       "1     13047.0       31\n",
       "2     12583.0        2\n",
       "3     13748.0       95\n",
       "4     15100.0      329"
      ]
     },
     "execution_count": 73,
     "metadata": {},
     "output_type": "execute_result"
    }
   ],
   "source": [
    "# Consolidate to customer DataFrame\n",
    "customer = pd.merge(customer, recency[['CustomerID','Recency']], on='CustomerID')\n",
    "customer.head()"
   ]
  },
  {
   "cell_type": "code",
   "execution_count": 74,
   "id": "blank-convertible",
   "metadata": {},
   "outputs": [
    {
     "data": {
      "text/html": [
       "<div>\n",
       "<style scoped>\n",
       "    .dataframe tbody tr th:only-of-type {\n",
       "        vertical-align: middle;\n",
       "    }\n",
       "\n",
       "    .dataframe tbody tr th {\n",
       "        vertical-align: top;\n",
       "    }\n",
       "\n",
       "    .dataframe thead th {\n",
       "        text-align: right;\n",
       "    }\n",
       "</style>\n",
       "<table border=\"1\" class=\"dataframe\">\n",
       "  <thead>\n",
       "    <tr style=\"text-align: right;\">\n",
       "      <th></th>\n",
       "      <th>CustomerID</th>\n",
       "      <th>Recency</th>\n",
       "    </tr>\n",
       "  </thead>\n",
       "  <tbody>\n",
       "    <tr>\n",
       "      <th>count</th>\n",
       "      <td>4372.000000</td>\n",
       "      <td>4372.000000</td>\n",
       "    </tr>\n",
       "    <tr>\n",
       "      <th>mean</th>\n",
       "      <td>15299.677722</td>\n",
       "      <td>91.047118</td>\n",
       "    </tr>\n",
       "    <tr>\n",
       "      <th>std</th>\n",
       "      <td>1722.390705</td>\n",
       "      <td>100.765435</td>\n",
       "    </tr>\n",
       "    <tr>\n",
       "      <th>min</th>\n",
       "      <td>12346.000000</td>\n",
       "      <td>0.000000</td>\n",
       "    </tr>\n",
       "    <tr>\n",
       "      <th>25%</th>\n",
       "      <td>13812.750000</td>\n",
       "      <td>16.000000</td>\n",
       "    </tr>\n",
       "    <tr>\n",
       "      <th>50%</th>\n",
       "      <td>15300.500000</td>\n",
       "      <td>49.000000</td>\n",
       "    </tr>\n",
       "    <tr>\n",
       "      <th>75%</th>\n",
       "      <td>16778.250000</td>\n",
       "      <td>142.000000</td>\n",
       "    </tr>\n",
       "    <tr>\n",
       "      <th>max</th>\n",
       "      <td>18287.000000</td>\n",
       "      <td>373.000000</td>\n",
       "    </tr>\n",
       "  </tbody>\n",
       "</table>\n",
       "</div>"
      ],
      "text/plain": [
       "         CustomerID      Recency\n",
       "count   4372.000000  4372.000000\n",
       "mean   15299.677722    91.047118\n",
       "std     1722.390705   100.765435\n",
       "min    12346.000000     0.000000\n",
       "25%    13812.750000    16.000000\n",
       "50%    15300.500000    49.000000\n",
       "75%    16778.250000   142.000000\n",
       "max    18287.000000   373.000000"
      ]
     },
     "execution_count": 74,
     "metadata": {},
     "output_type": "execute_result"
    }
   ],
   "source": [
    "# Review statistics around Recency score \n",
    "customer.describe()"
   ]
  },
  {
   "cell_type": "code",
   "execution_count": 75,
   "id": "prime-cowboy",
   "metadata": {},
   "outputs": [
    {
     "data": {
      "image/png": "[encoded data removed]",
      "text/plain": [
       "<Figure size 864x432 with 1 Axes>"
      ]
     },
     "metadata": {
      "needs_background": "light"
     },
     "output_type": "display_data"
    }
   ],
   "source": [
    "# Plot Recency\n",
    "customer.Recency.plot.hist();\n",
    "plt.xlabel(\"Recency in days\")\n",
    "plt.ylabel(\"Number of Customers\")\n",
    "plt.title(\"Recency Histogram\");"
   ]
  },
  {
   "cell_type": "markdown",
   "id": "lasting-street",
   "metadata": {},
   "source": [
    "## 4.2 Frequency Score"
   ]
  },
  {
   "cell_type": "markdown",
   "id": "aggregate-cabin",
   "metadata": {},
   "source": [
    "Frequency metric reflects the number of orders per Customer, so a simple count of the invoices grouped per Customer ID would do"
   ]
  },
  {
   "cell_type": "code",
   "execution_count": 76,
   "id": "informal-irish",
   "metadata": {},
   "outputs": [
    {
     "data": {
      "text/html": [
       "<div>\n",
       "<style scoped>\n",
       "    .dataframe tbody tr th:only-of-type {\n",
       "        vertical-align: middle;\n",
       "    }\n",
       "\n",
       "    .dataframe tbody tr th {\n",
       "        vertical-align: top;\n",
       "    }\n",
       "\n",
       "    .dataframe thead th {\n",
       "        text-align: right;\n",
       "    }\n",
       "</style>\n",
       "<table border=\"1\" class=\"dataframe\">\n",
       "  <thead>\n",
       "    <tr style=\"text-align: right;\">\n",
       "      <th></th>\n",
       "      <th>CustomerID</th>\n",
       "      <th>Recency</th>\n",
       "      <th>Frequency</th>\n",
       "    </tr>\n",
       "  </thead>\n",
       "  <tbody>\n",
       "    <tr>\n",
       "      <th>0</th>\n",
       "      <td>17850.0</td>\n",
       "      <td>301</td>\n",
       "      <td>312</td>\n",
       "    </tr>\n",
       "    <tr>\n",
       "      <th>1</th>\n",
       "      <td>13047.0</td>\n",
       "      <td>31</td>\n",
       "      <td>196</td>\n",
       "    </tr>\n",
       "    <tr>\n",
       "      <th>2</th>\n",
       "      <td>12583.0</td>\n",
       "      <td>2</td>\n",
       "      <td>251</td>\n",
       "    </tr>\n",
       "    <tr>\n",
       "      <th>3</th>\n",
       "      <td>13748.0</td>\n",
       "      <td>95</td>\n",
       "      <td>28</td>\n",
       "    </tr>\n",
       "    <tr>\n",
       "      <th>4</th>\n",
       "      <td>15100.0</td>\n",
       "      <td>329</td>\n",
       "      <td>6</td>\n",
       "    </tr>\n",
       "  </tbody>\n",
       "</table>\n",
       "</div>"
      ],
      "text/plain": [
       "   CustomerID  Recency  Frequency\n",
       "0     17850.0      301        312\n",
       "1     13047.0       31        196\n",
       "2     12583.0        2        251\n",
       "3     13748.0       95         28\n",
       "4     15100.0      329          6"
      ]
     },
     "execution_count": 76,
     "metadata": {},
     "output_type": "execute_result"
    }
   ],
   "source": [
    "# Count number of invoices per CustomerID and store in new frequency Dataframe\n",
    "frequency = retail_ppp.groupby('CustomerID').InvoiceDate.count().reset_index()\n",
    "frequency.columns = ['CustomerID','Frequency']\n",
    "\n",
    "# Consolidate Frequency to existing Customer DataFrame\n",
    "customer = pd.merge(customer, frequency, on='CustomerID')\n",
    "customer.head()"
   ]
  },
  {
   "cell_type": "code",
   "execution_count": 77,
   "id": "opposite-mailing",
   "metadata": {},
   "outputs": [
    {
     "data": {
      "text/html": [
       "<div>\n",
       "<style scoped>\n",
       "    .dataframe tbody tr th:only-of-type {\n",
       "        vertical-align: middle;\n",
       "    }\n",
       "\n",
       "    .dataframe tbody tr th {\n",
       "        vertical-align: top;\n",
       "    }\n",
       "\n",
       "    .dataframe thead th {\n",
       "        text-align: right;\n",
       "    }\n",
       "</style>\n",
       "<table border=\"1\" class=\"dataframe\">\n",
       "  <thead>\n",
       "    <tr style=\"text-align: right;\">\n",
       "      <th></th>\n",
       "      <th>CustomerID</th>\n",
       "      <th>Recency</th>\n",
       "      <th>Frequency</th>\n",
       "    </tr>\n",
       "  </thead>\n",
       "  <tbody>\n",
       "    <tr>\n",
       "      <th>count</th>\n",
       "      <td>4372.000000</td>\n",
       "      <td>4372.000000</td>\n",
       "      <td>4372.000000</td>\n",
       "    </tr>\n",
       "    <tr>\n",
       "      <th>mean</th>\n",
       "      <td>15299.677722</td>\n",
       "      <td>91.047118</td>\n",
       "      <td>93.053294</td>\n",
       "    </tr>\n",
       "    <tr>\n",
       "      <th>std</th>\n",
       "      <td>1722.390705</td>\n",
       "      <td>100.765435</td>\n",
       "      <td>232.471608</td>\n",
       "    </tr>\n",
       "    <tr>\n",
       "      <th>min</th>\n",
       "      <td>12346.000000</td>\n",
       "      <td>0.000000</td>\n",
       "      <td>1.000000</td>\n",
       "    </tr>\n",
       "    <tr>\n",
       "      <th>25%</th>\n",
       "      <td>13812.750000</td>\n",
       "      <td>16.000000</td>\n",
       "      <td>17.000000</td>\n",
       "    </tr>\n",
       "    <tr>\n",
       "      <th>50%</th>\n",
       "      <td>15300.500000</td>\n",
       "      <td>49.000000</td>\n",
       "      <td>42.000000</td>\n",
       "    </tr>\n",
       "    <tr>\n",
       "      <th>75%</th>\n",
       "      <td>16778.250000</td>\n",
       "      <td>142.000000</td>\n",
       "      <td>102.000000</td>\n",
       "    </tr>\n",
       "    <tr>\n",
       "      <th>max</th>\n",
       "      <td>18287.000000</td>\n",
       "      <td>373.000000</td>\n",
       "      <td>7983.000000</td>\n",
       "    </tr>\n",
       "  </tbody>\n",
       "</table>\n",
       "</div>"
      ],
      "text/plain": [
       "         CustomerID      Recency    Frequency\n",
       "count   4372.000000  4372.000000  4372.000000\n",
       "mean   15299.677722    91.047118    93.053294\n",
       "std     1722.390705   100.765435   232.471608\n",
       "min    12346.000000     0.000000     1.000000\n",
       "25%    13812.750000    16.000000    17.000000\n",
       "50%    15300.500000    49.000000    42.000000\n",
       "75%    16778.250000   142.000000   102.000000\n",
       "max    18287.000000   373.000000  7983.000000"
      ]
     },
     "execution_count": 77,
     "metadata": {},
     "output_type": "execute_result"
    }
   ],
   "source": [
    "customer.describe()"
   ]
  },
  {
   "cell_type": "code",
   "execution_count": 78,
   "id": "freelance-journal",
   "metadata": {},
   "outputs": [
    {
     "data": {
      "text/plain": [
       "(4372,)"
      ]
     },
     "execution_count": 78,
     "metadata": {},
     "output_type": "execute_result"
    }
   ],
   "source": [
    "customer.Frequency.shape"
   ]
  },
  {
   "cell_type": "code",
   "execution_count": 79,
   "id": "tested-swaziland",
   "metadata": {},
   "outputs": [
    {
     "data": {
      "image/png": "[encoded data removed]",
      "text/plain": [
       "<Figure size 864x432 with 1 Axes>"
      ]
     },
     "metadata": {
      "needs_background": "light"
     },
     "output_type": "display_data"
    }
   ],
   "source": [
    "# Plot Frequency\n",
    "# Frequency seems to have some outliers, with vey high frequency, but very few in numbers\n",
    "# In order to plot effectively and not have a skewed diagram, we've sorted the frequencies\n",
    "# and cropped the top 72 values in our diagram\n",
    "customer.Frequency.sort_values().head(4300).plot.hist();\n",
    "plt.xlabel(\"Frequency in days\")\n",
    "plt.ylabel(\"Number of Customers\")\n",
    "plt.title(\"Frequency Histogram\");"
   ]
  },
  {
   "cell_type": "markdown",
   "id": "documented-electronics",
   "metadata": {},
   "source": [
    "## 4.3 Monetary Value Score (Revenue)"
   ]
  },
  {
   "cell_type": "code",
   "execution_count": 80,
   "id": "significant-husband",
   "metadata": {},
   "outputs": [
    {
     "data": {
      "text/html": [
       "<div>\n",
       "<style scoped>\n",
       "    .dataframe tbody tr th:only-of-type {\n",
       "        vertical-align: middle;\n",
       "    }\n",
       "\n",
       "    .dataframe tbody tr th {\n",
       "        vertical-align: top;\n",
       "    }\n",
       "\n",
       "    .dataframe thead th {\n",
       "        text-align: right;\n",
       "    }\n",
       "</style>\n",
       "<table border=\"1\" class=\"dataframe\">\n",
       "  <thead>\n",
       "    <tr style=\"text-align: right;\">\n",
       "      <th></th>\n",
       "      <th>CustomerID</th>\n",
       "      <th>Recency</th>\n",
       "      <th>Frequency</th>\n",
       "      <th>Revenue</th>\n",
       "    </tr>\n",
       "  </thead>\n",
       "  <tbody>\n",
       "    <tr>\n",
       "      <th>0</th>\n",
       "      <td>17850.0</td>\n",
       "      <td>301</td>\n",
       "      <td>312</td>\n",
       "      <td>5288.63</td>\n",
       "    </tr>\n",
       "    <tr>\n",
       "      <th>1</th>\n",
       "      <td>13047.0</td>\n",
       "      <td>31</td>\n",
       "      <td>196</td>\n",
       "      <td>3079.10</td>\n",
       "    </tr>\n",
       "    <tr>\n",
       "      <th>2</th>\n",
       "      <td>12583.0</td>\n",
       "      <td>2</td>\n",
       "      <td>251</td>\n",
       "      <td>7187.34</td>\n",
       "    </tr>\n",
       "    <tr>\n",
       "      <th>3</th>\n",
       "      <td>13748.0</td>\n",
       "      <td>95</td>\n",
       "      <td>28</td>\n",
       "      <td>948.25</td>\n",
       "    </tr>\n",
       "    <tr>\n",
       "      <th>4</th>\n",
       "      <td>15100.0</td>\n",
       "      <td>329</td>\n",
       "      <td>6</td>\n",
       "      <td>635.10</td>\n",
       "    </tr>\n",
       "  </tbody>\n",
       "</table>\n",
       "</div>"
      ],
      "text/plain": [
       "   CustomerID  Recency  Frequency  Revenue\n",
       "0     17850.0      301        312  5288.63\n",
       "1     13047.0       31        196  3079.10\n",
       "2     12583.0        2        251  7187.34\n",
       "3     13748.0       95         28   948.25\n",
       "4     15100.0      329          6   635.10"
      ]
     },
     "execution_count": 80,
     "metadata": {},
     "output_type": "execute_result"
    }
   ],
   "source": [
    "# Revenue per transaction has already been calculated as per KPIs section\n",
    "# Grouping revenue per Customer ID\n",
    "revenue = retail_ppp.groupby('CustomerID').Revenue.sum().reset_index()\n",
    "\n",
    "# Consolidate Revenue to existing Customer DataFrame\n",
    "customer = pd.merge(customer, revenue, on='CustomerID')\n",
    "customer.head()"
   ]
  },
  {
   "cell_type": "code",
   "execution_count": 81,
   "id": "neural-parts",
   "metadata": {},
   "outputs": [
    {
     "data": {
      "text/html": [
       "<div>\n",
       "<style scoped>\n",
       "    .dataframe tbody tr th:only-of-type {\n",
       "        vertical-align: middle;\n",
       "    }\n",
       "\n",
       "    .dataframe tbody tr th {\n",
       "        vertical-align: top;\n",
       "    }\n",
       "\n",
       "    .dataframe thead th {\n",
       "        text-align: right;\n",
       "    }\n",
       "</style>\n",
       "<table border=\"1\" class=\"dataframe\">\n",
       "  <thead>\n",
       "    <tr style=\"text-align: right;\">\n",
       "      <th></th>\n",
       "      <th>CustomerID</th>\n",
       "      <th>Recency</th>\n",
       "      <th>Frequency</th>\n",
       "      <th>Revenue</th>\n",
       "    </tr>\n",
       "  </thead>\n",
       "  <tbody>\n",
       "    <tr>\n",
       "      <th>count</th>\n",
       "      <td>4372.000000</td>\n",
       "      <td>4372.000000</td>\n",
       "      <td>4372.000000</td>\n",
       "      <td>4372.000000</td>\n",
       "    </tr>\n",
       "    <tr>\n",
       "      <th>mean</th>\n",
       "      <td>15299.677722</td>\n",
       "      <td>91.047118</td>\n",
       "      <td>93.053294</td>\n",
       "      <td>1898.459701</td>\n",
       "    </tr>\n",
       "    <tr>\n",
       "      <th>std</th>\n",
       "      <td>1722.390705</td>\n",
       "      <td>100.765435</td>\n",
       "      <td>232.471608</td>\n",
       "      <td>8219.345141</td>\n",
       "    </tr>\n",
       "    <tr>\n",
       "      <th>min</th>\n",
       "      <td>12346.000000</td>\n",
       "      <td>0.000000</td>\n",
       "      <td>1.000000</td>\n",
       "      <td>-4287.630000</td>\n",
       "    </tr>\n",
       "    <tr>\n",
       "      <th>25%</th>\n",
       "      <td>13812.750000</td>\n",
       "      <td>16.000000</td>\n",
       "      <td>17.000000</td>\n",
       "      <td>293.362500</td>\n",
       "    </tr>\n",
       "    <tr>\n",
       "      <th>50%</th>\n",
       "      <td>15300.500000</td>\n",
       "      <td>49.000000</td>\n",
       "      <td>42.000000</td>\n",
       "      <td>648.075000</td>\n",
       "    </tr>\n",
       "    <tr>\n",
       "      <th>75%</th>\n",
       "      <td>16778.250000</td>\n",
       "      <td>142.000000</td>\n",
       "      <td>102.000000</td>\n",
       "      <td>1611.725000</td>\n",
       "    </tr>\n",
       "    <tr>\n",
       "      <th>max</th>\n",
       "      <td>18287.000000</td>\n",
       "      <td>373.000000</td>\n",
       "      <td>7983.000000</td>\n",
       "      <td>279489.020000</td>\n",
       "    </tr>\n",
       "  </tbody>\n",
       "</table>\n",
       "</div>"
      ],
      "text/plain": [
       "         CustomerID      Recency    Frequency        Revenue\n",
       "count   4372.000000  4372.000000  4372.000000    4372.000000\n",
       "mean   15299.677722    91.047118    93.053294    1898.459701\n",
       "std     1722.390705   100.765435   232.471608    8219.345141\n",
       "min    12346.000000     0.000000     1.000000   -4287.630000\n",
       "25%    13812.750000    16.000000    17.000000     293.362500\n",
       "50%    15300.500000    49.000000    42.000000     648.075000\n",
       "75%    16778.250000   142.000000   102.000000    1611.725000\n",
       "max    18287.000000   373.000000  7983.000000  279489.020000"
      ]
     },
     "execution_count": 81,
     "metadata": {},
     "output_type": "execute_result"
    }
   ],
   "source": [
    "customer.describe()"
   ]
  },
  {
   "cell_type": "code",
   "execution_count": 82,
   "id": "convertible-innocent",
   "metadata": {},
   "outputs": [
    {
     "data": {
      "text/html": [
       "<div>\n",
       "<style scoped>\n",
       "    .dataframe tbody tr th:only-of-type {\n",
       "        vertical-align: middle;\n",
       "    }\n",
       "\n",
       "    .dataframe tbody tr th {\n",
       "        vertical-align: top;\n",
       "    }\n",
       "\n",
       "    .dataframe thead th {\n",
       "        text-align: right;\n",
       "    }\n",
       "</style>\n",
       "<table border=\"1\" class=\"dataframe\">\n",
       "  <thead>\n",
       "    <tr style=\"text-align: right;\">\n",
       "      <th></th>\n",
       "      <th>CustomerID</th>\n",
       "      <th>Recency</th>\n",
       "      <th>Frequency</th>\n",
       "      <th>Revenue</th>\n",
       "    </tr>\n",
       "  </thead>\n",
       "  <tbody>\n",
       "    <tr>\n",
       "      <th>0</th>\n",
       "      <td>17850.0</td>\n",
       "      <td>301</td>\n",
       "      <td>312</td>\n",
       "      <td>5288.63</td>\n",
       "    </tr>\n",
       "    <tr>\n",
       "      <th>1</th>\n",
       "      <td>13047.0</td>\n",
       "      <td>31</td>\n",
       "      <td>196</td>\n",
       "      <td>3079.10</td>\n",
       "    </tr>\n",
       "    <tr>\n",
       "      <th>2</th>\n",
       "      <td>12583.0</td>\n",
       "      <td>2</td>\n",
       "      <td>251</td>\n",
       "      <td>7187.34</td>\n",
       "    </tr>\n",
       "    <tr>\n",
       "      <th>3</th>\n",
       "      <td>13748.0</td>\n",
       "      <td>95</td>\n",
       "      <td>28</td>\n",
       "      <td>948.25</td>\n",
       "    </tr>\n",
       "    <tr>\n",
       "      <th>4</th>\n",
       "      <td>15100.0</td>\n",
       "      <td>329</td>\n",
       "      <td>6</td>\n",
       "      <td>635.10</td>\n",
       "    </tr>\n",
       "  </tbody>\n",
       "</table>\n",
       "</div>"
      ],
      "text/plain": [
       "   CustomerID  Recency  Frequency  Revenue\n",
       "0     17850.0      301        312  5288.63\n",
       "1     13047.0       31        196  3079.10\n",
       "2     12583.0        2        251  7187.34\n",
       "3     13748.0       95         28   948.25\n",
       "4     15100.0      329          6   635.10"
      ]
     },
     "execution_count": 82,
     "metadata": {},
     "output_type": "execute_result"
    }
   ],
   "source": [
    "customer.head()"
   ]
  },
  {
   "cell_type": "code",
   "execution_count": 83,
   "id": "local-advertising",
   "metadata": {},
   "outputs": [
    {
     "data": {
      "image/png": "[encoded data removed]",
      "text/plain": [
       "<Figure size 864x432 with 1 Axes>"
      ]
     },
     "metadata": {
      "needs_background": "light"
     },
     "output_type": "display_data"
    }
   ],
   "source": [
    "# Plot Revenue\n",
    "customer.Revenue.sort_values().head(4200).plot.hist();\n",
    "plt.xlabel(\"Revenue in days\")\n",
    "plt.ylabel(\"Number of Customers\")\n",
    "plt.title(\"Revenue Histogram\");"
   ]
  },
  {
   "cell_type": "code",
   "execution_count": 84,
   "id": "macro-merchandise",
   "metadata": {},
   "outputs": [
    {
     "data": {
      "text/plain": [
       "Text(0, 0.5, 'Revenue')"
      ]
     },
     "execution_count": 84,
     "metadata": {},
     "output_type": "execute_result"
    },
    {
     "data": {
      "image/png": "[encoded data removed]",
      "text/plain": [
       "<Figure size 864x864 with 3 Axes>"
      ]
     },
     "metadata": {
      "needs_background": "light"
     },
     "output_type": "display_data"
    }
   ],
   "source": [
    "fig, (ax4, ax5, ax6) = plt.subplots(3)\n",
    "fig.suptitle('Histograms')\n",
    "customer.Recency.plot.hist(ax = ax4, figsize = (12,12));\n",
    "customer.Frequency.sort_values().head(4300).plot.hist(ax = ax5);\n",
    "customer.Revenue.sort_values().head(4200).plot.hist(ax = ax6);\n",
    "ax4.set_ylabel('Recency')\n",
    "ax5.set_ylabel('Frequency')\n",
    "ax6.set_ylabel('Revenue')"
   ]
  },
  {
   "cell_type": "code",
   "execution_count": 85,
   "id": "parallel-stream",
   "metadata": {},
   "outputs": [
    {
     "data": {
      "image/png": "[encoded data removed]",
      "text/plain": [
       "<Figure size 864x720 with 3 Axes>"
      ]
     },
     "metadata": {
      "needs_background": "light"
     },
     "output_type": "display_data"
    }
   ],
   "source": [
    "# Finally lets review the scatter plots between the different scores\n",
    "\n",
    "fig, (ax1, ax2, ax3) = plt.subplots(3)\n",
    "fig.suptitle('Scatter plots between RFM scores')\n",
    "customer.plot.scatter(x = 'Recency', y = 'Frequency', ax = ax1, figsize = (12,10));\n",
    "customer.plot.scatter(x = 'Recency', y = 'Revenue', ax = ax2);\n",
    "customer.plot.scatter(x = 'Frequency', y = 'Revenue', ax = ax3);"
   ]
  },
  {
   "cell_type": "markdown",
   "id": "innocent-frederick",
   "metadata": {},
   "source": [
    "## K-Means Clustering"
   ]
  },
  {
   "cell_type": "code",
   "execution_count": 86,
   "id": "moved-merchandise",
   "metadata": {},
   "outputs": [
    {
     "data": {
      "text/html": [
       "<div>\n",
       "<style scoped>\n",
       "    .dataframe tbody tr th:only-of-type {\n",
       "        vertical-align: middle;\n",
       "    }\n",
       "\n",
       "    .dataframe tbody tr th {\n",
       "        vertical-align: top;\n",
       "    }\n",
       "\n",
       "    .dataframe thead th {\n",
       "        text-align: right;\n",
       "    }\n",
       "</style>\n",
       "<table border=\"1\" class=\"dataframe\">\n",
       "  <thead>\n",
       "    <tr style=\"text-align: right;\">\n",
       "      <th></th>\n",
       "      <th>Recency</th>\n",
       "      <th>Frequency</th>\n",
       "      <th>Revenue</th>\n",
       "    </tr>\n",
       "  </thead>\n",
       "  <tbody>\n",
       "    <tr>\n",
       "      <th>0</th>\n",
       "      <td>301</td>\n",
       "      <td>312</td>\n",
       "      <td>5288.63</td>\n",
       "    </tr>\n",
       "    <tr>\n",
       "      <th>1</th>\n",
       "      <td>31</td>\n",
       "      <td>196</td>\n",
       "      <td>3079.10</td>\n",
       "    </tr>\n",
       "    <tr>\n",
       "      <th>2</th>\n",
       "      <td>2</td>\n",
       "      <td>251</td>\n",
       "      <td>7187.34</td>\n",
       "    </tr>\n",
       "    <tr>\n",
       "      <th>3</th>\n",
       "      <td>95</td>\n",
       "      <td>28</td>\n",
       "      <td>948.25</td>\n",
       "    </tr>\n",
       "    <tr>\n",
       "      <th>4</th>\n",
       "      <td>329</td>\n",
       "      <td>6</td>\n",
       "      <td>635.10</td>\n",
       "    </tr>\n",
       "  </tbody>\n",
       "</table>\n",
       "</div>"
      ],
      "text/plain": [
       "   Recency  Frequency  Revenue\n",
       "0      301        312  5288.63\n",
       "1       31        196  3079.10\n",
       "2        2        251  7187.34\n",
       "3       95         28   948.25\n",
       "4      329          6   635.10"
      ]
     },
     "execution_count": 86,
     "metadata": {},
     "output_type": "execute_result"
    }
   ],
   "source": [
    "# Creating input features variable\n",
    "X = customer.loc[:, 'Recency':'Revenue']\n",
    "X.head()"
   ]
  },
  {
   "cell_type": "code",
   "execution_count": 87,
   "id": "judicial-prize",
   "metadata": {},
   "outputs": [],
   "source": [
    "# Number of clusters (Configurable) - Initially we're attempting based on the 3 Segments (Low, Mid, High)\n",
    "k=3"
   ]
  },
  {
   "cell_type": "code",
   "execution_count": 88,
   "id": "valuable-rolling",
   "metadata": {},
   "outputs": [],
   "source": [
    "# Scaling input using StandardScaler\n",
    "from sklearn.preprocessing import StandardScaler\n",
    "scaler = StandardScaler()\n",
    "Xstd = pd.DataFrame(scaler.fit_transform(X), columns=X.columns)"
   ]
  },
  {
   "cell_type": "code",
   "execution_count": 89,
   "id": "critical-basement",
   "metadata": {},
   "outputs": [
    {
     "data": {
      "text/plain": [
       "KMeans(n_clusters=3, random_state=0)"
      ]
     },
     "execution_count": 89,
     "metadata": {},
     "output_type": "execute_result"
    }
   ],
   "source": [
    "# Run and train main K-means algorithm based on all input features\n",
    "from sklearn.cluster import KMeans\n",
    "model = KMeans(n_clusters=k, random_state=0)\n",
    "model.fit(Xstd)"
   ]
  },
  {
   "cell_type": "code",
   "execution_count": 90,
   "id": "static-membership",
   "metadata": {},
   "outputs": [
    {
     "name": "stdout",
     "output_type": "stream",
     "text": [
      "Assigned cluster labels: \n",
      " [0 1 1 ... 1 1 1]\n"
     ]
    }
   ],
   "source": [
    "# Review output cluster labels\n",
    "cluster_labels = model.labels_\n",
    "print(\"Assigned cluster labels: \\n\", cluster_labels)"
   ]
  },
  {
   "cell_type": "code",
   "execution_count": 91,
   "id": "hazardous-confidentiality",
   "metadata": {},
   "outputs": [
    {
     "name": "stdout",
     "output_type": "stream",
     "text": [
      "Location of centroids: \n",
      "[[ 1.53076400e+00 -2.80810509e-01 -1.74427230e-01]\n",
      " [-5.17104330e-01  5.17752777e-02  6.86884206e-03]\n",
      " [-8.63957712e-01  1.18416391e+01  1.42137753e+01]]\n"
     ]
    }
   ],
   "source": [
    "# Review Centroids of clusters\n",
    "centroids = model.cluster_centers_\n",
    "print(\"Location of centroids: \")\n",
    "print(centroids)"
   ]
  },
  {
   "cell_type": "code",
   "execution_count": 92,
   "id": "close-reynolds",
   "metadata": {},
   "outputs": [
    {
     "data": {
      "text/plain": [
       "array([ 1.530764  , -0.51710433, -0.86395771])"
      ]
     },
     "execution_count": 92,
     "metadata": {},
     "output_type": "execute_result"
    }
   ],
   "source": [
    "centroids[:,0]"
   ]
  },
  {
   "cell_type": "code",
   "execution_count": 93,
   "id": "technological-bleeding",
   "metadata": {},
   "outputs": [
    {
     "data": {
      "text/html": [
       "<div>\n",
       "<style scoped>\n",
       "    .dataframe tbody tr th:only-of-type {\n",
       "        vertical-align: middle;\n",
       "    }\n",
       "\n",
       "    .dataframe tbody tr th {\n",
       "        vertical-align: top;\n",
       "    }\n",
       "\n",
       "    .dataframe thead th {\n",
       "        text-align: right;\n",
       "    }\n",
       "</style>\n",
       "<table border=\"1\" class=\"dataframe\">\n",
       "  <thead>\n",
       "    <tr style=\"text-align: right;\">\n",
       "      <th></th>\n",
       "      <th>Recency</th>\n",
       "      <th>Frequency</th>\n",
       "      <th>Revenue</th>\n",
       "      <th>clusters</th>\n",
       "    </tr>\n",
       "  </thead>\n",
       "  <tbody>\n",
       "    <tr>\n",
       "      <th>0</th>\n",
       "      <td>2.083819</td>\n",
       "      <td>0.941929</td>\n",
       "      <td>0.412510</td>\n",
       "      <td>0</td>\n",
       "    </tr>\n",
       "    <tr>\n",
       "      <th>1</th>\n",
       "      <td>-0.595978</td>\n",
       "      <td>0.442886</td>\n",
       "      <td>0.143658</td>\n",
       "      <td>1</td>\n",
       "    </tr>\n",
       "    <tr>\n",
       "      <th>2</th>\n",
       "      <td>-0.883808</td>\n",
       "      <td>0.679501</td>\n",
       "      <td>0.643541</td>\n",
       "      <td>1</td>\n",
       "    </tr>\n",
       "    <tr>\n",
       "      <th>3</th>\n",
       "      <td>0.039233</td>\n",
       "      <td>-0.279865</td>\n",
       "      <td>-0.115620</td>\n",
       "      <td>1</td>\n",
       "    </tr>\n",
       "    <tr>\n",
       "      <th>4</th>\n",
       "      <td>2.361724</td>\n",
       "      <td>-0.374511</td>\n",
       "      <td>-0.153723</td>\n",
       "      <td>0</td>\n",
       "    </tr>\n",
       "  </tbody>\n",
       "</table>\n",
       "</div>"
      ],
      "text/plain": [
       "    Recency  Frequency   Revenue  clusters\n",
       "0  2.083819   0.941929  0.412510         0\n",
       "1 -0.595978   0.442886  0.143658         1\n",
       "2 -0.883808   0.679501  0.643541         1\n",
       "3  0.039233  -0.279865 -0.115620         1\n",
       "4  2.361724  -0.374511 -0.153723         0"
      ]
     },
     "execution_count": 93,
     "metadata": {},
     "output_type": "execute_result"
    }
   ],
   "source": [
    "# Append clusters to input features table\n",
    "Xstd['clusters'] = cluster_labels\n",
    "Xstd.head()"
   ]
  },
  {
   "cell_type": "code",
   "execution_count": 94,
   "id": "choice-injection",
   "metadata": {},
   "outputs": [
    {
     "data": {
      "image/png": "[encoded data removed]",
      "text/plain": [
       "<Figure size 864x720 with 3 Axes>"
      ]
     },
     "metadata": {
      "needs_background": "light"
     },
     "output_type": "display_data"
    }
   ],
   "source": [
    "# Scatter plot of data coloured by cluster they belong to\n",
    "fig, (ax4, ax5, ax6) = plt.subplots(3);\n",
    "fig.suptitle('Scatter Plot of Segments based on RFM scores');\n",
    "\n",
    "Xstd.plot.scatter(x = 'Recency', y = 'Frequency', c=Xstd['clusters'], colormap='viridis', ax=ax4, colorbar=False,figsize = (12,10));\n",
    "ax4.scatter(centroids[:,0], centroids[:,1], marker='o', s=350, alpha=.8, c=range(0,k), \n",
    "            cmap='viridis');\n",
    "\n",
    "Xstd.plot.scatter(x = 'Recency', y = 'Revenue', c=Xstd['clusters'], colormap='viridis', ax=ax5, colorbar=False);\n",
    "ax5.scatter(centroids[:,0], centroids[:,2], marker='o', s=350, alpha=.8, c=range(0,k), \n",
    "            cmap='viridis');\n",
    "\n",
    "Xstd.plot.scatter(x = 'Frequency', y = 'Revenue', c=Xstd['clusters'], colormap='viridis', ax=ax6, colorbar=False);\n",
    "ax6.scatter(centroids[:,1], centroids[:,2], marker='o', s=350, alpha=.8, c=range(0,k), \n",
    "            cmap='viridis');"
   ]
  },
  {
   "cell_type": "markdown",
   "id": "executive-camcorder",
   "metadata": {},
   "source": [
    "## 4.4 Evaluation Metrics - Silhouette and Inertia Scores"
   ]
  },
  {
   "cell_type": "code",
   "execution_count": 95,
   "id": "opened-granny",
   "metadata": {},
   "outputs": [
    {
     "data": {
      "text/plain": [
       "0.6498453574598603"
      ]
     },
     "execution_count": 95,
     "metadata": {},
     "output_type": "execute_result"
    }
   ],
   "source": [
    "from sklearn import metrics\n",
    "metrics.silhouette_score(Xstd, cluster_labels, metric='euclidean')"
   ]
  },
  {
   "cell_type": "code",
   "execution_count": 96,
   "id": "transsexual-inclusion",
   "metadata": {},
   "outputs": [
    {
     "data": {
      "text/plain": [
       "5408.4743802383255"
      ]
     },
     "execution_count": 96,
     "metadata": {},
     "output_type": "execute_result"
    }
   ],
   "source": [
    "model.inertia_"
   ]
  },
  {
   "cell_type": "code",
   "execution_count": 98,
   "id": "stainless-thanksgiving",
   "metadata": {},
   "outputs": [
    {
     "data": {
      "image/png": "[encoded data removed]",
      "text/plain": [
       "<Figure size 864x432 with 1 Axes>"
      ]
     },
     "metadata": {
      "needs_background": "light"
     },
     "output_type": "display_data"
    }
   ],
   "source": [
    "# Plotting Silhouette Score\n",
    "from scikitplot.metrics import plot_silhouette\n",
    "plot_silhouette(Xstd, cluster_labels);"
   ]
  },
  {
   "cell_type": "markdown",
   "id": "spoken-genome",
   "metadata": {},
   "source": [
    "## 4.5 K-Means Optimization"
   ]
  },
  {
   "cell_type": "code",
   "execution_count": 99,
   "id": "conventional-appendix",
   "metadata": {},
   "outputs": [],
   "source": [
    "inertias = []\n",
    "ss = []\n",
    "\n",
    "for k in range(2,11):\n",
    "    \n",
    "    kmeans = KMeans(n_clusters=k, init='k-means++', max_iter=300, n_init=10, random_state=42)\n",
    "    kmeans.fit(Xstd)\n",
    "    inertias.append(kmeans.inertia_)\n",
    "    ss.append(metrics.silhouette_score(Xstd, kmeans.labels_, metric='euclidean'))"
   ]
  },
  {
   "cell_type": "code",
   "execution_count": 100,
   "id": "qualified-tonight",
   "metadata": {},
   "outputs": [
    {
     "data": {
      "image/png": "[encoded data removed]",
      "text/plain": [
       "<Figure size 864x432 with 1 Axes>"
      ]
     },
     "metadata": {
      "needs_background": "light"
     },
     "output_type": "display_data"
    }
   ],
   "source": [
    "plt.plot(range(2, 11), inertias)\n",
    "plt.title('Choosing the number of clusters')\n",
    "plt.xlabel('Number of clusters')\n",
    "plt.ylabel('Inertia')\n",
    "plt.show()"
   ]
  },
  {
   "cell_type": "code",
   "execution_count": 101,
   "id": "robust-dialogue",
   "metadata": {},
   "outputs": [
    {
     "data": {
      "text/plain": [
       "1255.3883122630775"
      ]
     },
     "execution_count": 101,
     "metadata": {},
     "output_type": "execute_result"
    }
   ],
   "source": [
    "# Based on Inertia graph the optimal K is 8 with the following Inertia value\n",
    "min(inertias)"
   ]
  },
  {
   "cell_type": "code",
   "execution_count": 102,
   "id": "accurate-appreciation",
   "metadata": {},
   "outputs": [
    {
     "data": {
      "text/plain": [
       "1255.3883122630775"
      ]
     },
     "execution_count": 102,
     "metadata": {},
     "output_type": "execute_result"
    }
   ],
   "source": [
    "inertias[8]"
   ]
  },
  {
   "cell_type": "code",
   "execution_count": 103,
   "id": "copyrighted-south",
   "metadata": {},
   "outputs": [
    {
     "data": {
      "image/png": "[encoded data removed]",
      "text/plain": [
       "<Figure size 864x432 with 1 Axes>"
      ]
     },
     "metadata": {
      "needs_background": "light"
     },
     "output_type": "display_data"
    }
   ],
   "source": [
    "plt.plot(range(2, 11), ss)\n",
    "plt.title('Choosing the number of clusters')\n",
    "plt.xlabel('Number of clusters')\n",
    "plt.ylabel('Silhouette Score')\n",
    "plt.show()"
   ]
  },
  {
   "cell_type": "code",
   "execution_count": 104,
   "id": "inside-perry",
   "metadata": {},
   "outputs": [
    {
     "data": {
      "text/plain": [
       "0.4536934305056901"
      ]
     },
     "execution_count": 104,
     "metadata": {},
     "output_type": "execute_result"
    }
   ],
   "source": [
    "# Based on elbow graph the optimal K value is 8 with Silhouette score:\n",
    "ss[8]"
   ]
  },
  {
   "cell_type": "markdown",
   "id": "unexpected-parts",
   "metadata": {},
   "source": [
    "## 4.6 Customer DataFrame and Visualization"
   ]
  },
  {
   "cell_type": "code",
   "execution_count": 105,
   "id": "scenic-snake",
   "metadata": {},
   "outputs": [
    {
     "data": {
      "text/plain": [
       "array([0, 1, 2], dtype=int32)"
      ]
     },
     "execution_count": 105,
     "metadata": {},
     "output_type": "execute_result"
    }
   ],
   "source": [
    "customer['Cluster'] = cluster_labels\n",
    "customer.Cluster.unique()"
   ]
  },
  {
   "cell_type": "code",
   "execution_count": 106,
   "id": "underlying-falls",
   "metadata": {},
   "outputs": [
    {
     "data": {
      "text/html": [
       "<div>\n",
       "<style scoped>\n",
       "    .dataframe tbody tr th:only-of-type {\n",
       "        vertical-align: middle;\n",
       "    }\n",
       "\n",
       "    .dataframe tbody tr th {\n",
       "        vertical-align: top;\n",
       "    }\n",
       "\n",
       "    .dataframe thead th {\n",
       "        text-align: right;\n",
       "    }\n",
       "</style>\n",
       "<table border=\"1\" class=\"dataframe\">\n",
       "  <thead>\n",
       "    <tr style=\"text-align: right;\">\n",
       "      <th></th>\n",
       "      <th>CustomerID</th>\n",
       "      <th>Recency</th>\n",
       "      <th>Frequency</th>\n",
       "      <th>Revenue</th>\n",
       "      <th>Cluster</th>\n",
       "      <th>Profile</th>\n",
       "    </tr>\n",
       "  </thead>\n",
       "  <tbody>\n",
       "    <tr>\n",
       "      <th>0</th>\n",
       "      <td>17850.0</td>\n",
       "      <td>301</td>\n",
       "      <td>312</td>\n",
       "      <td>5288.63</td>\n",
       "      <td>0</td>\n",
       "      <td>Low Value</td>\n",
       "    </tr>\n",
       "    <tr>\n",
       "      <th>1</th>\n",
       "      <td>13047.0</td>\n",
       "      <td>31</td>\n",
       "      <td>196</td>\n",
       "      <td>3079.10</td>\n",
       "      <td>1</td>\n",
       "      <td>Mid Value</td>\n",
       "    </tr>\n",
       "    <tr>\n",
       "      <th>2</th>\n",
       "      <td>12583.0</td>\n",
       "      <td>2</td>\n",
       "      <td>251</td>\n",
       "      <td>7187.34</td>\n",
       "      <td>1</td>\n",
       "      <td>Mid Value</td>\n",
       "    </tr>\n",
       "    <tr>\n",
       "      <th>3</th>\n",
       "      <td>13748.0</td>\n",
       "      <td>95</td>\n",
       "      <td>28</td>\n",
       "      <td>948.25</td>\n",
       "      <td>1</td>\n",
       "      <td>Mid Value</td>\n",
       "    </tr>\n",
       "    <tr>\n",
       "      <th>4</th>\n",
       "      <td>15100.0</td>\n",
       "      <td>329</td>\n",
       "      <td>6</td>\n",
       "      <td>635.10</td>\n",
       "      <td>0</td>\n",
       "      <td>Low Value</td>\n",
       "    </tr>\n",
       "  </tbody>\n",
       "</table>\n",
       "</div>"
      ],
      "text/plain": [
       "   CustomerID  Recency  Frequency  Revenue  Cluster    Profile\n",
       "0     17850.0      301        312  5288.63        0  Low Value\n",
       "1     13047.0       31        196  3079.10        1  Mid Value\n",
       "2     12583.0        2        251  7187.34        1  Mid Value\n",
       "3     13748.0       95         28   948.25        1  Mid Value\n",
       "4     15100.0      329          6   635.10        0  Low Value"
      ]
     },
     "execution_count": 106,
     "metadata": {},
     "output_type": "execute_result"
    }
   ],
   "source": [
    "customer['Profile'] = cluster_labels\n",
    "customer['Profile'].replace({0: \"Low Value\", 1: \"Mid Value\", 2: \"High Value\"}, inplace = True)\n",
    "customer.head()"
   ]
  },
  {
   "cell_type": "code",
   "execution_count": 107,
   "id": "oriental-mechanics",
   "metadata": {},
   "outputs": [
    {
     "data": {
      "text/plain": [
       "count          4372\n",
       "unique            3\n",
       "top       Mid Value\n",
       "freq           3257\n",
       "Name: Profile, dtype: object"
      ]
     },
     "execution_count": 107,
     "metadata": {},
     "output_type": "execute_result"
    }
   ],
   "source": [
    "customer.Profile.describe(include=['O'])"
   ]
  },
  {
   "cell_type": "code",
   "execution_count": 108,
   "id": "gothic-saint",
   "metadata": {},
   "outputs": [
    {
     "data": {
      "image/png": "[encoded data removed]",
      "text/plain": [
       "<Figure size 864x432 with 1 Axes>"
      ]
     },
     "metadata": {
      "needs_background": "light"
     },
     "output_type": "display_data"
    }
   ],
   "source": [
    "customer.groupby('Profile').Profile.count().plot.bar()\n",
    "plt.xlabel(\"Customer Segments\")\n",
    "plt.ylabel(\"Number of Customers\")\n",
    "plt.title(\"Segments Summary\");"
   ]
  },
  {
   "cell_type": "markdown",
   "id": "dependent-ozone",
   "metadata": {},
   "source": [
    "## 5. Summary and Conclusions\n",
    "\n",
    "Initially, going by instinct, we started off with 3 segments, but computationally it proved that 8 segments were the optimal. We can combine these in order to be able to communicate the results to the business better and do the following grouping:\n",
    "\n",
    "1. Low Segment: 0-2\n",
    "2. Mid Segment: 3-5\n",
    "3. High Segment: 6-8\n",
    "\n",
    "**Business Actions**\n",
    "\n",
    "Once we have a clear view of the Segments above, specific actions can be planned across the Business (Operations, Marketing, Product, etc...) to address any potential issues;\n",
    "\n",
    "1. High Value:\n",
    "* Improve Retention of these customers as they are the most valuable asset\n",
    "\n",
    "2. Mid Value:\n",
    "* Increase Rention and Frequency and bring them closer to the brand and the product so eventually they become High Value\n",
    "\n",
    "3. Low Value:\n",
    "* Increase Frequency and understand if there are any potential issues around the product or service\n",
    "\n"
   ]
  }
 ],
 "metadata": {
  "kernelspec": {
   "display_name": "Python 3",
   "language": "python",
   "name": "python3"
  },
  "language_info": {
   "codemirror_mode": {
    "name": "ipython",
    "version": 3
   },
   "file_extension": ".py",
   "mimetype": "text/x-python",
   "name": "python",
   "nbconvert_exporter": "python",
   "pygments_lexer": "ipython3",
   "version": "3.8.5"
  }
 },
 "nbformat": 4,
 "nbformat_minor": 5
}
